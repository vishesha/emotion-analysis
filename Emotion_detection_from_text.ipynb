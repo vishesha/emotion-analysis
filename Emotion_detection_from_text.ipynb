{
  "nbformat": 4,
  "nbformat_minor": 0,
  "metadata": {
    "colab": {
      "name": "Emotion_detection_from_text.ipynb",
      "provenance": [],
      "collapsed_sections": [],
      "machine_shape": "hm"
    },
    "kernelspec": {
      "name": "python3",
      "display_name": "Python 3"
    }
  },
  "cells": [
    {
      "cell_type": "markdown",
      "metadata": {
        "id": "view-in-github",
        "colab_type": "text"
      },
      "source": [
        "<a href=\"https://colab.research.google.com/github/karankishinani/Emotion-detection-from-text-using-PyTorch-and-Federated-Learning/blob/master/Emotion_detection_from_text_using_PyTorch.ipynb\" target=\"_parent\"><img src=\"https://colab.research.google.com/assets/colab-badge.svg\" alt=\"Open In Colab\"/></a>"
      ]
    },
    {
      "cell_type": "markdown",
      "metadata": {
        "id": "rufFNufqDmUO",
        "colab_type": "text"
      },
      "source": [
        "# Emotion detection from text using PyTorch and Federated Learning\n",
        "\n",
        "For this project, we are going to implement an NLP task of creating a model to detect the emotion from text. We will develop this using the PyTorch library and the Federated Learning framework for decentralized training. \n",
        "\n",
        "We will create an emotion detection for the following 5 emotions:\n",
        "\n",
        "| Emotion | Emoji   | Label   |\n",
        "|------|------|------|\n",
        "|Loving| ❤️| 0|\n",
        "|Playful| ⚽️| 1|\n",
        "|Happy| 😄| 2|\n",
        "|Annoyed| 😞| 3|\n",
        "|Foodie| 🍽| 4|\n",
        "\n",
        "\n",
        "## The Model\n",
        "We will build an LSTM model that takes as input word sequences that will take word ordering into account. We will use 50-dimensional [GloVe](https://nlp.stanford.edu/projects/glove/) pre-trained word embeddings to represent words. We will then feed those as an input into an LSTM that will predict the most appropiate emotion for the text. \n",
        "\n"
      ]
    },
    {
      "cell_type": "code",
      "metadata": {
        "id": "GQn1wO2qr01C",
        "colab_type": "code",
        "colab": {}
      },
      "source": [
        "import numpy as np\n",
        "import pandas as pd\n",
        "import matplotlib.pyplot as plt\n",
        "import csv\n",
        "import torch\n",
        "import torch.nn as nn\n",
        "import torch.nn.functional as F\n",
        "import torch.optim as optim"
      ],
      "execution_count": 0,
      "outputs": []
    },
    {
      "cell_type": "code",
      "metadata": {
        "id": "d04n5XXyf5Cj",
        "colab_type": "code",
        "colab": {}
      },
      "source": [
        "# HELPER FUNCTIONS\n",
        "\n",
        "def read_glove_vecs(glove_file):\n",
        "    with open(glove_file, 'r') as f:\n",
        "        words = set()\n",
        "        word_to_vec_map = {}\n",
        "        for line in f:\n",
        "            line = line.strip().split()\n",
        "            curr_word = line[0]\n",
        "            words.add(curr_word)\n",
        "            word_to_vec_map[curr_word] = np.array(line[1:], dtype=np.float64)\n",
        "        \n",
        "        i = 1\n",
        "        words_to_index = {}\n",
        "        index_to_words = {}\n",
        "        for w in sorted(words):\n",
        "            words_to_index[w] = i\n",
        "            index_to_words[i] = w\n",
        "            i = i + 1\n",
        "    return words_to_index, index_to_words, word_to_vec_map\n",
        "\n",
        "def convert_to_one_hot(Y, C):\n",
        "    Y = np.eye(C)[Y.reshape(-1)]\n",
        "    return Y\n",
        "\n",
        "def read_csv(filename):\n",
        "    phrase = []\n",
        "    emoji = []\n",
        "\n",
        "    with open (filename) as csvDataFile:\n",
        "        csvReader = csv.reader(csvDataFile)\n",
        "\n",
        "        for row in csvReader:\n",
        "            phrase.append(row[0])\n",
        "            emoji.append(row[1])\n",
        "\n",
        "    X = np.asarray(phrase)\n",
        "    Y = np.asarray(emoji, dtype=int)\n",
        "\n",
        "    return X, Y"
      ],
      "execution_count": 0,
      "outputs": []
    },
    {
      "cell_type": "code",
      "metadata": {
        "id": "RmqjSlwofS_i",
        "colab_type": "code",
        "colab": {}
      },
      "source": [
        "X_train, Y_train = read_csv('train.csv')\n",
        "X_test, Y_test = read_csv('test.csv')"
      ],
      "execution_count": 0,
      "outputs": []
    },
    {
      "cell_type": "code",
      "metadata": {
        "id": "Gt5z5eqVih4i",
        "colab_type": "code",
        "colab": {}
      },
      "source": [
        "Y_oh_train = convert_to_one_hot(Y_train, C = 5)\n",
        "Y_oh_test = convert_to_one_hot(Y_test, C = 5)"
      ],
      "execution_count": 0,
      "outputs": []
    },
    {
      "cell_type": "code",
      "metadata": {
        "id": "jDe5vX3qiYcB",
        "colab_type": "code",
        "colab": {}
      },
      "source": [
        "word_to_index, index_to_word, word_to_vec_map = read_glove_vecs('glove.6B.50d.txt')"
      ],
      "execution_count": 0,
      "outputs": []
    },
    {
      "cell_type": "code",
      "metadata": {
        "id": "fh0iyxn_jDCR",
        "colab_type": "code",
        "colab": {}
      },
      "source": [
        "def sentences_to_indices(X, word_to_index, max_len):\n",
        "    \"\"\"\n",
        "    Converts an array of sentences (strings) into an array of indices corresponding to words in the sentences.\n",
        "    \"\"\"\n",
        "    \n",
        "    m = X.shape[0]  # number of training examples\n",
        "    \n",
        "    # Initialize X_indices as a numpy matrix of zeros and the correct shape\n",
        "    X_indices = np.zeros((m,max_len))\n",
        "    \n",
        "    for i in range(m):  # loop over training examples\n",
        "        \n",
        "        # Convert the ith sentence in lower case and split into a list of words\n",
        "        sentence_words = X[i].lower().split()\n",
        "        \n",
        "        # Initialize j to 0\n",
        "        j = 0\n",
        "        \n",
        "        # Loop over the words of sentence_words\n",
        "        for w in sentence_words:\n",
        "            # Set the (i,j)th entry of X_indices to the index of the correct word.\n",
        "            X_indices[i, j] = word_to_index[w]\n",
        "            # Increment j to j + 1\n",
        "            j = j + 1\n",
        "    \n",
        "    return X_indices"
      ],
      "execution_count": 0,
      "outputs": []
    },
    {
      "cell_type": "code",
      "metadata": {
        "id": "LLyIs_aFjdfl",
        "colab_type": "code",
        "outputId": "9c957f2e-e331-4808-fde1-00de2caa0fae",
        "colab": {
          "base_uri": "https://localhost:8080/",
          "height": 85
        }
      },
      "source": [
        "X1 = np.array([\"lol\", \"I love you\", \"this is very yummy\"])\n",
        "X1_indices = sentences_to_indices(X1,word_to_index, max_len = 5)\n",
        "print(\"X1 =\", X1)\n",
        "print(\"X1_indices =\", X1_indices)"
      ],
      "execution_count": 11,
      "outputs": [
        {
          "output_type": "stream",
          "text": [
            "X1 = ['lol' 'I love you' 'this is very yummy']\n",
            "X1_indices = [[225122.      0.      0.      0.      0.]\n",
            " [185457. 226278. 394475.      0.      0.]\n",
            " [358160. 192973. 377946. 394957.      0.]]\n"
          ],
          "name": "stdout"
        }
      ]
    },
    {
      "cell_type": "markdown",
      "metadata": {
        "id": "UMKHhghrWcNn",
        "colab_type": "text"
      },
      "source": [
        "## Defining the Network using Pretrained Embedding Layer using GloVe Word Embeddings"
      ]
    },
    {
      "cell_type": "code",
      "metadata": {
        "id": "JZDWRfRkWhwB",
        "colab_type": "code",
        "colab": {}
      },
      "source": [
        "class NN(nn.Module):\n",
        "  def __init__(self, embedding, embedding_dim, hidden_dim, vocab_size, output_dim, batch_size):\n",
        "      super(NN, self).__init__()\n",
        "\n",
        "      self.batch_size = batch_size\n",
        "\n",
        "      self.hidden_dim = hidden_dim\n",
        "\n",
        "      self.word_embeddings = embedding\n",
        "\n",
        "      # The LSTM takes word embeddings as inputs, and outputs hidden states\n",
        "      # with dimensionality hidden_dim.\n",
        "      self.lstm = nn.LSTM(embedding_dim, \n",
        "                          hidden_dim, \n",
        "                          num_layers=2,\n",
        "                          dropout = 0.5,\n",
        "                          batch_first = True)\n",
        "\n",
        "      # The linear layer that maps from hidden state space to output space\n",
        "      self.fc = nn.Linear(hidden_dim, output_dim)\n",
        "\n",
        "  def forward(self, sentence):\n",
        "      \n",
        "      #sentence = sentence.type(torch.LongTensor)\n",
        "      #print ('Shape of sentence is:', sentence.shape)\n",
        "\n",
        "      sentence = sentence.to(device)\n",
        "\n",
        "      embeds = self.word_embeddings(sentence)\n",
        "      #print ('Embedding layer output shape', embeds.shape)\n",
        "\n",
        "      # initializing the hidden state to 0\n",
        "      #hidden=None\n",
        "      \n",
        "      h0 = torch.zeros(2, sentence.size(0), hidden_dim).requires_grad_().to(device)\n",
        "      c0 = torch.zeros(2, sentence.size(0), hidden_dim).requires_grad_().to(device)\n",
        "      \n",
        "      lstm_out, h = self.lstm(embeds, (h0, c0))\n",
        "      # get info from last timestep only\n",
        "      lstm_out = lstm_out[:, -1, :]\n",
        "      #print ('LSTM layer output shape', lstm_out.shape)\n",
        "      #print ('LSTM layer output ', lstm_out)\n",
        "\n",
        "      # Dropout\n",
        "      lstm_out = F.dropout(lstm_out, 0.5)\n",
        "\n",
        "      fc_out = self.fc(lstm_out)\n",
        "      #print ('FC layer output shape', fc_out.shape)\n",
        "      #print ('FC layer output ', fc_out)\n",
        "      \n",
        "      out = fc_out\n",
        "      out = F.softmax(out, dim=1)\n",
        "      #print ('Output layer output shape', out.shape)\n",
        "      #print ('Output layer output ', out)\n",
        "      return out\n",
        "  "
      ],
      "execution_count": 0,
      "outputs": []
    },
    {
      "cell_type": "markdown",
      "metadata": {
        "id": "QK1Bty6f5yQ3",
        "colab_type": "text"
      },
      "source": [
        "## Creating the Glove Embedding Layer"
      ]
    },
    {
      "cell_type": "code",
      "metadata": {
        "id": "g-UcwaXPgZyj",
        "colab_type": "code",
        "colab": {}
      },
      "source": [
        "def pretrained_embedding_layer(word_to_vec_map, word_to_index, non_trainable=True):\n",
        "    num_embeddings = len(word_to_index) + 1                   \n",
        "    embedding_dim = word_to_vec_map[\"cucumber\"].shape[0]  #  dimensionality of GloVe word vectors (= 50)\n",
        "\n",
        "    # Initialize the embedding matrix as a numpy array of zeros of shape (num_embeddings, embedding_dim)\n",
        "    weights_matrix = np.zeros((num_embeddings, embedding_dim))\n",
        "\n",
        "    # Set each row \"index\" of the embedding matrix to be the word vector representation of the \"index\"th word of the vocabulary\n",
        "    for word, index in word_to_index.items():\n",
        "        weights_matrix[index, :] = word_to_vec_map[word]\n",
        "\n",
        "    embed = nn.Embedding.from_pretrained(torch.from_numpy(weights_matrix).type(torch.FloatTensor), freeze=non_trainable)\n",
        "\n",
        "    return embed, num_embeddings, embedding_dim\n"
      ],
      "execution_count": 0,
      "outputs": []
    },
    {
      "cell_type": "markdown",
      "metadata": {
        "id": "C7urFqpr5ntp",
        "colab_type": "text"
      },
      "source": [
        "## Training the model"
      ]
    },
    {
      "cell_type": "code",
      "metadata": {
        "id": "BEkK7S6v8dVk",
        "colab_type": "code",
        "colab": {}
      },
      "source": [
        "device = torch.device(\"cuda:0\" if torch.cuda.is_available() else \"cpu\")\n",
        "\n",
        "def train(model, trainloader, criterion, optimizer, epochs=10):\n",
        "    \n",
        "    model.to(device)\n",
        "    running_loss = 0\n",
        "    \n",
        "    train_losses, test_losses, accuracies = [], [], []\n",
        "    for e in range(epochs):\n",
        "\n",
        "        running_loss = 0\n",
        "        \n",
        "        model.train()\n",
        "        \n",
        "        for sentences, labels in trainloader:\n",
        "\n",
        "            sentences, labels = sentences.to(device), labels.to(device)\n",
        "\n",
        "            # 1) erase previous gradients (if they exist)\n",
        "            optimizer.zero_grad()\n",
        "\n",
        "            # 2) make a prediction\n",
        "            pred = model.forward(sentences)\n",
        "\n",
        "            # 3) calculate how much we missed\n",
        "            loss = criterion(pred, labels)\n",
        "\n",
        "            # 4) figure out which weights caused us to miss\n",
        "            loss.backward()\n",
        "\n",
        "            # 5) change those weights\n",
        "            optimizer.step()\n",
        "\n",
        "            # 6) log our progress\n",
        "            running_loss += loss.item()\n",
        "        \n",
        "        \n",
        "        else:\n",
        "\n",
        "          model.eval()\n",
        "\n",
        "          test_loss = 0\n",
        "          accuracy = 0\n",
        "          \n",
        "          # Turn off gradients for validation, saves memory and computations\n",
        "          with torch.no_grad():\n",
        "              for sentences, labels in test_loader:\n",
        "                  sentences, labels = sentences.to(device), labels.to(device)\n",
        "                  log_ps = model(sentences)\n",
        "                  test_loss += criterion(log_ps, labels)\n",
        "                  \n",
        "                  ps = torch.exp(log_ps)\n",
        "                  top_p, top_class = ps.topk(1, dim=1)\n",
        "                  equals = top_class == labels.view(*top_class.shape)\n",
        "                  accuracy += torch.mean(equals.type(torch.FloatTensor))\n",
        "                  \n",
        "          train_losses.append(running_loss/len(train_loader))\n",
        "          test_losses.append(test_loss/len(test_loader))\n",
        "          accuracies.append(accuracy / len(test_loader) * 100)\n",
        "\n",
        "          print(\"Epoch: {}/{}.. \".format(e+1, epochs),\n",
        "                \"Training Loss: {:.3f}.. \".format(running_loss/len(train_loader)),\n",
        "                \"Test Loss: {:.3f}.. \".format(test_loss/len(test_loader)),\n",
        "                \"Test Accuracy: {:.3f}\".format(accuracy/len(test_loader)))\n",
        "        \n",
        "    # Plot\n",
        "    plt.figure(figsize=(20, 5))\n",
        "    plt.plot(train_losses, c='b', label='Training loss')\n",
        "    plt.plot(test_losses, c='r', label='Testing loss')\n",
        "    plt.xticks(np.arange(0, epochs))\n",
        "    plt.title('Losses')\n",
        "    plt.legend(loc='upper right')\n",
        "    plt.show()\n",
        "    plt.figure(figsize=(20, 5))\n",
        "    plt.plot(accuracies)\n",
        "    plt.xticks(np.arange(0, epochs))\n",
        "    plt.title('Accuracy')\n",
        "    plt.show()\n",
        "         \n",
        "\n"
      ],
      "execution_count": 0,
      "outputs": []
    },
    {
      "cell_type": "code",
      "metadata": {
        "id": "T3NRmEeMW5AO",
        "colab_type": "code",
        "colab": {
          "base_uri": "https://localhost:8080/",
          "height": 34
        },
        "outputId": "b1b0768f-60ac-47b1-c50b-63175a7c9b5b"
      },
      "source": [
        "X_train_indices.shape"
      ],
      "execution_count": 29,
      "outputs": [
        {
          "output_type": "execute_result",
          "data": {
            "text/plain": [
              "(132, 10)"
            ]
          },
          "metadata": {
            "tags": []
          },
          "execution_count": 29
        }
      ]
    },
    {
      "cell_type": "code",
      "metadata": {
        "id": "lbAOovNhW_jO",
        "colab_type": "code",
        "colab": {
          "base_uri": "https://localhost:8080/",
          "height": 34
        },
        "outputId": "24874f2f-adb8-4792-c5bb-0eab38b5ae0f"
      },
      "source": [
        "Y_train_oh.shape"
      ],
      "execution_count": 27,
      "outputs": [
        {
          "output_type": "execute_result",
          "data": {
            "text/plain": [
              "(132, 5)"
            ]
          },
          "metadata": {
            "tags": []
          },
          "execution_count": 27
        }
      ]
    },
    {
      "cell_type": "code",
      "metadata": {
        "id": "DIquh5VgXEIC",
        "colab_type": "code",
        "colab": {
          "base_uri": "https://localhost:8080/",
          "height": 34
        },
        "outputId": "3cda0572-6c06-4a58-a827-a38b251e7606"
      },
      "source": [
        "Y_train.shape"
      ],
      "execution_count": 28,
      "outputs": [
        {
          "output_type": "execute_result",
          "data": {
            "text/plain": [
              "(132,)"
            ]
          },
          "metadata": {
            "tags": []
          },
          "execution_count": 28
        }
      ]
    },
    {
      "cell_type": "code",
      "metadata": {
        "id": "kSjc_YrsXLeU",
        "colab_type": "code",
        "colab": {
          "base_uri": "https://localhost:8080/",
          "height": 34
        },
        "outputId": "33e919ef-b98e-4e75-825e-b3fc55fe59e6"
      },
      "source": [
        "X_test_indices.shape"
      ],
      "execution_count": 26,
      "outputs": [
        {
          "output_type": "execute_result",
          "data": {
            "text/plain": [
              "(56, 10)"
            ]
          },
          "metadata": {
            "tags": []
          },
          "execution_count": 26
        }
      ]
    },
    {
      "cell_type": "code",
      "metadata": {
        "id": "gww2RI6uXpPB",
        "colab_type": "code",
        "colab": {
          "base_uri": "https://localhost:8080/",
          "height": 34
        },
        "outputId": "933f2dfc-4541-40e6-9998-864c5d5df564"
      },
      "source": [
        "X_train.shape"
      ],
      "execution_count": 17,
      "outputs": [
        {
          "output_type": "execute_result",
          "data": {
            "text/plain": [
              "(132,)"
            ]
          },
          "metadata": {
            "tags": []
          },
          "execution_count": 17
        }
      ]
    },
    {
      "cell_type": "code",
      "metadata": {
        "id": "Qpy2rNG1X2JF",
        "colab_type": "code",
        "colab": {}
      },
      "source": [
        ""
      ],
      "execution_count": 0,
      "outputs": []
    },
    {
      "cell_type": "code",
      "metadata": {
        "id": "x89pyy47YFys",
        "colab_type": "code",
        "colab": {}
      },
      "source": [
        ""
      ],
      "execution_count": 0,
      "outputs": []
    },
    {
      "cell_type": "code",
      "metadata": {
        "id": "Fgb8si4s9Jb9",
        "colab_type": "code",
        "outputId": "aa150348-fa7f-4911-ddf4-31c50ca4005d",
        "colab": {
          "base_uri": "https://localhost:8080/",
          "height": 1206
        }
      },
      "source": [
        "import torch.utils.data\n",
        "\n",
        "maxLen = len(max(X_train, key=len).split())\n",
        "X_train_indices = sentences_to_indices(X_train, word_to_index, maxLen)\n",
        "Y_train_oh = convert_to_one_hot(Y_train, C = 5)\n",
        "\n",
        "X_test_indices = sentences_to_indices(X_test, word_to_index, maxLen)\n",
        "Y_test_oh = convert_to_one_hot(Y_test, C = 5)\n",
        "\n",
        "embedding, vocab_size, embedding_dim = pretrained_embedding_layer(word_to_vec_map, word_to_index, non_trainable=True)\n",
        "\n",
        "hidden_dim=128\n",
        "output_size=5\n",
        "batch_size = 32\n",
        "\n",
        "#print ('Embedding layer is ', embedding)\n",
        "#print ('Embedding layer weights ', embedding.weight.shape)\n",
        "\n",
        "model = NN(embedding, embedding_dim, hidden_dim, vocab_size, output_size, batch_size)\n",
        "criterion = nn.CrossEntropyLoss()\n",
        "optimizer = optim.Adam(model.parameters(), lr=0.002)\n",
        "epochs = 50\n",
        "train_dataset = torch.utils.data.TensorDataset(torch.tensor(X_train_indices).type(torch.LongTensor), torch.tensor(Y_train).type(torch.LongTensor))\n",
        "train_loader = torch.utils.data.DataLoader(train_dataset, batch_size=batch_size)\n",
        "\n",
        "test_dataset = torch.utils.data.TensorDataset(torch.tensor(X_test_indices).type(torch.LongTensor), torch.tensor(Y_test).type(torch.LongTensor))\n",
        "test_loader = torch.utils.data.DataLoader(test_dataset, batch_size=batch_size)\n",
        "\n",
        "train(model, train_loader, criterion, optimizer, epochs)"
      ],
      "execution_count": 18,
      "outputs": [
        {
          "output_type": "stream",
          "text": [
            "Epoch: 1/50..  Training Loss: 1.608..  Test Loss: 1.596..  Test Accuracy: 0.318\n",
            "Epoch: 2/50..  Training Loss: 1.583..  Test Loss: 1.569..  Test Accuracy: 0.276\n",
            "Epoch: 3/50..  Training Loss: 1.582..  Test Loss: 1.562..  Test Accuracy: 0.240\n",
            "Epoch: 4/50..  Training Loss: 1.558..  Test Loss: 1.545..  Test Accuracy: 0.344\n",
            "Epoch: 5/50..  Training Loss: 1.532..  Test Loss: 1.533..  Test Accuracy: 0.370\n",
            "Epoch: 6/50..  Training Loss: 1.496..  Test Loss: 1.490..  Test Accuracy: 0.411\n",
            "Epoch: 7/50..  Training Loss: 1.449..  Test Loss: 1.471..  Test Accuracy: 0.411\n",
            "Epoch: 8/50..  Training Loss: 1.386..  Test Loss: 1.457..  Test Accuracy: 0.432\n",
            "Epoch: 9/50..  Training Loss: 1.346..  Test Loss: 1.434..  Test Accuracy: 0.521\n",
            "Epoch: 10/50..  Training Loss: 1.410..  Test Loss: 1.509..  Test Accuracy: 0.396\n",
            "Epoch: 11/50..  Training Loss: 1.431..  Test Loss: 1.477..  Test Accuracy: 0.385\n",
            "Epoch: 12/50..  Training Loss: 1.361..  Test Loss: 1.446..  Test Accuracy: 0.453\n",
            "Epoch: 13/50..  Training Loss: 1.320..  Test Loss: 1.446..  Test Accuracy: 0.453\n",
            "Epoch: 14/50..  Training Loss: 1.330..  Test Loss: 1.452..  Test Accuracy: 0.443\n",
            "Epoch: 15/50..  Training Loss: 1.308..  Test Loss: 1.390..  Test Accuracy: 0.484\n",
            "Epoch: 16/50..  Training Loss: 1.260..  Test Loss: 1.361..  Test Accuracy: 0.526\n",
            "Epoch: 17/50..  Training Loss: 1.222..  Test Loss: 1.417..  Test Accuracy: 0.500\n",
            "Epoch: 18/50..  Training Loss: 1.233..  Test Loss: 1.433..  Test Accuracy: 0.469\n",
            "Epoch: 19/50..  Training Loss: 1.201..  Test Loss: 1.346..  Test Accuracy: 0.562\n",
            "Epoch: 20/50..  Training Loss: 1.189..  Test Loss: 1.317..  Test Accuracy: 0.589\n",
            "Epoch: 21/50..  Training Loss: 1.172..  Test Loss: 1.342..  Test Accuracy: 0.542\n",
            "Epoch: 22/50..  Training Loss: 1.174..  Test Loss: 1.308..  Test Accuracy: 0.589\n",
            "Epoch: 23/50..  Training Loss: 1.147..  Test Loss: 1.285..  Test Accuracy: 0.594\n",
            "Epoch: 24/50..  Training Loss: 1.141..  Test Loss: 1.276..  Test Accuracy: 0.589\n",
            "Epoch: 25/50..  Training Loss: 1.130..  Test Loss: 1.256..  Test Accuracy: 0.641\n",
            "Epoch: 26/50..  Training Loss: 1.135..  Test Loss: 1.241..  Test Accuracy: 0.667\n",
            "Epoch: 27/50..  Training Loss: 1.115..  Test Loss: 1.257..  Test Accuracy: 0.625\n",
            "Epoch: 28/50..  Training Loss: 1.110..  Test Loss: 1.240..  Test Accuracy: 0.656\n",
            "Epoch: 29/50..  Training Loss: 1.098..  Test Loss: 1.254..  Test Accuracy: 0.641\n",
            "Epoch: 30/50..  Training Loss: 1.081..  Test Loss: 1.244..  Test Accuracy: 0.672\n",
            "Epoch: 31/50..  Training Loss: 1.057..  Test Loss: 1.239..  Test Accuracy: 0.672\n",
            "Epoch: 32/50..  Training Loss: 1.035..  Test Loss: 1.258..  Test Accuracy: 0.641\n",
            "Epoch: 33/50..  Training Loss: 1.022..  Test Loss: 1.240..  Test Accuracy: 0.672\n",
            "Epoch: 34/50..  Training Loss: 1.018..  Test Loss: 1.234..  Test Accuracy: 0.656\n",
            "Epoch: 35/50..  Training Loss: 1.049..  Test Loss: 1.264..  Test Accuracy: 0.630\n",
            "Epoch: 36/50..  Training Loss: 1.048..  Test Loss: 1.348..  Test Accuracy: 0.542\n",
            "Epoch: 37/50..  Training Loss: 1.135..  Test Loss: 1.308..  Test Accuracy: 0.599\n",
            "Epoch: 38/50..  Training Loss: 1.235..  Test Loss: 1.279..  Test Accuracy: 0.620\n",
            "Epoch: 39/50..  Training Loss: 1.241..  Test Loss: 1.387..  Test Accuracy: 0.531\n",
            "Epoch: 40/50..  Training Loss: 1.305..  Test Loss: 1.509..  Test Accuracy: 0.391\n",
            "Epoch: 41/50..  Training Loss: 1.449..  Test Loss: 1.508..  Test Accuracy: 0.391\n",
            "Epoch: 42/50..  Training Loss: 1.447..  Test Loss: 1.464..  Test Accuracy: 0.458\n",
            "Epoch: 43/50..  Training Loss: 1.428..  Test Loss: 1.433..  Test Accuracy: 0.495\n",
            "Epoch: 44/50..  Training Loss: 1.407..  Test Loss: 1.386..  Test Accuracy: 0.531\n",
            "Epoch: 45/50..  Training Loss: 1.227..  Test Loss: 1.376..  Test Accuracy: 0.516\n",
            "Epoch: 46/50..  Training Loss: 1.326..  Test Loss: 1.309..  Test Accuracy: 0.589\n",
            "Epoch: 47/50..  Training Loss: 1.322..  Test Loss: 1.311..  Test Accuracy: 0.589\n",
            "Epoch: 48/50..  Training Loss: 1.284..  Test Loss: 1.427..  Test Accuracy: 0.469\n",
            "Epoch: 49/50..  Training Loss: 1.273..  Test Loss: 1.297..  Test Accuracy: 0.583\n",
            "Epoch: 50/50..  Training Loss: 1.226..  Test Loss: 1.265..  Test Accuracy: 0.625\n"
          ],
          "name": "stdout"
        },
        {
          "output_type": "display_data",
          "data": {
            "image/png": "[encoded data removed]",
            "text/plain": [
              "<Figure size 1440x360 with 1 Axes>"
            ]
          },
          "metadata": {
            "tags": []
          }
        },
        {
          "output_type": "display_data",
          "data": {
            "image/png": "[encoded data removed]",
            "text/plain": [
              "<Figure size 1440x360 with 1 Axes>"
            ]
          },
          "metadata": {
            "tags": []
          }
        }
      ]
    },
    {
      "cell_type": "markdown",
      "metadata": {
        "id": "9HHVnZ6m5_qV",
        "colab_type": "text"
      },
      "source": [
        "## Testing the Model Accuracy"
      ]
    },
    {
      "cell_type": "code",
      "metadata": {
        "id": "Vo9z4JBWARDf",
        "colab_type": "code",
        "outputId": "486cd65e-eb6c-4b09-f797-c2eef155093a",
        "colab": {
          "base_uri": "https://localhost:8080/",
          "height": 34
        }
      },
      "source": [
        "test_loss = 0\n",
        "accuracy = 0\n",
        "model.eval()\n",
        "with torch.no_grad():\n",
        "    for sentences, labels in test_loader:\n",
        "        sentences, labels = sentences.to(device), labels.to(device)\n",
        "        ps = model(sentences)\n",
        "        test_loss += criterion(ps, labels).item()\n",
        "\n",
        "        # Accuracy\n",
        "        top_p, top_class = ps.topk(1, dim=1)\n",
        "        equals = top_class == labels.view(*top_class.shape)\n",
        "        accuracy += torch.mean(equals.type(torch.FloatTensor))\n",
        "model.train()\n",
        "print(\"Test Loss: {:.3f}.. \".format(test_loss/len(test_loader)),\n",
        "      \"Test Accuracy: {:.3f}\".format(accuracy/len(test_loader)))\n",
        "running_loss = 0"
      ],
      "execution_count": 19,
      "outputs": [
        {
          "output_type": "stream",
          "text": [
            "Test Loss: 1.268..  Test Accuracy: 0.625\n"
          ],
          "name": "stdout"
        }
      ]
    },
    {
      "cell_type": "markdown",
      "metadata": {
        "id": "egc4D90I6C6b",
        "colab_type": "text"
      },
      "source": [
        "## Testing the model with any sentence"
      ]
    },
    {
      "cell_type": "code",
      "metadata": {
        "id": "i_xF0rcL6FRP",
        "colab_type": "code",
        "colab": {}
      },
      "source": [
        "def predict(input_text, print_sentence=True):\n",
        "  labels_dict = {\n",
        "\t\t0 : \"❤️ Loving\",\n",
        "\t\t1 : \"⚽️ Playful\",\n",
        "\t\t2 : \"😄 Happy\",\n",
        "\t\t3 : \"😞 Annoyed\",\n",
        "\t\t4 : \"🍽 Foodie\",\n",
        "\t}\n",
        "\n",
        "  # Convert the input to the model\n",
        "  x_test = np.array([input_text])\n",
        "  X_test_indices = sentences_to_indices(x_test, word_to_index, maxLen)\n",
        "  sentences = torch.tensor(X_test_indices).type(torch.LongTensor)\n",
        "\n",
        "  # Get the class label\n",
        "  ps = model(sentences)\n",
        "  top_p, top_class = ps.topk(1, dim=1)\n",
        "  label = int(top_class[0][0])\n",
        "\n",
        "  if print_sentence:\n",
        "    print(\"\\nInput Text: \\t\"+ input_text +'\\nEmotion: \\t'+  labels_dict[label])\n",
        "\n",
        "  return label"
      ],
      "execution_count": 0,
      "outputs": []
    },
    {
      "cell_type": "code",
      "metadata": {
        "id": "07i1a-R06J2n",
        "colab_type": "code",
        "outputId": "abce11f3-d141-43ca-b411-58af69b27bec",
        "colab": {
          "base_uri": "https://localhost:8080/",
          "height": 374
        }
      },
      "source": [
        "# Change the sentence below to see your prediction. Make sure all the words are in the Glove embeddings.  \n",
        "print(\"------------------------------------\")\n",
        "predict(\"I hate you\")\n",
        "predict(\"I want a pizza\")\n",
        "predict(\"Lets see the game\")\n",
        "predict(\"I love you Lisa\")\n",
        "predict(\"This is the best day of my life\")\n",
        "predict(\"leave me alone\")\n",
        "print(\"\\n------------------------------------\")"
      ],
      "execution_count": 21,
      "outputs": [
        {
          "output_type": "stream",
          "text": [
            "------------------------------------\n",
            "\n",
            "Input Text: \tI hate you\n",
            "Emotion: \t❤️ Loving\n",
            "\n",
            "Input Text: \tI want a pizza\n",
            "Emotion: \t🍽 Foodie\n",
            "\n",
            "Input Text: \tLets see the game\n",
            "Emotion: \t⚽️ Playful\n",
            "\n",
            "Input Text: \tI love you Lisa\n",
            "Emotion: \t❤️ Loving\n",
            "\n",
            "Input Text: \tThis is the best day of my life\n",
            "Emotion: \t😄 Happy\n",
            "\n",
            "Input Text: \tleave me alone\n",
            "Emotion: \t😄 Happy\n",
            "\n",
            "------------------------------------\n"
          ],
          "name": "stdout"
        }
      ]
    },
    {
      "cell_type": "markdown",
      "metadata": {
        "id": "Duzkz3k7Z5dq",
        "colab_type": "text"
      },
      "source": [
        "## Federated Learning\n",
        "\n"
      ]
    },
    {
      "cell_type": "code",
      "metadata": {
        "id": "Pjqi2aFxDTmA",
        "colab_type": "code",
        "outputId": "3a85496f-b994-4133-bc90-2a845c941d36",
        "colab": {
          "base_uri": "https://localhost:8080/",
          "height": 564
        }
      },
      "source": [
        "!pip install syft\n",
        "import syft as sy  # <-- import the Pysyft library\n",
        "hook = sy.TorchHook(torch)  # <-- hook PyTorch to add extra functionalities to support Federated Learning\n",
        "bob = sy.VirtualWorker(hook, id=\"bob\")  # <-- define remote worker bob\n",
        "alice = sy.VirtualWorker(hook, id=\"alice\")  # <-- define remote worker alice"
      ],
      "execution_count": 22,
      "outputs": [
        {
          "output_type": "stream",
          "text": [
            "Requirement already satisfied: syft in /usr/local/lib/python3.6/dist-packages (0.2.4)\n",
            "Requirement already satisfied: numpy~=1.18.1 in /usr/local/lib/python3.6/dist-packages (from syft) (1.18.2)\n",
            "Requirement already satisfied: tblib~=1.6.0 in /usr/local/lib/python3.6/dist-packages (from syft) (1.6.0)\n",
            "Requirement already satisfied: msgpack~=1.0.0 in /usr/local/lib/python3.6/dist-packages (from syft) (1.0.0)\n",
            "Requirement already satisfied: syft-proto~=0.2.5.a1 in /usr/local/lib/python3.6/dist-packages (from syft) (0.2.5a1)\n",
            "Requirement already satisfied: flask-socketio~=4.2.1 in /usr/local/lib/python3.6/dist-packages (from syft) (4.2.1)\n",
            "Requirement already satisfied: lz4~=3.0.2 in /usr/local/lib/python3.6/dist-packages (from syft) (3.0.2)\n",
            "Requirement already satisfied: Pillow~=6.2.2 in /usr/local/lib/python3.6/dist-packages (from syft) (6.2.2)\n",
            "Requirement already satisfied: websockets~=8.1.0 in /usr/local/lib/python3.6/dist-packages (from syft) (8.1)\n",
            "Requirement already satisfied: Flask~=1.1.1 in /usr/local/lib/python3.6/dist-packages (from syft) (1.1.1)\n",
            "Requirement already satisfied: scipy~=1.4.1 in /usr/local/lib/python3.6/dist-packages (from syft) (1.4.1)\n",
            "Requirement already satisfied: torch~=1.4.0 in /usr/local/lib/python3.6/dist-packages (from syft) (1.4.0)\n",
            "Requirement already satisfied: tornado==4.5.3 in /usr/local/lib/python3.6/dist-packages (from syft) (4.5.3)\n",
            "Requirement already satisfied: websocket-client~=0.57.0 in /usr/local/lib/python3.6/dist-packages (from syft) (0.57.0)\n",
            "Requirement already satisfied: torchvision~=0.5.0 in /usr/local/lib/python3.6/dist-packages (from syft) (0.5.0)\n",
            "Requirement already satisfied: phe~=1.4.0 in /usr/local/lib/python3.6/dist-packages (from syft) (1.4.0)\n",
            "Requirement already satisfied: requests~=2.22.0 in /usr/local/lib/python3.6/dist-packages (from syft) (2.22.0)\n",
            "Requirement already satisfied: protobuf>=3.11.1 in /usr/local/lib/python3.6/dist-packages (from syft-proto~=0.2.5.a1->syft) (3.11.3)\n",
            "Requirement already satisfied: python-socketio>=4.3.0 in /usr/local/lib/python3.6/dist-packages (from flask-socketio~=4.2.1->syft) (4.5.1)\n",
            "Requirement already satisfied: Werkzeug>=0.15 in /usr/local/lib/python3.6/dist-packages (from Flask~=1.1.1->syft) (1.0.1)\n",
            "Requirement already satisfied: click>=5.1 in /usr/local/lib/python3.6/dist-packages (from Flask~=1.1.1->syft) (7.1.1)\n",
            "Requirement already satisfied: itsdangerous>=0.24 in /usr/local/lib/python3.6/dist-packages (from Flask~=1.1.1->syft) (1.1.0)\n",
            "Requirement already satisfied: Jinja2>=2.10.1 in /usr/local/lib/python3.6/dist-packages (from Flask~=1.1.1->syft) (2.11.1)\n",
            "Requirement already satisfied: six in /usr/local/lib/python3.6/dist-packages (from websocket-client~=0.57.0->syft) (1.12.0)\n",
            "Requirement already satisfied: chardet<3.1.0,>=3.0.2 in /usr/local/lib/python3.6/dist-packages (from requests~=2.22.0->syft) (3.0.4)\n",
            "Requirement already satisfied: certifi>=2017.4.17 in /usr/local/lib/python3.6/dist-packages (from requests~=2.22.0->syft) (2019.11.28)\n",
            "Requirement already satisfied: idna<2.9,>=2.5 in /usr/local/lib/python3.6/dist-packages (from requests~=2.22.0->syft) (2.8)\n",
            "Requirement already satisfied: urllib3!=1.25.0,!=1.25.1,<1.26,>=1.21.1 in /usr/local/lib/python3.6/dist-packages (from requests~=2.22.0->syft) (1.24.3)\n",
            "Requirement already satisfied: setuptools in /usr/local/lib/python3.6/dist-packages (from protobuf>=3.11.1->syft-proto~=0.2.5.a1->syft) (46.1.3)\n",
            "Requirement already satisfied: python-engineio>=3.9.0 in /usr/local/lib/python3.6/dist-packages (from python-socketio>=4.3.0->flask-socketio~=4.2.1->syft) (3.12.1)\n",
            "Requirement already satisfied: MarkupSafe>=0.23 in /usr/local/lib/python3.6/dist-packages (from Jinja2>=2.10.1->Flask~=1.1.1->syft) (1.1.1)\n"
          ],
          "name": "stdout"
        }
      ]
    },
    {
      "cell_type": "code",
      "metadata": {
        "id": "9snOcSicPim7",
        "colab_type": "code",
        "colab": {}
      },
      "source": [
        "size = len(X_train_indices)\n",
        "\n",
        "bobs_data = sy.BaseDataset(torch.tensor(X_train_indices[:size//2]).type(torch.LongTensor), torch.tensor(Y_train[:size//2]).type(torch.LongTensor)).send(bob)\n",
        "alices_data = sy.BaseDataset(torch.tensor(X_train_indices[size//2+1:]).type(torch.LongTensor), torch.tensor(Y_train[size//2+1:]).type(torch.LongTensor)).send(alice)\n",
        "federated_train_dataset = sy.FederatedDataset([bobs_data, alices_data])\n",
        "federated_train_loader = sy.FederatedDataLoader(federated_train_dataset, batch_size=batch_size)\n",
        "\n",
        "test_dataset = torch.utils.data.TensorDataset(torch.tensor(X_test_indices).type(torch.LongTensor), torch.tensor(Y_test).type(torch.LongTensor))\n",
        "test_loader = torch.utils.data.DataLoader(test_dataset, batch_size=batch_size)"
      ],
      "execution_count": 0,
      "outputs": []
    },
    {
      "cell_type": "code",
      "metadata": {
        "id": "A0bpL2l06Pye",
        "colab_type": "code",
        "colab": {}
      },
      "source": [
        "def federated_train(model, trainloader, criterion, optimizer, epochs=10):\n",
        "    \n",
        "    running_loss = 0\n",
        "    \n",
        "    train_losses, test_losses, accuracies = [], [], []\n",
        "    for e in range(epochs):\n",
        "\n",
        "        running_loss = 0\n",
        "        \n",
        "        model.train()\n",
        "        \n",
        "        for batch_idx, (sentences, labels) in enumerate(federated_train_loader):\n",
        "\n",
        "            model.send(sentences.location)\n",
        "\n",
        "            # 1) erase previous gradients (if they exist)\n",
        "            optimizer.zero_grad()\n",
        "\n",
        "            # 2) make a prediction\n",
        "            pred = model(sentences)\n",
        "\n",
        "            # 3) calculate how much we missed\n",
        "            loss = criterion(pred, labels)\n",
        "\n",
        "            # 4) figure out which weights caused us to miss\n",
        "            loss.backward()\n",
        "\n",
        "            # 5) change those weights\n",
        "            optimizer.step()\n",
        "\n",
        "            # 6) get the model and loss back\n",
        "            model.get()\n",
        "            loss = loss.get()\n",
        "\n",
        "            # 7) log our progress\n",
        "            running_loss += loss.item()\n",
        "        \n",
        "        \n",
        "        else:\n",
        "\n",
        "          model.eval()\n",
        "\n",
        "          test_loss = 0\n",
        "          accuracy = 0\n",
        "          \n",
        "          # Turn off gradients for validation, saves memory and computations\n",
        "          with torch.no_grad():\n",
        "              for sentences, labels in test_loader:\n",
        "\n",
        "                  log_ps = model(sentences)\n",
        "                  test_loss += criterion(log_ps, labels)\n",
        "                  \n",
        "                  ps = torch.exp(log_ps)\n",
        "                  top_p, top_class = ps.topk(1, dim=1)\n",
        "                  equals = top_class == labels.view(*top_class.shape)\n",
        "                  accuracy += torch.mean(equals.type(torch.FloatTensor))\n",
        "                  \n",
        "          train_losses.append(running_loss/len(train_loader))\n",
        "          test_losses.append(test_loss/len(test_loader))\n",
        "          accuracies.append(accuracy / len(test_loader) * 100)\n",
        "\n",
        "          print(\"Epoch: {}/{}.. \".format(e+1, epochs),\n",
        "                \"Training Loss: {:.3f}.. \".format(running_loss/len(train_loader)),\n",
        "                \"Test Loss: {:.3f}.. \".format(test_loss/len(test_loader)),\n",
        "                \"Test Accuracy: {:.3f}\".format(accuracy/len(test_loader)))\n",
        "        \n",
        "    # Plot\n",
        "    plt.figure(figsize=(20, 5))\n",
        "    plt.plot(train_losses, c='b', label='Training loss')\n",
        "    plt.plot(test_losses, c='r', label='Testing loss')\n",
        "    plt.xticks(np.arange(0, epochs))\n",
        "    plt.title('Losses')\n",
        "    plt.legend(loc='upper right')\n",
        "    plt.show()\n",
        "    plt.figure(figsize=(20, 5))\n",
        "    plt.plot(accuracies)\n",
        "    plt.xticks(np.arange(0, epochs))\n",
        "    plt.title('Accuracy')\n",
        "    plt.show()"
      ],
      "execution_count": 0,
      "outputs": []
    },
    {
      "cell_type": "code",
      "metadata": {
        "id": "ouzzq81s7PZz",
        "colab_type": "code",
        "colab": {
          "base_uri": "https://localhost:8080/",
          "height": 340
        },
        "outputId": "9e5346da-9334-4950-ecaa-e1d1117abf90"
      },
      "source": [
        "device = torch.device(\"cpu\")\n",
        "embedding, vocab_size, embedding_dim = pretrained_embedding_layer(word_to_vec_map, word_to_index, non_trainable=False)\n",
        "federated_model = NN(embedding, embedding_dim, hidden_dim, vocab_size, output_size, batch_size)\n",
        "criterion = nn.CrossEntropyLoss()\n",
        "optimizer = optim.Adam(federated_model.parameters(), lr=0.002)\n",
        "epochs = 50\n",
        "\n",
        "federated_train(federated_model, train_loader, criterion, optimizer, epochs)"
      ],
      "execution_count": 25,
      "outputs": [
        {
          "output_type": "error",
          "ename": "RuntimeError",
          "evalue": "ignored",
          "traceback": [
            "\u001b[0;31m---------------------------------------------------------------------------\u001b[0m",
            "\u001b[0;31mRuntimeError\u001b[0m                              Traceback (most recent call last)",
            "\u001b[0;32m<ipython-input-25-f4c128254a96>\u001b[0m in \u001b[0;36m<module>\u001b[0;34m()\u001b[0m\n\u001b[1;32m      6\u001b[0m \u001b[0mepochs\u001b[0m \u001b[0;34m=\u001b[0m \u001b[0;36m50\u001b[0m\u001b[0;34m\u001b[0m\u001b[0;34m\u001b[0m\u001b[0m\n\u001b[1;32m      7\u001b[0m \u001b[0;34m\u001b[0m\u001b[0m\n\u001b[0;32m----> 8\u001b[0;31m \u001b[0mfederated_train\u001b[0m\u001b[0;34m(\u001b[0m\u001b[0mfederated_model\u001b[0m\u001b[0;34m,\u001b[0m \u001b[0mtrain_loader\u001b[0m\u001b[0;34m,\u001b[0m \u001b[0mcriterion\u001b[0m\u001b[0;34m,\u001b[0m \u001b[0moptimizer\u001b[0m\u001b[0;34m,\u001b[0m \u001b[0mepochs\u001b[0m\u001b[0;34m)\u001b[0m\u001b[0;34m\u001b[0m\u001b[0;34m\u001b[0m\u001b[0m\n\u001b[0m",
            "\u001b[0;32m<ipython-input-24-9875396db90b>\u001b[0m in \u001b[0;36mfederated_train\u001b[0;34m(model, trainloader, criterion, optimizer, epochs)\u001b[0m\n\u001b[1;32m     18\u001b[0m \u001b[0;34m\u001b[0m\u001b[0m\n\u001b[1;32m     19\u001b[0m             \u001b[0;31m# 2) make a prediction\u001b[0m\u001b[0;34m\u001b[0m\u001b[0;34m\u001b[0m\u001b[0;34m\u001b[0m\u001b[0m\n\u001b[0;32m---> 20\u001b[0;31m             \u001b[0mpred\u001b[0m \u001b[0;34m=\u001b[0m \u001b[0mmodel\u001b[0m\u001b[0;34m(\u001b[0m\u001b[0msentences\u001b[0m\u001b[0;34m)\u001b[0m\u001b[0;34m\u001b[0m\u001b[0;34m\u001b[0m\u001b[0m\n\u001b[0m\u001b[1;32m     21\u001b[0m \u001b[0;34m\u001b[0m\u001b[0m\n\u001b[1;32m     22\u001b[0m             \u001b[0;31m# 3) calculate how much we missed\u001b[0m\u001b[0;34m\u001b[0m\u001b[0;34m\u001b[0m\u001b[0;34m\u001b[0m\u001b[0m\n",
            "\u001b[0;32m/usr/local/lib/python3.6/dist-packages/torch/nn/modules/module.py\u001b[0m in \u001b[0;36m__call__\u001b[0;34m(self, *input, **kwargs)\u001b[0m\n\u001b[1;32m    530\u001b[0m             \u001b[0mresult\u001b[0m \u001b[0;34m=\u001b[0m \u001b[0mself\u001b[0m\u001b[0;34m.\u001b[0m\u001b[0m_slow_forward\u001b[0m\u001b[0;34m(\u001b[0m\u001b[0;34m*\u001b[0m\u001b[0minput\u001b[0m\u001b[0;34m,\u001b[0m \u001b[0;34m**\u001b[0m\u001b[0mkwargs\u001b[0m\u001b[0;34m)\u001b[0m\u001b[0;34m\u001b[0m\u001b[0;34m\u001b[0m\u001b[0m\n\u001b[1;32m    531\u001b[0m         \u001b[0;32melse\u001b[0m\u001b[0;34m:\u001b[0m\u001b[0;34m\u001b[0m\u001b[0;34m\u001b[0m\u001b[0m\n\u001b[0;32m--> 532\u001b[0;31m             \u001b[0mresult\u001b[0m \u001b[0;34m=\u001b[0m \u001b[0mself\u001b[0m\u001b[0;34m.\u001b[0m\u001b[0mforward\u001b[0m\u001b[0;34m(\u001b[0m\u001b[0;34m*\u001b[0m\u001b[0minput\u001b[0m\u001b[0;34m,\u001b[0m \u001b[0;34m**\u001b[0m\u001b[0mkwargs\u001b[0m\u001b[0;34m)\u001b[0m\u001b[0;34m\u001b[0m\u001b[0;34m\u001b[0m\u001b[0m\n\u001b[0m\u001b[1;32m    533\u001b[0m         \u001b[0;32mfor\u001b[0m \u001b[0mhook\u001b[0m \u001b[0;32min\u001b[0m \u001b[0mself\u001b[0m\u001b[0;34m.\u001b[0m\u001b[0m_forward_hooks\u001b[0m\u001b[0;34m.\u001b[0m\u001b[0mvalues\u001b[0m\u001b[0;34m(\u001b[0m\u001b[0;34m)\u001b[0m\u001b[0;34m:\u001b[0m\u001b[0;34m\u001b[0m\u001b[0;34m\u001b[0m\u001b[0m\n\u001b[1;32m    534\u001b[0m             \u001b[0mhook_result\u001b[0m \u001b[0;34m=\u001b[0m \u001b[0mhook\u001b[0m\u001b[0;34m(\u001b[0m\u001b[0mself\u001b[0m\u001b[0;34m,\u001b[0m \u001b[0minput\u001b[0m\u001b[0;34m,\u001b[0m \u001b[0mresult\u001b[0m\u001b[0;34m)\u001b[0m\u001b[0;34m\u001b[0m\u001b[0;34m\u001b[0m\u001b[0m\n",
            "\u001b[0;32m<ipython-input-12-5bb53e4377a6>\u001b[0m in \u001b[0;36mforward\u001b[0;34m(self, sentence)\u001b[0m\n\u001b[1;32m     36\u001b[0m       \u001b[0mc0\u001b[0m \u001b[0;34m=\u001b[0m \u001b[0mtorch\u001b[0m\u001b[0;34m.\u001b[0m\u001b[0mzeros\u001b[0m\u001b[0;34m(\u001b[0m\u001b[0;36m2\u001b[0m\u001b[0;34m,\u001b[0m \u001b[0msentence\u001b[0m\u001b[0;34m.\u001b[0m\u001b[0msize\u001b[0m\u001b[0;34m(\u001b[0m\u001b[0;36m0\u001b[0m\u001b[0;34m)\u001b[0m\u001b[0;34m,\u001b[0m \u001b[0mhidden_dim\u001b[0m\u001b[0;34m)\u001b[0m\u001b[0;34m.\u001b[0m\u001b[0mrequires_grad_\u001b[0m\u001b[0;34m(\u001b[0m\u001b[0;34m)\u001b[0m\u001b[0;34m.\u001b[0m\u001b[0mto\u001b[0m\u001b[0;34m(\u001b[0m\u001b[0mdevice\u001b[0m\u001b[0;34m)\u001b[0m\u001b[0;34m\u001b[0m\u001b[0;34m\u001b[0m\u001b[0m\n\u001b[1;32m     37\u001b[0m \u001b[0;34m\u001b[0m\u001b[0m\n\u001b[0;32m---> 38\u001b[0;31m       \u001b[0mlstm_out\u001b[0m\u001b[0;34m,\u001b[0m \u001b[0mh\u001b[0m \u001b[0;34m=\u001b[0m \u001b[0mself\u001b[0m\u001b[0;34m.\u001b[0m\u001b[0mlstm\u001b[0m\u001b[0;34m(\u001b[0m\u001b[0membeds\u001b[0m\u001b[0;34m,\u001b[0m \u001b[0;34m(\u001b[0m\u001b[0mh0\u001b[0m\u001b[0;34m,\u001b[0m \u001b[0mc0\u001b[0m\u001b[0;34m)\u001b[0m\u001b[0;34m)\u001b[0m\u001b[0;34m\u001b[0m\u001b[0;34m\u001b[0m\u001b[0m\n\u001b[0m\u001b[1;32m     39\u001b[0m       \u001b[0;31m# get info from last timestep only\u001b[0m\u001b[0;34m\u001b[0m\u001b[0;34m\u001b[0m\u001b[0;34m\u001b[0m\u001b[0m\n\u001b[1;32m     40\u001b[0m       \u001b[0mlstm_out\u001b[0m \u001b[0;34m=\u001b[0m \u001b[0mlstm_out\u001b[0m\u001b[0;34m[\u001b[0m\u001b[0;34m:\u001b[0m\u001b[0;34m,\u001b[0m \u001b[0;34m-\u001b[0m\u001b[0;36m1\u001b[0m\u001b[0;34m,\u001b[0m \u001b[0;34m:\u001b[0m\u001b[0;34m]\u001b[0m\u001b[0;34m\u001b[0m\u001b[0;34m\u001b[0m\u001b[0m\n",
            "\u001b[0;32m/usr/local/lib/python3.6/dist-packages/torch/nn/modules/module.py\u001b[0m in \u001b[0;36m__call__\u001b[0;34m(self, *input, **kwargs)\u001b[0m\n\u001b[1;32m    530\u001b[0m             \u001b[0mresult\u001b[0m \u001b[0;34m=\u001b[0m \u001b[0mself\u001b[0m\u001b[0;34m.\u001b[0m\u001b[0m_slow_forward\u001b[0m\u001b[0;34m(\u001b[0m\u001b[0;34m*\u001b[0m\u001b[0minput\u001b[0m\u001b[0;34m,\u001b[0m \u001b[0;34m**\u001b[0m\u001b[0mkwargs\u001b[0m\u001b[0;34m)\u001b[0m\u001b[0;34m\u001b[0m\u001b[0;34m\u001b[0m\u001b[0m\n\u001b[1;32m    531\u001b[0m         \u001b[0;32melse\u001b[0m\u001b[0;34m:\u001b[0m\u001b[0;34m\u001b[0m\u001b[0;34m\u001b[0m\u001b[0m\n\u001b[0;32m--> 532\u001b[0;31m             \u001b[0mresult\u001b[0m \u001b[0;34m=\u001b[0m \u001b[0mself\u001b[0m\u001b[0;34m.\u001b[0m\u001b[0mforward\u001b[0m\u001b[0;34m(\u001b[0m\u001b[0;34m*\u001b[0m\u001b[0minput\u001b[0m\u001b[0;34m,\u001b[0m \u001b[0;34m**\u001b[0m\u001b[0mkwargs\u001b[0m\u001b[0;34m)\u001b[0m\u001b[0;34m\u001b[0m\u001b[0;34m\u001b[0m\u001b[0m\n\u001b[0m\u001b[1;32m    533\u001b[0m         \u001b[0;32mfor\u001b[0m \u001b[0mhook\u001b[0m \u001b[0;32min\u001b[0m \u001b[0mself\u001b[0m\u001b[0;34m.\u001b[0m\u001b[0m_forward_hooks\u001b[0m\u001b[0;34m.\u001b[0m\u001b[0mvalues\u001b[0m\u001b[0;34m(\u001b[0m\u001b[0;34m)\u001b[0m\u001b[0;34m:\u001b[0m\u001b[0;34m\u001b[0m\u001b[0;34m\u001b[0m\u001b[0m\n\u001b[1;32m    534\u001b[0m             \u001b[0mhook_result\u001b[0m \u001b[0;34m=\u001b[0m \u001b[0mhook\u001b[0m\u001b[0;34m(\u001b[0m\u001b[0mself\u001b[0m\u001b[0;34m,\u001b[0m \u001b[0minput\u001b[0m\u001b[0;34m,\u001b[0m \u001b[0mresult\u001b[0m\u001b[0;34m)\u001b[0m\u001b[0;34m\u001b[0m\u001b[0;34m\u001b[0m\u001b[0m\n",
            "\u001b[0;32m/usr/local/lib/python3.6/dist-packages/torch/nn/modules/rnn.py\u001b[0m in \u001b[0;36mforward\u001b[0;34m(self, input, hx)\u001b[0m\n\u001b[1;32m    554\u001b[0m             \u001b[0mhx\u001b[0m \u001b[0;34m=\u001b[0m \u001b[0mself\u001b[0m\u001b[0;34m.\u001b[0m\u001b[0mpermute_hidden\u001b[0m\u001b[0;34m(\u001b[0m\u001b[0mhx\u001b[0m\u001b[0;34m,\u001b[0m \u001b[0msorted_indices\u001b[0m\u001b[0;34m)\u001b[0m\u001b[0;34m\u001b[0m\u001b[0;34m\u001b[0m\u001b[0m\n\u001b[1;32m    555\u001b[0m \u001b[0;34m\u001b[0m\u001b[0m\n\u001b[0;32m--> 556\u001b[0;31m         \u001b[0mself\u001b[0m\u001b[0;34m.\u001b[0m\u001b[0mcheck_forward_args\u001b[0m\u001b[0;34m(\u001b[0m\u001b[0minput\u001b[0m\u001b[0;34m,\u001b[0m \u001b[0mhx\u001b[0m\u001b[0;34m,\u001b[0m \u001b[0mbatch_sizes\u001b[0m\u001b[0;34m)\u001b[0m\u001b[0;34m\u001b[0m\u001b[0;34m\u001b[0m\u001b[0m\n\u001b[0m\u001b[1;32m    557\u001b[0m         \u001b[0;32mif\u001b[0m \u001b[0mbatch_sizes\u001b[0m \u001b[0;32mis\u001b[0m \u001b[0;32mNone\u001b[0m\u001b[0;34m:\u001b[0m\u001b[0;34m\u001b[0m\u001b[0;34m\u001b[0m\u001b[0m\n\u001b[1;32m    558\u001b[0m             result = _VF.lstm(input, hx, self._flat_weights, self.bias, self.num_layers,\n",
            "\u001b[0;32m/usr/local/lib/python3.6/dist-packages/torch/nn/modules/rnn.py\u001b[0m in \u001b[0;36mcheck_forward_args\u001b[0;34m(self, input, hidden, batch_sizes)\u001b[0m\n\u001b[1;32m    506\u001b[0m     \u001b[0;32mdef\u001b[0m \u001b[0mcheck_forward_args\u001b[0m\u001b[0;34m(\u001b[0m\u001b[0mself\u001b[0m\u001b[0;34m,\u001b[0m \u001b[0minput\u001b[0m\u001b[0;34m,\u001b[0m \u001b[0mhidden\u001b[0m\u001b[0;34m,\u001b[0m \u001b[0mbatch_sizes\u001b[0m\u001b[0;34m)\u001b[0m\u001b[0;34m:\u001b[0m\u001b[0;34m\u001b[0m\u001b[0;34m\u001b[0m\u001b[0m\n\u001b[1;32m    507\u001b[0m         \u001b[0;31m# type: (Tensor, Tuple[Tensor, Tensor], Optional[Tensor]) -> None\u001b[0m\u001b[0;34m\u001b[0m\u001b[0;34m\u001b[0m\u001b[0;34m\u001b[0m\u001b[0m\n\u001b[0;32m--> 508\u001b[0;31m         \u001b[0mself\u001b[0m\u001b[0;34m.\u001b[0m\u001b[0mcheck_input\u001b[0m\u001b[0;34m(\u001b[0m\u001b[0minput\u001b[0m\u001b[0;34m,\u001b[0m \u001b[0mbatch_sizes\u001b[0m\u001b[0;34m)\u001b[0m\u001b[0;34m\u001b[0m\u001b[0;34m\u001b[0m\u001b[0m\n\u001b[0m\u001b[1;32m    509\u001b[0m         \u001b[0mexpected_hidden_size\u001b[0m \u001b[0;34m=\u001b[0m \u001b[0mself\u001b[0m\u001b[0;34m.\u001b[0m\u001b[0mget_expected_hidden_size\u001b[0m\u001b[0;34m(\u001b[0m\u001b[0minput\u001b[0m\u001b[0;34m,\u001b[0m \u001b[0mbatch_sizes\u001b[0m\u001b[0;34m)\u001b[0m\u001b[0;34m\u001b[0m\u001b[0;34m\u001b[0m\u001b[0m\n\u001b[1;32m    510\u001b[0m \u001b[0;34m\u001b[0m\u001b[0m\n",
            "\u001b[0;32m/usr/local/lib/python3.6/dist-packages/torch/nn/modules/rnn.py\u001b[0m in \u001b[0;36mcheck_input\u001b[0;34m(self, input, batch_sizes)\u001b[0m\n\u001b[1;32m    157\u001b[0m             raise RuntimeError(\n\u001b[1;32m    158\u001b[0m                 'input.size(-1) must be equal to input_size. Expected {}, got {}'.format(\n\u001b[0;32m--> 159\u001b[0;31m                     self.input_size, input.size(-1)))\n\u001b[0m\u001b[1;32m    160\u001b[0m \u001b[0;34m\u001b[0m\u001b[0m\n\u001b[1;32m    161\u001b[0m     \u001b[0;32mdef\u001b[0m \u001b[0mget_expected_hidden_size\u001b[0m\u001b[0;34m(\u001b[0m\u001b[0mself\u001b[0m\u001b[0;34m,\u001b[0m \u001b[0minput\u001b[0m\u001b[0;34m,\u001b[0m \u001b[0mbatch_sizes\u001b[0m\u001b[0;34m)\u001b[0m\u001b[0;34m:\u001b[0m\u001b[0;34m\u001b[0m\u001b[0;34m\u001b[0m\u001b[0m\n",
            "\u001b[0;31mRuntimeError\u001b[0m: input.size(-1) must be equal to input_size. Expected 50, got 0"
          ]
        }
      ]
    },
    {
      "cell_type": "code",
      "metadata": {
        "id": "DuEuZNeLYJFm",
        "colab_type": "code",
        "colab": {}
      },
      "source": [
        "data = pd.read_csv('iseardataset.csv')"
      ],
      "execution_count": 0,
      "outputs": []
    },
    {
      "cell_type": "markdown",
      "metadata": {
        "id": "2R-V6g1ahkgN",
        "colab_type": "text"
      },
      "source": [
        "different dataset with 7000 entries and classified into 7 emotions,not using any pre-trained word-embedings like glove,used LSTM"
      ]
    },
    {
      "cell_type": "code",
      "metadata": {
        "id": "wkOV64n5YSIi",
        "colab_type": "code",
        "colab": {}
      },
      "source": [
        "\n",
        "data = data[['text','label']]"
      ],
      "execution_count": 0,
      "outputs": []
    },
    {
      "cell_type": "code",
      "metadata": {
        "id": "uRHG0rXeYWI3",
        "colab_type": "code",
        "colab": {
          "base_uri": "https://localhost:8080/",
          "height": 153
        },
        "outputId": "a0c646e0-cef9-4998-9fb9-5773cac44b29"
      },
      "source": [
        "data.label.value_counts()"
      ],
      "execution_count": 32,
      "outputs": [
        {
          "output_type": "execute_result",
          "data": {
            "text/plain": [
              "joy        1092\n",
              "sadness    1082\n",
              "anger      1079\n",
              "fear       1076\n",
              "shame      1071\n",
              "disgust    1066\n",
              "guilt      1050\n",
              "Name: label, dtype: int64"
            ]
          },
          "metadata": {
            "tags": []
          },
          "execution_count": 32
        }
      ]
    },
    {
      "cell_type": "code",
      "metadata": {
        "id": "HCnrWXyUYbgS",
        "colab_type": "code",
        "colab": {}
      },
      "source": [
        "data['labels'] = 0"
      ],
      "execution_count": 0,
      "outputs": []
    },
    {
      "cell_type": "code",
      "metadata": {
        "id": "a9eV7YUcYj-p",
        "colab_type": "code",
        "colab": {}
      },
      "source": [
        "data.loc[data['label'] =='joy' , 'labels'] = 0\n",
        "data.loc[data['label'] =='sadness' , 'labels'] = 1\n",
        "data.loc[data['label'] =='anger' , 'labels'] = 2\n",
        "data.loc[data['label'] =='fear' , 'labels'] = 3\n",
        "data.loc[data['label'] =='shame' , 'labels'] = 4\n",
        "data.loc[data['label'] =='disgust' , 'labels'] = 5\n",
        "data.loc[data['label'] =='guilt' , 'labels'] = 6\n"
      ],
      "execution_count": 0,
      "outputs": []
    },
    {
      "cell_type": "code",
      "metadata": {
        "id": "KYahuOsmYlVu",
        "colab_type": "code",
        "colab": {
          "base_uri": "https://localhost:8080/",
          "height": 34
        },
        "outputId": "2284cc74-82ad-49bf-bf9d-3b6cf9d76240"
      },
      "source": [
        "from keras.utils.np_utils import to_categorical\n",
        "labels = to_categorical(data['labels'], num_classes=7)"
      ],
      "execution_count": 35,
      "outputs": [
        {
          "output_type": "stream",
          "text": [
            "Using TensorFlow backend.\n"
          ],
          "name": "stderr"
        }
      ]
    },
    {
      "cell_type": "code",
      "metadata": {
        "id": "IV1qTRdQYrVp",
        "colab_type": "code",
        "colab": {
          "base_uri": "https://localhost:8080/",
          "height": 136
        },
        "outputId": "7e53d731-93ad-4d99-91dc-5a12e6f18176"
      },
      "source": [
        "labels"
      ],
      "execution_count": 36,
      "outputs": [
        {
          "output_type": "execute_result",
          "data": {
            "text/plain": [
              "array([[1., 0., 0., ..., 0., 0., 0.],\n",
              "       [0., 0., 0., ..., 0., 0., 0.],\n",
              "       [0., 0., 1., ..., 0., 0., 0.],\n",
              "       ...,\n",
              "       [0., 0., 0., ..., 0., 0., 0.],\n",
              "       [0., 0., 0., ..., 0., 0., 1.],\n",
              "       [0., 0., 0., ..., 0., 0., 0.]], dtype=float32)"
            ]
          },
          "metadata": {
            "tags": []
          },
          "execution_count": 36
        }
      ]
    },
    {
      "cell_type": "code",
      "metadata": {
        "id": "clC6qe2HZNHt",
        "colab_type": "code",
        "colab": {}
      },
      "source": [
        "maxLen = len(max(data['text'], key=len).split())"
      ],
      "execution_count": 0,
      "outputs": []
    },
    {
      "cell_type": "code",
      "metadata": {
        "id": "SNEYXZjjZWAO",
        "colab_type": "code",
        "colab": {
          "base_uri": "https://localhost:8080/",
          "height": 34
        },
        "outputId": "c55132be-5efb-4aa9-d7be-bbc8ccf44447"
      },
      "source": [
        "print(maxLen)"
      ],
      "execution_count": 38,
      "outputs": [
        {
          "output_type": "stream",
          "text": [
            "168\n"
          ],
          "name": "stdout"
        }
      ]
    },
    {
      "cell_type": "code",
      "metadata": {
        "id": "5S70NrGlZrRc",
        "colab_type": "code",
        "colab": {}
      },
      "source": [
        "import numpy as np # linear algebra\n",
        "import pandas as pd # data processing, CSV file I/O (e.g. pd.read_csv)\n"
      ],
      "execution_count": 0,
      "outputs": []
    },
    {
      "cell_type": "code",
      "metadata": {
        "id": "BCyzW0k1Z0vb",
        "colab_type": "code",
        "colab": {}
      },
      "source": [
        "from sklearn.feature_extraction.text import CountVectorizer\n",
        "from keras.preprocessing.text import Tokenizer\n",
        "from keras.preprocessing.sequence import pad_sequences\n",
        "from keras.models import Sequential\n",
        "from keras.layers import Dense, Embedding, LSTM\n",
        "from sklearn.model_selection import train_test_split\n",
        "from keras.utils.np_utils import to_categorical\n",
        "import re"
      ],
      "execution_count": 0,
      "outputs": []
    },
    {
      "cell_type": "code",
      "metadata": {
        "id": "QfMyjqwyYxSz",
        "colab_type": "code",
        "colab": {
          "base_uri": "https://localhost:8080/",
          "height": 34
        },
        "outputId": "ae388a02-57a1-4955-a31d-fc2fb6c2055c"
      },
      "source": [
        "n_most_common_words = 25000\n",
        "max_len = maxLen\n",
        "tokenizer = Tokenizer(num_words=n_most_common_words, filters='!\"#$%&()*+,-./:;<=>?@[\\]^_`{|}~', lower=True)\n",
        "tokenizer.fit_on_texts(data['text'].values)\n",
        "sequences = tokenizer.texts_to_sequences(data['text'].values)\n",
        "word_index = tokenizer.word_index\n",
        "print('Found %s unique tokens.' % len(word_index))\n",
        "\n",
        "X = pad_sequences(sequences, maxlen=max_len)"
      ],
      "execution_count": 41,
      "outputs": [
        {
          "output_type": "stream",
          "text": [
            "Found 11242 unique tokens.\n"
          ],
          "name": "stdout"
        }
      ]
    },
    {
      "cell_type": "code",
      "metadata": {
        "id": "Uvg5Vi_1aEvI",
        "colab_type": "code",
        "colab": {}
      },
      "source": [
        "X_train, X_test, y_train, y_test = train_test_split(X , labels, test_size=0.25, random_state=42)"
      ],
      "execution_count": 0,
      "outputs": []
    },
    {
      "cell_type": "code",
      "metadata": {
        "id": "NhsM6WwvaNFE",
        "colab_type": "code",
        "colab": {
          "base_uri": "https://localhost:8080/",
          "height": 51
        },
        "outputId": "0e4a7bba-f254-4871-845a-b7eb10b10f48"
      },
      "source": [
        "epochs = 10\n",
        "emb_dim = 128\n",
        "batch_size = 256\n",
        "labels[:2]"
      ],
      "execution_count": 43,
      "outputs": [
        {
          "output_type": "execute_result",
          "data": {
            "text/plain": [
              "array([[1., 0., 0., 0., 0., 0., 0.],\n",
              "       [0., 0., 0., 1., 0., 0., 0.]], dtype=float32)"
            ]
          },
          "metadata": {
            "tags": []
          },
          "execution_count": 43
        }
      ]
    },
    {
      "cell_type": "code",
      "metadata": {
        "id": "LlznwempaUcu",
        "colab_type": "code",
        "colab": {
          "base_uri": "https://localhost:8080/",
          "height": 34
        },
        "outputId": "1f4447e4-45ce-40a0-c834-64e4e4fd4715"
      },
      "source": [
        "print((X_train.shape, y_train.shape, X_test.shape, y_test.shape))"
      ],
      "execution_count": 44,
      "outputs": [
        {
          "output_type": "stream",
          "text": [
            "((5637, 168), (5637, 7), (1879, 168), (1879, 7))\n"
          ],
          "name": "stdout"
        }
      ]
    },
    {
      "cell_type": "code",
      "metadata": {
        "id": "suZMcX3PauLn",
        "colab_type": "code",
        "colab": {
          "base_uri": "https://localhost:8080/",
          "height": 34
        },
        "outputId": "83dbf061-5a21-4bda-c4be-992bbb690f9c"
      },
      "source": [
        "%tensorflow_version 1.x"
      ],
      "execution_count": 1,
      "outputs": [
        {
          "output_type": "stream",
          "text": [
            "TensorFlow 1.x selected.\n"
          ],
          "name": "stdout"
        }
      ]
    },
    {
      "cell_type": "code",
      "metadata": {
        "id": "HlEotrGOa_Mj",
        "colab_type": "code",
        "colab": {}
      },
      "source": [
        ""
      ],
      "execution_count": 0,
      "outputs": []
    },
    {
      "cell_type": "code",
      "metadata": {
        "id": "dKFEPsP3aane",
        "colab_type": "code",
        "colab": {
          "base_uri": "https://localhost:8080/",
          "height": 989
        },
        "outputId": "32e56089-f65d-4672-cbf8-ebd54bbcf8fa"
      },
      "source": [
        "print((X_train.shape, y_train.shape, X_test.shape, y_test.shape))\n",
        "\n",
        "model = Sequential()\n",
        "model.add(Embedding(n_most_common_words, emb_dim, input_length=X.shape[1]))\n",
        "model.add(LSTM(64, dropout=0.7, recurrent_dropout=0.7))\n",
        "model.add(Dense(7, activation='softmax'))\n",
        "model.compile(optimizer='adam', loss='categorical_crossentropy', metrics=['acc'])\n",
        "print(model.summary())\n",
        "history = model.fit(X_train, y_train, epochs=epochs, batch_size=batch_size,validation_split=0.2)"
      ],
      "execution_count": 47,
      "outputs": [
        {
          "output_type": "stream",
          "text": [
            "((5637, 168), (5637, 7), (1879, 168), (1879, 7))\n",
            "Model: \"sequential_3\"\n",
            "_________________________________________________________________\n",
            "Layer (type)                 Output Shape              Param #   \n",
            "=================================================================\n",
            "embedding_3 (Embedding)      (None, 168, 128)          3200000   \n",
            "_________________________________________________________________\n",
            "lstm_2 (LSTM)                (None, 64)                49408     \n",
            "_________________________________________________________________\n",
            "dense_2 (Dense)              (None, 7)                 455       \n",
            "=================================================================\n",
            "Total params: 3,249,863\n",
            "Trainable params: 3,249,863\n",
            "Non-trainable params: 0\n",
            "_________________________________________________________________\n",
            "None\n",
            "WARNING:tensorflow:From /tensorflow-1.15.2/python3.6/tensorflow_core/python/ops/math_grad.py:1424: where (from tensorflow.python.ops.array_ops) is deprecated and will be removed in a future version.\n",
            "Instructions for updating:\n",
            "Use tf.where in 2.0, which has the same broadcast rule as np.where\n",
            "WARNING:tensorflow:From /usr/local/lib/python3.6/dist-packages/keras/backend/tensorflow_backend.py:1033: The name tf.assign_add is deprecated. Please use tf.compat.v1.assign_add instead.\n",
            "\n",
            "WARNING:tensorflow:From /usr/local/lib/python3.6/dist-packages/keras/backend/tensorflow_backend.py:1020: The name tf.assign is deprecated. Please use tf.compat.v1.assign instead.\n",
            "\n",
            "WARNING:tensorflow:From /usr/local/lib/python3.6/dist-packages/keras/backend/tensorflow_backend.py:3005: The name tf.Session is deprecated. Please use tf.compat.v1.Session instead.\n",
            "\n",
            "Train on 4509 samples, validate on 1128 samples\n",
            "Epoch 1/10\n",
            "WARNING:tensorflow:From /usr/local/lib/python3.6/dist-packages/keras/backend/tensorflow_backend.py:190: The name tf.get_default_session is deprecated. Please use tf.compat.v1.get_default_session instead.\n",
            "\n",
            "WARNING:tensorflow:From /usr/local/lib/python3.6/dist-packages/keras/backend/tensorflow_backend.py:197: The name tf.ConfigProto is deprecated. Please use tf.compat.v1.ConfigProto instead.\n",
            "\n",
            "WARNING:tensorflow:From /usr/local/lib/python3.6/dist-packages/keras/backend/tensorflow_backend.py:207: The name tf.global_variables is deprecated. Please use tf.compat.v1.global_variables instead.\n",
            "\n",
            "WARNING:tensorflow:From /usr/local/lib/python3.6/dist-packages/keras/backend/tensorflow_backend.py:216: The name tf.is_variable_initialized is deprecated. Please use tf.compat.v1.is_variable_initialized instead.\n",
            "\n",
            "WARNING:tensorflow:From /usr/local/lib/python3.6/dist-packages/keras/backend/tensorflow_backend.py:223: The name tf.variables_initializer is deprecated. Please use tf.compat.v1.variables_initializer instead.\n",
            "\n",
            "4509/4509 [==============================] - 9s 2ms/step - loss: 1.9444 - acc: 0.1608 - val_loss: 1.9403 - val_acc: 0.2021\n",
            "Epoch 2/10\n",
            "4509/4509 [==============================] - 7s 2ms/step - loss: 1.9343 - acc: 0.2351 - val_loss: 1.9329 - val_acc: 0.2828\n",
            "Epoch 3/10\n",
            "4509/4509 [==============================] - 7s 2ms/step - loss: 1.9183 - acc: 0.3007 - val_loss: 1.9176 - val_acc: 0.2988\n",
            "Epoch 4/10\n",
            "4509/4509 [==============================] - 8s 2ms/step - loss: 1.8892 - acc: 0.3615 - val_loss: 1.8854 - val_acc: 0.3298\n",
            "Epoch 5/10\n",
            "4509/4509 [==============================] - 8s 2ms/step - loss: 1.8319 - acc: 0.3963 - val_loss: 1.8287 - val_acc: 0.3493\n",
            "Epoch 6/10\n",
            "4509/4509 [==============================] - 8s 2ms/step - loss: 1.7417 - acc: 0.4340 - val_loss: 1.7462 - val_acc: 0.3785\n",
            "Epoch 7/10\n",
            "4509/4509 [==============================] - 7s 2ms/step - loss: 1.6273 - acc: 0.4766 - val_loss: 1.6686 - val_acc: 0.3980\n",
            "Epoch 8/10\n",
            "4509/4509 [==============================] - 8s 2ms/step - loss: 1.4820 - acc: 0.5447 - val_loss: 1.5804 - val_acc: 0.4202\n",
            "Epoch 9/10\n",
            "4509/4509 [==============================] - 8s 2ms/step - loss: 1.3542 - acc: 0.5651 - val_loss: 1.5222 - val_acc: 0.4406\n",
            "Epoch 10/10\n",
            "4509/4509 [==============================] - 8s 2ms/step - loss: 1.1971 - acc: 0.6440 - val_loss: 1.4669 - val_acc: 0.4566\n"
          ],
          "name": "stdout"
        }
      ]
    },
    {
      "cell_type": "code",
      "metadata": {
        "id": "BRdcI-EYb6jJ",
        "colab_type": "code",
        "colab": {
          "base_uri": "https://localhost:8080/",
          "height": 374
        },
        "outputId": "8b673efb-8a66-4554-de55-3a94b7b49b1f"
      },
      "source": [
        "history=model.fit(X_train, y_train, epochs=epochs, batch_size=batch_size,validation_split=0.2,verbose = 2)"
      ],
      "execution_count": 48,
      "outputs": [
        {
          "output_type": "stream",
          "text": [
            "Train on 4509 samples, validate on 1128 samples\n",
            "Epoch 1/10\n",
            " - 7s - loss: 1.0610 - acc: 0.6766 - val_loss: 1.4319 - val_acc: 0.4681\n",
            "Epoch 2/10\n",
            " - 7s - loss: 0.9514 - acc: 0.7166 - val_loss: 1.4203 - val_acc: 0.4637\n",
            "Epoch 3/10\n",
            " - 7s - loss: 0.8422 - acc: 0.7503 - val_loss: 1.4139 - val_acc: 0.4805\n",
            "Epoch 4/10\n",
            " - 7s - loss: 0.7428 - acc: 0.7893 - val_loss: 1.4202 - val_acc: 0.4902\n",
            "Epoch 5/10\n",
            " - 7s - loss: 0.6619 - acc: 0.8053 - val_loss: 1.4384 - val_acc: 0.4894\n",
            "Epoch 6/10\n",
            " - 7s - loss: 0.5911 - acc: 0.8197 - val_loss: 1.4568 - val_acc: 0.4982\n",
            "Epoch 7/10\n",
            " - 7s - loss: 0.5274 - acc: 0.8556 - val_loss: 1.4871 - val_acc: 0.4902\n",
            "Epoch 8/10\n",
            " - 7s - loss: 0.4721 - acc: 0.8634 - val_loss: 1.4991 - val_acc: 0.5142\n",
            "Epoch 9/10\n",
            " - 7s - loss: 0.4375 - acc: 0.8720 - val_loss: 1.5432 - val_acc: 0.5009\n",
            "Epoch 10/10\n",
            " - 7s - loss: 0.3847 - acc: 0.8909 - val_loss: 1.5680 - val_acc: 0.4911\n"
          ],
          "name": "stdout"
        }
      ]
    },
    {
      "cell_type": "code",
      "metadata": {
        "id": "O9vlSooBpE_s",
        "colab_type": "code",
        "colab": {}
      },
      "source": [
        "data = pd.read_csv('data.csv')"
      ],
      "execution_count": 0,
      "outputs": []
    },
    {
      "cell_type": "markdown",
      "metadata": {
        "id": "X0QboakTh-6v",
        "colab_type": "text"
      },
      "source": [
        "used a dataset with 40k entries and are classified into 5 emotions.Glove embeddings are used for text pre-processing.\n",
        "Choice of Neural Network Model:\n",
        "RNNs, especially LSTMs, are preferred for many NLP tasks as it \"learns\" the significance of order of sequential data(text)\n",
        "CNNs extract features from data to identify them. Previous approaches either use one method.\n",
        "Hybrid approach by using both in the same model.\n",
        "\n",
        "\n",
        "===>We take elements from each of the above models and extend the idea of creating multi-channel networks where we allow the model to attempt to self-learn which channels allow it to get better predictions for certain classes of data.\n",
        "We call our prototype neural network **BalanceNet.**"
      ]
    },
    {
      "cell_type": "code",
      "metadata": {
        "id": "Uz6GGPm5qDVx",
        "colab_type": "code",
        "colab": {
          "base_uri": "https://localhost:8080/",
          "height": 34
        },
        "outputId": "07d4b4c7-31d4-44d6-a52a-be8bbd25a5c6"
      },
      "source": [
        "data.shape"
      ],
      "execution_count": 58,
      "outputs": [
        {
          "output_type": "execute_result",
          "data": {
            "text/plain": [
              "(47287, 2)"
            ]
          },
          "metadata": {
            "tags": []
          },
          "execution_count": 58
        }
      ]
    },
    {
      "cell_type": "code",
      "metadata": {
        "id": "YpzWexh3pRuL",
        "colab_type": "code",
        "colab": {}
      },
      "source": [
        "data.columns = ['First','Second']"
      ],
      "execution_count": 0,
      "outputs": []
    },
    {
      "cell_type": "code",
      "metadata": {
        "id": "GL3SmKigs2wB",
        "colab_type": "code",
        "colab": {
          "base_uri": "https://localhost:8080/",
          "height": 34
        },
        "outputId": "562de5a0-58d9-4c36-8a45-f1e7b6009ae6"
      },
      "source": [
        "type(data['First'])"
      ],
      "execution_count": 64,
      "outputs": [
        {
          "output_type": "execute_result",
          "data": {
            "text/plain": [
              "pandas.core.series.Series"
            ]
          },
          "metadata": {
            "tags": []
          },
          "execution_count": 64
        }
      ]
    },
    {
      "cell_type": "code",
      "metadata": {
        "id": "qbLn_xcApTUd",
        "colab_type": "code",
        "colab": {
          "base_uri": "https://localhost:8080/",
          "height": 119
        },
        "outputId": "1491859c-dc11-4aac-dd6e-df25cf2252fd"
      },
      "source": [
        "data['Second'].value_counts()\n"
      ],
      "execution_count": 61,
      "outputs": [
        {
          "output_type": "execute_result",
          "data": {
            "text/plain": [
              "1    16297\n",
              "2    15938\n",
              "0     9643\n",
              "3     4301\n",
              "4     1108\n",
              "Name: Second, dtype: int64"
            ]
          },
          "metadata": {
            "tags": []
          },
          "execution_count": 61
        }
      ]
    },
    {
      "cell_type": "code",
      "metadata": {
        "id": "hXuL6Ecyqb-M",
        "colab_type": "code",
        "colab": {
          "base_uri": "https://localhost:8080/",
          "height": 68
        },
        "outputId": "f1e82969-d43a-4931-8dfb-c0b7a62d9744"
      },
      "source": [
        "MAX_NB_WORDS = 40000 # max no. of words for tokenizer\n",
        "MAX_SEQUENCE_LENGTH = 30 # max length of text (words) including padding\n",
        "VALIDATION_SPLIT = 0.2\n",
        "EMBEDDING_DIM = 200 # embedding dimensions for word vectors (word2vec/GloVe)\n",
        "GLOVE_DIR = \"/content/glove.6B.50d.txt\"\n",
        "print(\"[i] Loaded Parameters:\\n\",\n",
        "      MAX_NB_WORDS,MAX_SEQUENCE_LENGTH+5,\n",
        "      VALIDATION_SPLIT,EMBEDDING_DIM,\"\\n\",\n",
        "      GLOVE_DIR)"
      ],
      "execution_count": 65,
      "outputs": [
        {
          "output_type": "stream",
          "text": [
            "[i] Loaded Parameters:\n",
            " 40000 35 0.2 200 \n",
            " /content/glove.6B.50d.txt\n"
          ],
          "name": "stdout"
        }
      ]
    },
    {
      "cell_type": "code",
      "metadata": {
        "id": "KOFneoT1tf6p",
        "colab_type": "code",
        "colab": {}
      },
      "source": [
        "import numpy as np\n",
        "import pandas as pd\n",
        "import re, sys, os, csv, keras, pickle"
      ],
      "execution_count": 0,
      "outputs": []
    },
    {
      "cell_type": "code",
      "metadata": {
        "id": "n_NTinRitltV",
        "colab_type": "code",
        "colab": {
          "base_uri": "https://localhost:8080/",
          "height": 51
        },
        "outputId": "5df86656-51a2-4a90-d338-16fb89d2f085"
      },
      "source": [
        "from keras.preprocessing.text import Tokenizer\n",
        "from keras.preprocessing.sequence import pad_sequences\n",
        "from keras.utils.np_utils import to_categorical\n",
        "from keras.layers import Embedding\n",
        "from keras.layers import Dense, Input, Flatten, Concatenate\n",
        "from keras.layers import Conv1D, MaxPooling1D,Add, Embedding, Dropout, LSTM, GRU, Bidirectional\n",
        "from keras.models import Model\n",
        "from keras import backend as K\n",
        "from keras.engine.topology import Layer, InputSpec\n",
        "print(\"[+] Using Keras version\",keras.__version__)"
      ],
      "execution_count": 70,
      "outputs": [
        {
          "output_type": "stream",
          "text": [
            "[+] Using Keras version 2.2.5\n",
            "ERROR! Session/line number was not unique in database. History logging moved to new session 61\n"
          ],
          "name": "stdout"
        }
      ]
    },
    {
      "cell_type": "code",
      "metadata": {
        "id": "6sbG8YmAuICI",
        "colab_type": "code",
        "colab": {
          "base_uri": "https://localhost:8080/",
          "height": 34
        },
        "outputId": "91faffcf-db80-4ead-b310-eef32c15b1e2"
      },
      "source": [
        "texts, labels = [], []\n",
        "print(\"[i] Reading from csv file...\", end=\"\")\n",
        "with open('data.csv') as csvfile:\n",
        "    readCSV = csv.reader(csvfile, delimiter=',')\n",
        "    for row in readCSV:\n",
        "        texts.append(row[0])\n",
        "        labels.append(row[1])\n",
        "print(\"Done!\")"
      ],
      "execution_count": 71,
      "outputs": [
        {
          "output_type": "stream",
          "text": [
            "[i] Reading from csv file...Done!\n"
          ],
          "name": "stdout"
        }
      ]
    },
    {
      "cell_type": "code",
      "metadata": {
        "id": "NRRmb0iKuptr",
        "colab_type": "code",
        "colab": {
          "base_uri": "https://localhost:8080/",
          "height": 34
        },
        "outputId": "2f49d46a-396f-41cc-96c0-9fd220f5bfce"
      },
      "source": [
        "tokenizer = Tokenizer(num_words=MAX_NB_WORDS)\n",
        "tokenizer.fit_on_texts(texts)\n",
        "with open('tokenizer.pickle', 'wb') as handle:\n",
        "    pickle.dump(tokenizer, handle, protocol=pickle.HIGHEST_PROTOCOL)\n",
        "print(\"[i] Saved word tokenizer to file: tokenizer.pickle\")"
      ],
      "execution_count": 72,
      "outputs": [
        {
          "output_type": "stream",
          "text": [
            "[i] Saved word tokenizer to file: tokenizer.pickle\n"
          ],
          "name": "stdout"
        }
      ]
    },
    {
      "cell_type": "code",
      "metadata": {
        "id": "1FShQWUKu3tW",
        "colab_type": "code",
        "colab": {}
      },
      "source": [
        "with open('tokenizer.pickle', 'rb') as handle:\n",
        "    tokenizer = pickle.load(handle)"
      ],
      "execution_count": 0,
      "outputs": []
    },
    {
      "cell_type": "code",
      "metadata": {
        "id": "3K3MgChLu-AM",
        "colab_type": "code",
        "colab": {
          "base_uri": "https://localhost:8080/",
          "height": 34
        },
        "outputId": "ecee2026-d5ab-4ba3-8b59-f6bfa3ba7025"
      },
      "source": [
        "sequences = tokenizer.texts_to_sequences(texts)\n",
        "word_index = tokenizer.word_index\n",
        "print('[i] Found %s unique tokens.' % len(word_index))\n",
        "data_int = pad_sequences(sequences, padding='pre', maxlen=(MAX_SEQUENCE_LENGTH-5))\n",
        "data = pad_sequences(data_int, padding='post', maxlen=(MAX_SEQUENCE_LENGTH))"
      ],
      "execution_count": 74,
      "outputs": [
        {
          "output_type": "stream",
          "text": [
            "[i] Found 34359 unique tokens.\n"
          ],
          "name": "stdout"
        }
      ]
    },
    {
      "cell_type": "code",
      "metadata": {
        "id": "sKzYu5PdvDPx",
        "colab_type": "code",
        "colab": {
          "base_uri": "https://localhost:8080/",
          "height": 51
        },
        "outputId": "87d97475-cbc3-4a26-da84-f91f5cf79f5c"
      },
      "source": [
        "labels = to_categorical(np.asarray(labels)) # convert to one-hot encoding vectors\n",
        "print('[+] Shape of data tensor:', data.shape)\n",
        "print('[+] Shape of label tensor:', labels.shape)"
      ],
      "execution_count": 75,
      "outputs": [
        {
          "output_type": "stream",
          "text": [
            "[+] Shape of data tensor: (47288, 30)\n",
            "[+] Shape of label tensor: (47288, 5)\n"
          ],
          "name": "stdout"
        }
      ]
    },
    {
      "cell_type": "code",
      "metadata": {
        "id": "2CGnOJQTvIla",
        "colab_type": "code",
        "colab": {}
      },
      "source": [
        "indices = np.arange(data.shape[0])\n",
        "np.random.shuffle(indices)\n",
        "data = data[indices]\n",
        "labels = labels[indices]\n",
        "nb_validation_samples = int(VALIDATION_SPLIT * data.shape[0])"
      ],
      "execution_count": 0,
      "outputs": []
    },
    {
      "cell_type": "code",
      "metadata": {
        "id": "UqFjrmZavOFn",
        "colab_type": "code",
        "colab": {
          "base_uri": "https://localhost:8080/",
          "height": 102
        },
        "outputId": "21fa8e64-7b79-4699-ae2e-7b73a675f220"
      },
      "source": [
        "x_train = data[:-nb_validation_samples]\n",
        "y_train = labels[:-nb_validation_samples]\n",
        "x_val = data[-nb_validation_samples:]\n",
        "y_val = labels[-nb_validation_samples:]\n",
        "\n",
        "print('[i] Number of entries in each category:')\n",
        "print(\"[+] Training:\\n\",y_train.sum(axis=0))\n",
        "print(\"[+] Validation:\\n\",y_val.sum(axis=0))"
      ],
      "execution_count": 77,
      "outputs": [
        {
          "output_type": "stream",
          "text": [
            "[i] Number of entries in each category:\n",
            "[+] Training:\n",
            " [ 7799. 13029. 12693.  3423.   887.]\n",
            "[+] Validation:\n",
            " [1844. 3268. 3245.  878.  222.]\n"
          ],
          "name": "stdout"
        }
      ]
    },
    {
      "cell_type": "code",
      "metadata": {
        "id": "fB4nj4J_vzsQ",
        "colab_type": "code",
        "colab": {}
      },
      "source": [
        "EMBEDDING_DIM = 50"
      ],
      "execution_count": 0,
      "outputs": []
    },
    {
      "cell_type": "code",
      "metadata": {
        "id": "4chzo4VmvVFD",
        "colab_type": "code",
        "colab": {
          "base_uri": "https://localhost:8080/",
          "height": 51
        },
        "outputId": "00933d81-1435-4374-dbd7-33afdea6c067"
      },
      "source": [
        "embeddings_index = {}\n",
        "f = open(GLOVE_DIR)\n",
        "print(\"[i] Loading GloVe from:\",GLOVE_DIR,\"...\",end=\"\")\n",
        "for line in f:\n",
        "    values = line.split()\n",
        "    word = values[0]\n",
        "    embeddings_index[word] = np.asarray(values[1:], dtype='float32')\n",
        "f.close()\n",
        "print(\"Done.\\n[+] Proceeding with Embedding Matrix...\", end=\"\")\n",
        "embedding_matrix = np.random.random((len(word_index) + 1, EMBEDDING_DIM))\n",
        "for word, i in word_index.items():\n",
        "    embedding_vector = embeddings_index.get(word)\n",
        "    if embedding_vector is not None:\n",
        "        # words not found in embedding index will be all-zeros.\n",
        "        embedding_matrix[i] = embedding_vector\n",
        "print(\"[i] Completed!\")"
      ],
      "execution_count": 80,
      "outputs": [
        {
          "output_type": "stream",
          "text": [
            "[i] Loading GloVe from: /content/glove.6B.50d.txt ...Done.\n",
            "[+] Proceeding with Embedding Matrix...[i] Completed!\n"
          ],
          "name": "stdout"
        }
      ]
    },
    {
      "cell_type": "code",
      "metadata": {
        "id": "wh7tC8BAv5y0",
        "colab_type": "code",
        "colab": {}
      },
      "source": [
        "def get_lr_metric(optimizer):\n",
        "    def lr(y_true, y_pred):\n",
        "        return optimizer.lr\n",
        "    return lr"
      ],
      "execution_count": 0,
      "outputs": []
    },
    {
      "cell_type": "code",
      "metadata": {
        "id": "W4owFzrjwG5u",
        "colab_type": "code",
        "colab": {}
      },
      "source": [
        "def initial_boost(epoch):\n",
        "    if epoch==0: return float(8.0)\n",
        "    elif epoch==1: return float(4.0)\n",
        "    elif epoch==2: return float(2.0)\n",
        "    elif epoch==3: return float(1.5)\n",
        "    else: return float(1.0)"
      ],
      "execution_count": 0,
      "outputs": []
    },
    {
      "cell_type": "code",
      "metadata": {
        "id": "mf311z6ywLCL",
        "colab_type": "code",
        "colab": {}
      },
      "source": [
        "def step_cyclic(epoch):\n",
        "    try:\n",
        "        l_r, decay = 1.0, 0.0001\n",
        "        if epoch%33==0:multiplier = 10\n",
        "        else:multiplier = 1\n",
        "        rate = float(multiplier * l_r * 1/(1 + decay * epoch))\n",
        "        #print(\"Epoch\",epoch+1,\"- learning_rate\",rate)\n",
        "        return rate\n",
        "    except Exception as e:\n",
        "        print(\"Error in lr_schedule:\",str(e))\n",
        "        return float(1.0)"
      ],
      "execution_count": 0,
      "outputs": []
    },
    {
      "cell_type": "code",
      "metadata": {
        "id": "lqZuTLJzwPpH",
        "colab_type": "code",
        "colab": {
          "base_uri": "https://localhost:8080/",
          "height": 34
        },
        "outputId": "ef9eafed-36c9-4ec7-e068-73269209302c"
      },
      "source": [
        "embedding_matrix_ns = np.random.random((len(word_index) + 1, EMBEDDING_DIM))\n",
        "for word, i in word_index.items():\n",
        "    embedding_vector = embeddings_index.get(word)\n",
        "    if embedding_vector is not None:\n",
        "        # words not found in embedding index will be all-zeros.\n",
        "        embedding_matrix_ns[i] = embedding_vector\n",
        "print(\"Completed!\")"
      ],
      "execution_count": 84,
      "outputs": [
        {
          "output_type": "stream",
          "text": [
            "Completed!\n"
          ],
          "name": "stdout"
        }
      ]
    },
    {
      "cell_type": "code",
      "metadata": {
        "id": "DANlojJjwj9r",
        "colab_type": "code",
        "colab": {}
      },
      "source": [
        "sequence_input = Input(shape=(MAX_SEQUENCE_LENGTH,), dtype='int32')\n",
        "\n",
        "# static channel\n",
        "embedding_layer_frozen = Embedding(len(word_index) + 1,\n",
        "                            EMBEDDING_DIM,\n",
        "                            weights=[embedding_matrix],\n",
        "                            input_length=MAX_SEQUENCE_LENGTH,\n",
        "                            trainable=False)\n",
        "embedded_sequences_frozen = embedding_layer_frozen(sequence_input)\n",
        "\n",
        "# non-static channel\n",
        "embedding_layer_train = Embedding(len(word_index) + 1,\n",
        "                            EMBEDDING_DIM,\n",
        "                            weights=[embedding_matrix_ns],\n",
        "                            input_length=MAX_SEQUENCE_LENGTH,\n",
        "                            trainable=True)\n",
        "embedded_sequences_train = embedding_layer_train(sequence_input)"
      ],
      "execution_count": 0,
      "outputs": []
    },
    {
      "cell_type": "code",
      "metadata": {
        "id": "mUSNhEMBwosx",
        "colab_type": "code",
        "colab": {}
      },
      "source": [
        "l_lstm1f = Bidirectional(LSTM(6,return_sequences=True,dropout=0.3, recurrent_dropout=0.0))(embedded_sequences_frozen)\n",
        "l_lstm1t = Bidirectional(LSTM(6,return_sequences=True,dropout=0.3, recurrent_dropout=0.0))(embedded_sequences_train)\n",
        "l_lstm1 = Concatenate(axis=1)([l_lstm1f, l_lstm1t])"
      ],
      "execution_count": 0,
      "outputs": []
    },
    {
      "cell_type": "code",
      "metadata": {
        "id": "wiy5cukkz8Wf",
        "colab_type": "code",
        "colab": {}
      },
      "source": [
        "from keras import regularizers"
      ],
      "execution_count": 0,
      "outputs": []
    },
    {
      "cell_type": "code",
      "metadata": {
        "id": "VQlQGd-fwuJK",
        "colab_type": "code",
        "colab": {}
      },
      "source": [
        "l_conv_2 = Conv1D(filters=24,kernel_size=2,activation='relu')(l_lstm1)\n",
        "l_conv_2 = Dropout(0.3)(l_conv_2)\n",
        "l_conv_3 = Conv1D(filters=24,kernel_size=3,activation='relu')(l_lstm1)\n",
        "l_conv_3 = Dropout(0.3)(l_conv_3)\n",
        "\n",
        "l_conv_5 = Conv1D(filters=24,kernel_size=5,activation='relu',)(l_lstm1)\n",
        "l_conv_5 = Dropout(0.3)(l_conv_5)\n",
        "l_conv_6 = Conv1D(filters=24,kernel_size=6,activation='relu',kernel_regularizer=regularizers.l2(0.0001))(l_lstm1)\n",
        "l_conv_6 = Dropout(0.3)(l_conv_6)\n",
        "\n",
        "l_conv_8 = Conv1D(filters=24,kernel_size=8,activation='relu',kernel_regularizer=regularizers.l2(0.0001))(l_lstm1)\n",
        "l_conv_8 = Dropout(0.3)(l_conv_8)\n",
        "\n",
        "conv_1 = [l_conv_6,l_conv_5, l_conv_8,l_conv_2,l_conv_3]\n",
        "\n",
        "l_lstm_c = Concatenate(axis=1)(conv_1)"
      ],
      "execution_count": 0,
      "outputs": []
    },
    {
      "cell_type": "code",
      "metadata": {
        "id": "xIG_KjH80G0k",
        "colab_type": "code",
        "colab": {}
      },
      "source": [
        "l_conv_4f = Conv1D(filters=12,kernel_size=4,activation='relu',kernel_regularizer=regularizers.l2(0.0001))(embedded_sequences_frozen)\n",
        "l_conv_4f = Dropout(0.3)(l_conv_4f)\n",
        "l_conv_4t = Conv1D(filters=12,kernel_size=4,activation='relu',kernel_regularizer=regularizers.l2(0.0001))(embedded_sequences_train)\n",
        "l_conv_4t = Dropout(0.3)(l_conv_4t)\n",
        "\n",
        "l_conv_3f = Conv1D(filters=12,kernel_size=3,activation='relu',)(embedded_sequences_frozen)\n",
        "l_conv_3f = Dropout(0.3)(l_conv_3f)\n",
        "l_conv_3t = Conv1D(filters=12,kernel_size=3,activation='relu',)(embedded_sequences_train)\n",
        "l_conv_3t = Dropout(0.3)(l_conv_3t)\n",
        "\n",
        "l_conv_2f = Conv1D(filters=12,kernel_size=2,activation='relu')(embedded_sequences_frozen)\n",
        "l_conv_2f = Dropout(0.3)(l_conv_2f)\n",
        "l_conv_2t = Conv1D(filters=12,kernel_size=2,activation='relu')(embedded_sequences_train)\n",
        "l_conv_2t = Dropout(0.3)(l_conv_2t)\n",
        "\n",
        "conv_2 = [l_conv_4f, l_conv_4t,l_conv_3f, l_conv_3t, l_conv_2f, l_conv_2t]\n",
        "\n",
        "l_merge_2 = Concatenate(axis=1)(conv_2)\n",
        "l_c_lstm = Bidirectional(LSTM(12,return_sequences=True,dropout=0.3, recurrent_dropout=0.0))(l_merge_2)"
      ],
      "execution_count": 0,
      "outputs": []
    },
    {
      "cell_type": "code",
      "metadata": {
        "id": "3dyUaMU90QTY",
        "colab_type": "code",
        "colab": {
          "base_uri": "https://localhost:8080/",
          "height": 71
        },
        "outputId": "247cf7fc-6c15-49a4-c185-1f4064dea26f"
      },
      "source": [
        "l_merge = Concatenate(axis=1)([l_lstm_c, l_c_lstm])\n",
        "l_pool = MaxPooling1D(4)(l_merge)\n",
        "l_drop = Dropout(0.5)(l_pool)\n",
        "l_flat = Flatten()(l_drop)\n",
        "l_dense = Dense(26, activation='relu')(l_flat)\n",
        "preds = Dense(5, activation='softmax')(l_dense)"
      ],
      "execution_count": 92,
      "outputs": [
        {
          "output_type": "stream",
          "text": [
            "WARNING:tensorflow:From /usr/local/lib/python3.6/dist-packages/keras/backend/tensorflow_backend.py:4267: The name tf.nn.max_pool is deprecated. Please use tf.nn.max_pool2d instead.\n",
            "\n"
          ],
          "name": "stdout"
        }
      ]
    },
    {
      "cell_type": "code",
      "metadata": {
        "id": "iy2JSnC90rV5",
        "colab_type": "code",
        "colab": {}
      },
      "source": [
        "from keras import optimizers"
      ],
      "execution_count": 0,
      "outputs": []
    },
    {
      "cell_type": "code",
      "metadata": {
        "id": "Q5pgwY3V0YO3",
        "colab_type": "code",
        "colab": {}
      },
      "source": [
        "model = Model(sequence_input, preds)\n",
        "adadelta = optimizers.Adadelta(lr=0.9, rho=0.95, epsilon=None, decay=0.002)\n",
        "lr_metric = get_lr_metric(adadelta)\n",
        "model.compile(loss='categorical_crossentropy',\n",
        "              optimizer=adadelta,\n",
        "              metrics=['acc'])"
      ],
      "execution_count": 0,
      "outputs": []
    },
    {
      "cell_type": "code",
      "metadata": {
        "id": "l3-PH74s1MqI",
        "colab_type": "code",
        "colab": {
          "base_uri": "https://localhost:8080/",
          "height": 34
        },
        "outputId": "77fd5b91-cf53-40a1-f73b-c9083004d3c8"
      },
      "source": [
        "from keras import callbacks"
      ],
      "execution_count": 97,
      "outputs": [
        {
          "output_type": "stream",
          "text": [
            "ERROR! Session/line number was not unique in database. History logging moved to new session 62\n"
          ],
          "name": "stdout"
        }
      ]
    },
    {
      "cell_type": "code",
      "metadata": {
        "id": "2wHqaB370uOO",
        "colab_type": "code",
        "colab": {}
      },
      "source": [
        "tensorboard = callbacks.TensorBoard(log_dir='./logs', histogram_freq=0, batch_size=16, write_grads=True , write_graph=True)\n",
        "model_checkpoints = callbacks.ModelCheckpoint(\"checkpoint-{val_loss:.3f}.h5\", monitor='val_loss', verbose=0, save_best_only=True, save_weights_only=False, mode='auto', period=0)\n",
        "lr_schedule = callbacks.LearningRateScheduler(initial_boost)"
      ],
      "execution_count": 0,
      "outputs": []
    },
    {
      "cell_type": "code",
      "metadata": {
        "id": "j5lThIDP0eTL",
        "colab_type": "code",
        "colab": {
          "base_uri": "https://localhost:8080/",
          "height": 1598
        },
        "outputId": "9019800d-623e-49fa-f67a-dedd688e1fcb"
      },
      "source": [
        "model.summary()\n",
        "model.save('BalanceNet.h5')"
      ],
      "execution_count": 99,
      "outputs": [
        {
          "output_type": "stream",
          "text": [
            "Model: \"model_2\"\n",
            "__________________________________________________________________________________________________\n",
            "Layer (type)                    Output Shape         Param #     Connected to                     \n",
            "==================================================================================================\n",
            "input_1 (InputLayer)            (None, 30)           0                                            \n",
            "__________________________________________________________________________________________________\n",
            "embedding_4 (Embedding)         (None, 30, 50)       1718000     input_1[0][0]                    \n",
            "__________________________________________________________________________________________________\n",
            "embedding_5 (Embedding)         (None, 30, 50)       1718000     input_1[0][0]                    \n",
            "__________________________________________________________________________________________________\n",
            "bidirectional_1 (Bidirectional) (None, 30, 12)       2736        embedding_4[0][0]                \n",
            "__________________________________________________________________________________________________\n",
            "bidirectional_2 (Bidirectional) (None, 30, 12)       2736        embedding_5[0][0]                \n",
            "__________________________________________________________________________________________________\n",
            "concatenate_1 (Concatenate)     (None, 60, 12)       0           bidirectional_1[0][0]            \n",
            "                                                                 bidirectional_2[0][0]            \n",
            "__________________________________________________________________________________________________\n",
            "conv1d_9 (Conv1D)               (None, 27, 12)       2412        embedding_4[0][0]                \n",
            "__________________________________________________________________________________________________\n",
            "conv1d_10 (Conv1D)              (None, 27, 12)       2412        embedding_5[0][0]                \n",
            "__________________________________________________________________________________________________\n",
            "conv1d_11 (Conv1D)              (None, 28, 12)       1812        embedding_4[0][0]                \n",
            "__________________________________________________________________________________________________\n",
            "conv1d_12 (Conv1D)              (None, 28, 12)       1812        embedding_5[0][0]                \n",
            "__________________________________________________________________________________________________\n",
            "conv1d_13 (Conv1D)              (None, 29, 12)       1212        embedding_4[0][0]                \n",
            "__________________________________________________________________________________________________\n",
            "conv1d_14 (Conv1D)              (None, 29, 12)       1212        embedding_5[0][0]                \n",
            "__________________________________________________________________________________________________\n",
            "conv1d_7 (Conv1D)               (None, 55, 24)       1752        concatenate_1[0][0]              \n",
            "__________________________________________________________________________________________________\n",
            "conv1d_6 (Conv1D)               (None, 56, 24)       1464        concatenate_1[0][0]              \n",
            "__________________________________________________________________________________________________\n",
            "conv1d_8 (Conv1D)               (None, 53, 24)       2328        concatenate_1[0][0]              \n",
            "__________________________________________________________________________________________________\n",
            "conv1d_4 (Conv1D)               (None, 59, 24)       600         concatenate_1[0][0]              \n",
            "__________________________________________________________________________________________________\n",
            "conv1d_5 (Conv1D)               (None, 58, 24)       888         concatenate_1[0][0]              \n",
            "__________________________________________________________________________________________________\n",
            "dropout_10 (Dropout)            (None, 27, 12)       0           conv1d_9[0][0]                   \n",
            "__________________________________________________________________________________________________\n",
            "dropout_11 (Dropout)            (None, 27, 12)       0           conv1d_10[0][0]                  \n",
            "__________________________________________________________________________________________________\n",
            "dropout_12 (Dropout)            (None, 28, 12)       0           conv1d_11[0][0]                  \n",
            "__________________________________________________________________________________________________\n",
            "dropout_13 (Dropout)            (None, 28, 12)       0           conv1d_12[0][0]                  \n",
            "__________________________________________________________________________________________________\n",
            "dropout_14 (Dropout)            (None, 29, 12)       0           conv1d_13[0][0]                  \n",
            "__________________________________________________________________________________________________\n",
            "dropout_15 (Dropout)            (None, 29, 12)       0           conv1d_14[0][0]                  \n",
            "__________________________________________________________________________________________________\n",
            "dropout_8 (Dropout)             (None, 55, 24)       0           conv1d_7[0][0]                   \n",
            "__________________________________________________________________________________________________\n",
            "dropout_7 (Dropout)             (None, 56, 24)       0           conv1d_6[0][0]                   \n",
            "__________________________________________________________________________________________________\n",
            "dropout_9 (Dropout)             (None, 53, 24)       0           conv1d_8[0][0]                   \n",
            "__________________________________________________________________________________________________\n",
            "dropout_5 (Dropout)             (None, 59, 24)       0           conv1d_4[0][0]                   \n",
            "__________________________________________________________________________________________________\n",
            "dropout_6 (Dropout)             (None, 58, 24)       0           conv1d_5[0][0]                   \n",
            "__________________________________________________________________________________________________\n",
            "concatenate_3 (Concatenate)     (None, 168, 12)      0           dropout_10[0][0]                 \n",
            "                                                                 dropout_11[0][0]                 \n",
            "                                                                 dropout_12[0][0]                 \n",
            "                                                                 dropout_13[0][0]                 \n",
            "                                                                 dropout_14[0][0]                 \n",
            "                                                                 dropout_15[0][0]                 \n",
            "__________________________________________________________________________________________________\n",
            "concatenate_2 (Concatenate)     (None, 281, 24)      0           dropout_8[0][0]                  \n",
            "                                                                 dropout_7[0][0]                  \n",
            "                                                                 dropout_9[0][0]                  \n",
            "                                                                 dropout_5[0][0]                  \n",
            "                                                                 dropout_6[0][0]                  \n",
            "__________________________________________________________________________________________________\n",
            "bidirectional_3 (Bidirectional) (None, 168, 24)      2400        concatenate_3[0][0]              \n",
            "__________________________________________________________________________________________________\n",
            "concatenate_4 (Concatenate)     (None, 449, 24)      0           concatenate_2[0][0]              \n",
            "                                                                 bidirectional_3[0][0]            \n",
            "__________________________________________________________________________________________________\n",
            "max_pooling1d_1 (MaxPooling1D)  (None, 112, 24)      0           concatenate_4[0][0]              \n",
            "__________________________________________________________________________________________________\n",
            "dropout_16 (Dropout)            (None, 112, 24)      0           max_pooling1d_1[0][0]            \n",
            "__________________________________________________________________________________________________\n",
            "flatten_1 (Flatten)             (None, 2688)         0           dropout_16[0][0]                 \n",
            "__________________________________________________________________________________________________\n",
            "dense_3 (Dense)                 (None, 26)           69914       flatten_1[0][0]                  \n",
            "__________________________________________________________________________________________________\n",
            "dense_4 (Dense)                 (None, 5)            135         dense_3[0][0]                    \n",
            "==================================================================================================\n",
            "Total params: 3,531,825\n",
            "Trainable params: 1,813,825\n",
            "Non-trainable params: 1,718,000\n",
            "__________________________________________________________________________________________________\n"
          ],
          "name": "stdout"
        }
      ]
    },
    {
      "cell_type": "code",
      "metadata": {
        "id": "GtHQJFDUDC2l",
        "colab_type": "code",
        "colab": {}
      },
      "source": [
        "print(\"Training Progress:\")\n",
        "model_log = model.fit(x_train, y_train, validation_data=(x_val, y_val),\n",
        "          epochs=35, batch_size=128,\n",
        "          callbacks=[tensorboard, model_checkpoints])\n",
        "\n",
        "pandas.DataFrame(model_log.history).to_csv(\"history-balance.csv\")\n"
      ],
      "execution_count": 0,
      "outputs": []
    },
    {
      "cell_type": "code",
      "metadata": {
        "id": "88PWJWdvBUpu",
        "colab_type": "code",
        "colab": {
          "base_uri": "https://localhost:8080/",
          "height": 1081
        },
        "outputId": "9a51bc74-b513-4980-e7f2-f0b233c3fcda"
      },
      "source": [
        "print(\"Training Progress:\")\n",
        "model_log = model.fit(x_train, y_train, validation_data=(x_val, y_val),\n",
        "          epochs=25, batch_size=128,\n",
        "          callbacks=[tensorboard, model_checkpoints])\n",
        "\n",
        "pandas.DataFrame(model_log.history).to_csv(\"history-balance.csv\")\n"
      ],
      "execution_count": 107,
      "outputs": [
        {
          "output_type": "stream",
          "text": [
            "Training Progress:\n",
            "Train on 37831 samples, validate on 9457 samples\n",
            "Epoch 1/25\n",
            "37831/37831 [==============================] - 86s 2ms/step - loss: 0.9549 - acc: 0.6025 - val_loss: 0.9594 - val_acc: 0.6000\n",
            "Epoch 2/25\n",
            "37831/37831 [==============================] - 82s 2ms/step - loss: 0.9546 - acc: 0.6042 - val_loss: 0.9585 - val_acc: 0.6012\n",
            "Epoch 3/25\n",
            "37831/37831 [==============================] - 83s 2ms/step - loss: 0.9536 - acc: 0.6051 - val_loss: 0.9583 - val_acc: 0.6007\n",
            "Epoch 4/25\n",
            "37831/37831 [==============================] - 82s 2ms/step - loss: 0.9538 - acc: 0.6029 - val_loss: 0.9573 - val_acc: 0.6024\n",
            "Epoch 5/25\n",
            "37831/37831 [==============================] - 83s 2ms/step - loss: 0.9542 - acc: 0.6027 - val_loss: 0.9581 - val_acc: 0.6005\n",
            "Epoch 6/25\n",
            "37831/37831 [==============================] - 82s 2ms/step - loss: 0.9521 - acc: 0.6020 - val_loss: 0.9569 - val_acc: 0.6034\n",
            "Epoch 7/25\n",
            "37831/37831 [==============================] - 81s 2ms/step - loss: 0.9512 - acc: 0.6046 - val_loss: 0.9559 - val_acc: 0.6029\n",
            "Epoch 8/25\n",
            "37831/37831 [==============================] - 84s 2ms/step - loss: 0.9514 - acc: 0.6047 - val_loss: 0.9557 - val_acc: 0.6029\n",
            "Epoch 9/25\n",
            "37831/37831 [==============================] - 83s 2ms/step - loss: 0.9490 - acc: 0.6034 - val_loss: 0.9568 - val_acc: 0.6011\n",
            "Epoch 10/25\n",
            "37831/37831 [==============================] - 82s 2ms/step - loss: 0.9490 - acc: 0.6051 - val_loss: 0.9560 - val_acc: 0.6015\n",
            "Epoch 11/25\n",
            "37831/37831 [==============================] - 81s 2ms/step - loss: 0.9499 - acc: 0.6048 - val_loss: 0.9564 - val_acc: 0.6016\n",
            "Epoch 12/25\n",
            "37831/37831 [==============================] - 79s 2ms/step - loss: 0.9472 - acc: 0.6067 - val_loss: 0.9545 - val_acc: 0.6025\n",
            "Epoch 13/25\n",
            "37831/37831 [==============================] - 79s 2ms/step - loss: 0.9454 - acc: 0.6093 - val_loss: 0.9549 - val_acc: 0.6021\n",
            "Epoch 14/25\n",
            "37831/37831 [==============================] - 79s 2ms/step - loss: 0.9484 - acc: 0.6067 - val_loss: 0.9549 - val_acc: 0.6016\n",
            "Epoch 15/25\n",
            "37831/37831 [==============================] - 81s 2ms/step - loss: 0.9469 - acc: 0.6072 - val_loss: 0.9540 - val_acc: 0.6034\n",
            "Epoch 16/25\n",
            "37831/37831 [==============================] - 85s 2ms/step - loss: 0.9460 - acc: 0.6075 - val_loss: 0.9542 - val_acc: 0.6025\n",
            "Epoch 17/25\n",
            "37831/37831 [==============================] - 81s 2ms/step - loss: 0.9455 - acc: 0.6096 - val_loss: 0.9542 - val_acc: 0.6034\n",
            "Epoch 18/25\n",
            "37831/37831 [==============================] - 80s 2ms/step - loss: 0.9437 - acc: 0.6108 - val_loss: 0.9556 - val_acc: 0.6015\n",
            "Epoch 19/25\n",
            "37831/37831 [==============================] - 79s 2ms/step - loss: 0.9430 - acc: 0.6082 - val_loss: 0.9546 - val_acc: 0.6021\n",
            "Epoch 20/25\n",
            "37831/37831 [==============================] - 80s 2ms/step - loss: 0.9449 - acc: 0.6093 - val_loss: 0.9531 - val_acc: 0.6044\n",
            "Epoch 21/25\n",
            "37831/37831 [==============================] - 80s 2ms/step - loss: 0.9437 - acc: 0.6094 - val_loss: 0.9527 - val_acc: 0.6045\n",
            "Epoch 22/25\n",
            "37831/37831 [==============================] - 80s 2ms/step - loss: 0.9442 - acc: 0.6075 - val_loss: 0.9540 - val_acc: 0.6030\n",
            "Epoch 23/25\n",
            "37831/37831 [==============================] - 80s 2ms/step - loss: 0.9443 - acc: 0.6084 - val_loss: 0.9534 - val_acc: 0.6019\n",
            "Epoch 24/25\n",
            "37831/37831 [==============================] - 79s 2ms/step - loss: 0.9438 - acc: 0.6078 - val_loss: 0.9517 - val_acc: 0.6051\n",
            "Epoch 25/25\n",
            "37831/37831 [==============================] - 78s 2ms/step - loss: 0.9417 - acc: 0.6095 - val_loss: 0.9531 - val_acc: 0.6035\n"
          ],
          "name": "stdout"
        },
        {
          "output_type": "error",
          "ename": "NameError",
          "evalue": "ignored",
          "traceback": [
            "\u001b[0;31m---------------------------------------------------------------------------\u001b[0m",
            "\u001b[0;31mNameError\u001b[0m                                 Traceback (most recent call last)",
            "\u001b[0;32m<ipython-input-107-36c6486f3703>\u001b[0m in \u001b[0;36m<module>\u001b[0;34m()\u001b[0m\n\u001b[1;32m      4\u001b[0m           callbacks=[tensorboard, model_checkpoints])\n\u001b[1;32m      5\u001b[0m \u001b[0;34m\u001b[0m\u001b[0m\n\u001b[0;32m----> 6\u001b[0;31m \u001b[0mpandas\u001b[0m\u001b[0;34m.\u001b[0m\u001b[0mDataFrame\u001b[0m\u001b[0;34m(\u001b[0m\u001b[0mmodel_log\u001b[0m\u001b[0;34m.\u001b[0m\u001b[0mhistory\u001b[0m\u001b[0;34m)\u001b[0m\u001b[0;34m.\u001b[0m\u001b[0mto_csv\u001b[0m\u001b[0;34m(\u001b[0m\u001b[0;34m\"history-balance.csv\"\u001b[0m\u001b[0;34m)\u001b[0m\u001b[0;34m\u001b[0m\u001b[0;34m\u001b[0m\u001b[0m\n\u001b[0m",
            "\u001b[0;31mNameError\u001b[0m: name 'pandas' is not defined"
          ]
        }
      ]
    },
    {
      "cell_type": "code",
      "metadata": {
        "id": "uaIO_vs1KEaZ",
        "colab_type": "code",
        "colab": {}
      },
      "source": [
        "pd.DataFrame(model_log.history).to_csv(\"history-balance.csv\")"
      ],
      "execution_count": 0,
      "outputs": []
    },
    {
      "cell_type": "code",
      "metadata": {
        "id": "qBCGYYO9B-QB",
        "colab_type": "code",
        "colab": {}
      },
      "source": [
        "from keras.models import load_model\n",
        "from sklearn.metrics import classification_report, confusion_matrix\n",
        "import matplotlib.pyplot as plt\n",
        "import numpy as np\n",
        "%config InlineBackend.figure_format = 'retina'\n",
        "import itertools, pickle\n",
        "\n",
        "with open('tokenizer.pickle', 'rb') as handle:\n",
        "    tokenizer = pickle.load(handle)\n",
        "\n",
        "classes = [\"neutral\", \"happy\", \"sad\", \"hate\",\"anger\"]"
      ],
      "execution_count": 0,
      "outputs": []
    },
    {
      "cell_type": "code",
      "metadata": {
        "id": "VXPLOpUADPjC",
        "colab_type": "code",
        "colab": {
          "base_uri": "https://localhost:8080/",
          "height": 255
        },
        "outputId": "86bcb6ba-a781-4fbf-f870-8f305bb12912"
      },
      "source": [
        "!ls"
      ],
      "execution_count": 110,
      "outputs": [
        {
          "output_type": "stream",
          "text": [
            "BalanceNet.h5\t     checkpoint-0.969.h5  checkpoint-1.041.h5\n",
            "checkpoint-0.952.h5  checkpoint-0.971.h5  checkpoint-1.056.h5\n",
            "checkpoint-0.953.h5  checkpoint-0.974.h5  checkpoint-1.073.h5\n",
            "checkpoint-0.954.h5  checkpoint-0.975.h5  checkpoint-1.103.h5\n",
            "checkpoint-0.956.h5  checkpoint-0.978.h5  checkpoint-1.190.h5\n",
            "checkpoint-0.957.h5  checkpoint-0.981.h5  data.csv\n",
            "checkpoint-0.958.h5  checkpoint-0.982.h5  glove.6B.50d.txt\n",
            "checkpoint-0.959.h5  checkpoint-0.988.h5  history-balance.csv\n",
            "checkpoint-0.960.h5  checkpoint-0.992.h5  iseardataset.csv\n",
            "checkpoint-0.962.h5  checkpoint-0.997.h5  logs\n",
            "checkpoint-0.964.h5  checkpoint-1.002.h5  sample_data\n",
            "checkpoint-0.965.h5  checkpoint-1.007.h5  test.csv\n",
            "checkpoint-0.966.h5  checkpoint-1.018.h5  tokenizer.pickle\n",
            "checkpoint-0.967.h5  checkpoint-1.026.h5  train.csv\n"
          ],
          "name": "stdout"
        }
      ]
    },
    {
      "cell_type": "code",
      "metadata": {
        "id": "yCMImamDDdPo",
        "colab_type": "code",
        "colab": {}
      },
      "source": [
        "\n",
        "#model_test = load_model('checkpoint-0.866.h5')\n",
        "#model_test = load_model('best_weights.h5')\n",
        "Y_test = np.argmax(y_val, axis=1) # Convert one-hot to index\n",
        "#y_pred = model_test.predict(x_val)\n",
        "y_pred = model.predict(x_val)\n",
        "y_pred_class = np.argmax(y_pred,axis=1)\n",
        "cnf_matrix = confusion_matrix(Y_test, y_pred_class)"
      ],
      "execution_count": 0,
      "outputs": []
    },
    {
      "cell_type": "code",
      "metadata": {
        "id": "p41X16l6Dg6n",
        "colab_type": "code",
        "colab": {
          "base_uri": "https://localhost:8080/",
          "height": 221
        },
        "outputId": "0bce05e8-1067-41fb-a7cf-67ac70d2af5b"
      },
      "source": [
        "print(classification_report(Y_test, y_pred_class, target_names=classes))"
      ],
      "execution_count": 112,
      "outputs": [
        {
          "output_type": "stream",
          "text": [
            "              precision    recall  f1-score   support\n",
            "\n",
            "     neutral       0.42      0.38      0.40      1844\n",
            "       happy       0.61      0.69      0.65      3268\n",
            "         sad       0.62      0.63      0.62      3245\n",
            "        hate       0.88      0.62      0.73       878\n",
            "       anger       0.95      0.73      0.83       222\n",
            "\n",
            "    accuracy                           0.60      9457\n",
            "   macro avg       0.69      0.61      0.65      9457\n",
            "weighted avg       0.61      0.60      0.60      9457\n",
            "\n"
          ],
          "name": "stdout"
        }
      ]
    },
    {
      "cell_type": "code",
      "metadata": {
        "id": "_wm3x1RNDv9V",
        "colab_type": "code",
        "colab": {
          "base_uri": "https://localhost:8080/",
          "height": 742
        },
        "outputId": "07d86719-7ca6-4316-8a9a-e0fca14f9a2b"
      },
      "source": [
        "def plot_confusion_matrix(cm, labels,\n",
        "                          normalize=True,\n",
        "                          title='Confusion Matrix (Validation Set)',\n",
        "                          cmap=plt.cm.Blues):\n",
        "    \"\"\"\n",
        "    This function prints and plots the confusion matrix.\n",
        "    Normalization can be applied by setting `normalize=True`.\n",
        "    \"\"\"\n",
        "    if normalize:\n",
        "        cm = cm.astype('float') / cm.sum(axis=1)[:, np.newaxis]\n",
        "        #print(\"Normalized confusion matrix\")\n",
        "    else:\n",
        "        #print('Confusion matrix, without normalization')\n",
        "        pass\n",
        "\n",
        "    #print(cm)\n",
        "\n",
        "    plt.imshow(cm, interpolation='nearest', cmap=cmap)\n",
        "    plt.title(title)\n",
        "    plt.colorbar()\n",
        "    tick_marks = np.arange(len(labels))\n",
        "    plt.xticks(tick_marks, labels, rotation=45)\n",
        "    plt.yticks(tick_marks, labels)\n",
        "\n",
        "    fmt = '.2f' if normalize else 'd'\n",
        "    thresh = cm.max() / 2.\n",
        "    for i, j in itertools.product(range(cm.shape[0]), range(cm.shape[1])):\n",
        "        plt.text(j, i, format(cm[i, j], fmt),\n",
        "                 horizontalalignment=\"center\",\n",
        "                 color=\"white\" if cm[i, j] > thresh else \"black\")\n",
        "\n",
        "    plt.tight_layout()\n",
        "    plt.ylabel('True label')\n",
        "    plt.xlabel('Predicted label')\n",
        "\n",
        "plt.figure(figsize=(20,10))\n",
        "plot_confusion_matrix(cnf_matrix, labels=classes)\n",
        "\n",
        "# precision = true_pos / (true_pos + false_pos)\n",
        "# recall = true_pos / (true_pos + false_neg)"
      ],
      "execution_count": 113,
      "outputs": [
        {
          "output_type": "display_data",
          "data": {
            "image/png": "[encoded data removed]",
            "text/plain": [
              "<Figure size 1440x720 with 2 Axes>"
            ]
          },
          "metadata": {
            "tags": [],
            "image/png": {
              "width": 839,
              "height": 725
            }
          }
        }
      ]
    },
    {
      "cell_type": "code",
      "metadata": {
        "id": "4XCCk4J4D4mv",
        "colab_type": "code",
        "colab": {}
      },
      "source": [
        "text = [\"I salute you for the bravery and sacrifice! A true hero indeed.\",\n",
        "        \"I am sorry but I trust HRW I damned sight more than the PAP and it's cronies! Off course the PAP will say that they (HRW) made things up...despite of the fact that SG is a dictator state!?\",\n",
        "        \"PAP are taking the piss again!\",\n",
        "        \"Thought he sold his kidney to buy it; Instead, he bought a kidney then bought the car Filthy rich This is why we need communism\",\n",
        "        \"Somebody needs to water Tharman's head, hair needs to be grown there\",\n",
        "        \"what a nuisance fk. a proper clean and flat footpath,,now obstructed by sharedbikes..! which idiotic MP allowed this to happen?\",\n",
        "        \"What baby bonus scheme ??? To grow up a kid in Singapore you think is easy now bo ??? Both parent need to work to grow up a kid until 21 , you think tats easy bo ??? Think la\"\n",
        "       ]"
      ],
      "execution_count": 0,
      "outputs": []
    },
    {
      "cell_type": "code",
      "metadata": {
        "id": "yprhWCpbKr6M",
        "colab_type": "code",
        "colab": {
          "base_uri": "https://localhost:8080/",
          "height": 394
        },
        "outputId": "d96ac5a3-ec30-4559-997f-fd69f5386be6"
      },
      "source": [
        "sequences_test = tokenizer.texts_to_sequences(text)\n",
        "data_int_t = pad_sequences(sequences_test, padding='pre', maxlen=(MAX_SEQUENCE_LENGTH-5))\n",
        "data_test = pad_sequences(data_int_t, padding='post', maxlen=(MAX_SEQUENCE_LENGTH))\n",
        "y_prob = model.predict(data_test)\n",
        "for n, prediction in enumerate(y_prob):\n",
        "    pred = y_prob.argmax(axis=-1)[n]\n",
        "    print(text[n],\"\\nPrediction:\",classes[pred],\"\\n\")"
      ],
      "execution_count": 115,
      "outputs": [
        {
          "output_type": "stream",
          "text": [
            "I salute you for the bravery and sacrifice! A true hero indeed. \n",
            "Prediction: happy \n",
            "\n",
            "I am sorry but I trust HRW I damned sight more than the PAP and it's cronies! Off course the PAP will say that they (HRW) made things up...despite of the fact that SG is a dictator state!? \n",
            "Prediction: sad \n",
            "\n",
            "PAP are taking the piss again! \n",
            "Prediction: neutral \n",
            "\n",
            "Thought he sold his kidney to buy it; Instead, he bought a kidney then bought the car Filthy rich This is why we need communism \n",
            "Prediction: sad \n",
            "\n",
            "Somebody needs to water Tharman's head, hair needs to be grown there \n",
            "Prediction: neutral \n",
            "\n",
            "what a nuisance fk. a proper clean and flat footpath,,now obstructed by sharedbikes..! which idiotic MP allowed this to happen? \n",
            "Prediction: sad \n",
            "\n",
            "What baby bonus scheme ??? To grow up a kid in Singapore you think is easy now bo ??? Both parent need to work to grow up a kid until 21 , you think tats easy bo ??? Think la \n",
            "Prediction: happy \n",
            "\n"
          ],
          "name": "stdout"
        }
      ]
    },
    {
      "cell_type": "code",
      "metadata": {
        "id": "8Iu4jovEEAdB",
        "colab_type": "code",
        "colab": {
          "base_uri": "https://localhost:8080/",
          "height": 34
        },
        "outputId": "9259267a-faf6-47f9-efaa-213e798cb5b5"
      },
      "source": [
        "np.array(sequences_test[0])"
      ],
      "execution_count": 116,
      "outputs": [
        {
          "output_type": "execute_result",
          "data": {
            "text/plain": [
              "array([   1, 6097,    5,   12,    3,    6, 4841,    4,  515, 1476, 1238])"
            ]
          },
          "metadata": {
            "tags": []
          },
          "execution_count": 116
        }
      ]
    },
    {
      "cell_type": "code",
      "metadata": {
        "id": "hmtiudzfLsqD",
        "colab_type": "code",
        "colab": {}
      },
      "source": [
        "text = [\"never talk to me again\",\n",
        "        \"do not get angry or frustrated or desperate or enraged or depressed or any such thing you are all educated\",\n",
        "        \"i hate worthless insights\",\n",
        "        \"it is the worst day of my life\",\n",
        "        \"i love you mom\",\n",
        "        \"stop saying bullshit\",\n",
        "        \"congratulations on your acceptance\",\n",
        "        \"your stupidity has no limt\",\n",
        "        \"sounds like a fun plan\",\n",
        "        \"i will celebrate soon\",\n",
        "        \"the game just finished\",\n",
        "        \"you are so mean\"]"
      ],
      "execution_count": 0,
      "outputs": []
    },
    {
      "cell_type": "code",
      "metadata": {
        "id": "jNK8lsiIXgNb",
        "colab_type": "code",
        "colab": {
          "base_uri": "https://localhost:8080/",
          "height": 629
        },
        "outputId": "0285220d-c531-4e3e-f3d7-05761152bca6"
      },
      "source": [
        "sequences_test = tokenizer.texts_to_sequences(text)\n",
        "data_int_t = pad_sequences(sequences_test, padding='pre', maxlen=(MAX_SEQUENCE_LENGTH-5))\n",
        "data_test = pad_sequences(data_int_t, padding='post', maxlen=(MAX_SEQUENCE_LENGTH))\n",
        "y_prob = model.predict(data_test)\n",
        "for n, prediction in enumerate(y_prob):\n",
        "    pred = y_prob.argmax(axis=-1)[n]\n",
        "    print(text[n],\"\\nPrediction:\",classes[pred],\"\\n\")"
      ],
      "execution_count": 126,
      "outputs": [
        {
          "output_type": "stream",
          "text": [
            "never talk to me again \n",
            "Prediction: neutral \n",
            "\n",
            "do not get angry or frustrated or desperate or enraged or depressed or any such thing you are all educated \n",
            "Prediction: anger \n",
            "\n",
            "i hate worthless insights \n",
            "Prediction: hate \n",
            "\n",
            "it is the worst day of my life \n",
            "Prediction: sad \n",
            "\n",
            "i love you mom \n",
            "Prediction: happy \n",
            "\n",
            "stop saying bullshit \n",
            "Prediction: sad \n",
            "\n",
            "congratulations on your acceptance \n",
            "Prediction: happy \n",
            "\n",
            "your stupidity has no limt \n",
            "Prediction: sad \n",
            "\n",
            "sounds like a fun plan \n",
            "Prediction: happy \n",
            "\n",
            "i will celebrate soon \n",
            "Prediction: happy \n",
            "\n",
            "the game just finished \n",
            "Prediction: happy \n",
            "\n",
            "you are so mean \n",
            "Prediction: neutral \n",
            "\n"
          ],
          "name": "stdout"
        }
      ]
    }
  ]
}