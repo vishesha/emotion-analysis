{
  "nbformat": 4,
  "nbformat_minor": 0,
  "metadata": {
    "colab": {
      "name": "Welcome To Colaboratory",
      "provenance": [],
      "collapsed_sections": []
    },
    "kernelspec": {
      "display_name": "Python 3",
      "name": "python3"
    }
  },
  "cells": [
    {
      "cell_type": "code",
      "metadata": {
        "id": "IR8gZA2eIJ7R",
        "colab_type": "code",
        "colab": {}
      },
      "source": [
        "import numpy as np\n",
        "import pandas as pd\n",
        "import matplotlib.pyplot as plt\n",
        "import csv\n",
        "import torch\n",
        "import torch.nn as nn\n",
        "import torch.nn.functional as F\n",
        "import torch.optim as optim"
      ],
      "execution_count": 0,
      "outputs": []
    },
    {
      "cell_type": "code",
      "metadata": {
        "id": "-WdMXiPtiG8e",
        "colab_type": "code",
        "colab": {
          "base_uri": "https://localhost:8080/",
          "height": 34
        },
        "outputId": "609b0366-727e-4fbf-94ba-1f6016cf42ab"
      },
      "source": [
        "%tensorflow_version 1.x"
      ],
      "execution_count": 1,
      "outputs": [
        {
          "output_type": "stream",
          "text": [
            "TensorFlow 1.x selected.\n"
          ],
          "name": "stdout"
        }
      ]
    },
    {
      "cell_type": "code",
      "metadata": {
        "id": "4opQaqhU8NQ4",
        "colab_type": "code",
        "colab": {}
      },
      "source": [
        "import numpy as np\n",
        "import pandas as pd\n",
        "import re, sys, os, csv\n",
        "from many_stop_words import get_stop_words\n",
        "from nltk.corpus import stopwords\n",
        "from nltk.tokenize import word_tokenize\n",
        "from collections import Counter"
      ],
      "execution_count": 0,
      "outputs": []
    },
    {
      "cell_type": "code",
      "metadata": {
        "id": "ofJlTetgMd8_",
        "colab_type": "code",
        "colab": {
          "base_uri": "https://localhost:8080/",
          "height": 68
        },
        "outputId": "3a559647-65e1-46ff-c8b7-50c9033988f9"
      },
      "source": [
        "import nltk\n",
        "nltk.download('stopwords')"
      ],
      "execution_count": 3,
      "outputs": [
        {
          "output_type": "stream",
          "text": [
            "[nltk_data] Downloading package stopwords to /root/nltk_data...\n",
            "[nltk_data]   Package stopwords is already up-to-date!\n"
          ],
          "name": "stdout"
        },
        {
          "output_type": "execute_result",
          "data": {
            "text/plain": [
              "True"
            ]
          },
          "metadata": {
            "tags": []
          },
          "execution_count": 3
        }
      ]
    },
    {
      "cell_type": "code",
      "metadata": {
        "id": "jnUBwnodGbsV",
        "colab_type": "code",
        "colab": {
          "base_uri": "https://localhost:8080/",
          "height": 190
        },
        "outputId": "beb981bb-8200-4637-c2c7-9bf7fec747fe"
      },
      "source": [
        "!pip install many_stop_words"
      ],
      "execution_count": 8,
      "outputs": [
        {
          "output_type": "stream",
          "text": [
            "Collecting many_stop_words\n",
            "  Downloading https://files.pythonhosted.org/packages/db/67/133043a8557622adc1db4b46c94c3f9b206900cc3988a7e0408f3a83dc81/many-stop-words-0.2.2.tar.gz\n",
            "Building wheels for collected packages: many-stop-words\n",
            "  Building wheel for many-stop-words (setup.py) ... \u001b[?25l\u001b[?25hdone\n",
            "  Created wheel for many-stop-words: filename=many_stop_words-0.2.2-cp36-none-any.whl size=26238 sha256=ad1fbb91fa0e4c21f6cb53a76ad97cfc4c61c58f469378968c67b98ce5418672\n",
            "  Stored in directory: /root/.cache/pip/wheels/cb/70/60/6cd0b179da831dc80b5b07bd58dbf4cd99fa82b289eb41ada8\n",
            "Successfully built many-stop-words\n",
            "Installing collected packages: many-stop-words\n",
            "Successfully installed many-stop-words-0.2.2\n"
          ],
          "name": "stdout"
        }
      ]
    },
    {
      "cell_type": "code",
      "metadata": {
        "id": "Txt3FcFe87ee",
        "colab_type": "code",
        "colab": {}
      },
      "source": [
        "stop_words = list(get_stop_words('en'))        #About 900 stop words\n",
        "set(stopwords.words('english'))\n",
        "nltk_words = list(stopwords.words('english'))   #About 150 stop words\n",
        "stop_words.extend(nltk_words)"
      ],
      "execution_count": 0,
      "outputs": []
    },
    {
      "cell_type": "code",
      "metadata": {
        "id": "xFthZolaL1tq",
        "colab_type": "code",
        "colab": {}
      },
      "source": [
        "def word_prob(word): return dictionary[word] / total\n",
        "def words(text): return re.findall('[a-z]+', text.lower())\n",
        "dictionary = Counter(words(open('merged.txt').read()))\n",
        "max_word_length = max(map(len, dictionary))\n",
        "total = float(sum(dictionary.values()))\n",
        "\n",
        "def viterbi_segment(text):\n",
        "    probs, lasts = [1.0], [0]\n",
        "    for i in range(1, len(text) + 1):\n",
        "        prob_k, k = max((probs[j] * word_prob(text[j:i]), j)\n",
        "                        for j in range(max(0, i - max_word_length), i))\n",
        "        probs.append(prob_k)\n",
        "        lasts.append(k)\n",
        "    words = []\n",
        "    i = len(text)\n",
        "    while 0 < i:\n",
        "        words.append(text[lasts[i]:i])\n",
        "        i = lasts[i]\n",
        "    words.reverse()\n",
        "    return words, probs[-1]\n",
        "def fix_hashtag(text):\n",
        "    text = text.group().split(\":\")[0]\n",
        "    text = text[1:] # remove '#'\n",
        "    try:\n",
        "        test = int(text[0])\n",
        "        text = text[1:]\n",
        "    except:\n",
        "        pass\n",
        "    output = ' '.join(viterbi_segment(text)[0])\n",
        "    #print(output)\n",
        "    return output\n",
        "\n",
        "def clean_tweet( tweet):\n",
        "        tweet = tweet.lower()\n",
        "        tweet = re.sub(\"(#[A-Za-z0-9]+)\", fix_hashtag, tweet)\n",
        "        return ' '.join(re.sub(\"(@[A-Za-z0-9]+)|([^0-9A-Za-z \\t])|(\\w+:\\/\\/\\S+)\", \" \", tweet).split())\n",
        "\n",
        "def remove_stopwords(word_list):\n",
        "        filtered_tweet=\"\"\n",
        "        for word in word_list:\n",
        "            word = word.lower() \n",
        "            if word not in stopwords.words(\"english\"):\n",
        "                filtered_tweet=filtered_tweet + \" \" + word\n",
        "        \n",
        "        return filtered_tweet.lstrip()\n",
        "\n",
        "\n"
      ],
      "execution_count": 0,
      "outputs": []
    },
    {
      "cell_type": "code",
      "metadata": {
        "id": "76UeUknaNpAJ",
        "colab_type": "code",
        "colab": {}
      },
      "source": [
        "data4 = pd.read_csv('/content/data_output1.csv')"
      ],
      "execution_count": 0,
      "outputs": []
    },
    {
      "cell_type": "code",
      "metadata": {
        "id": "PwpIfDq2IKKz",
        "colab_type": "code",
        "colab": {}
      },
      "source": [
        "data = pd.read_csv('iseardataset.csv')"
      ],
      "execution_count": 0,
      "outputs": []
    },
    {
      "cell_type": "code",
      "metadata": {
        "id": "BkLsEVcexNY6",
        "colab_type": "code",
        "colab": {}
      },
      "source": [
        "data = data[['text','label']]"
      ],
      "execution_count": 0,
      "outputs": []
    },
    {
      "cell_type": "code",
      "metadata": {
        "id": "gDo2ug6uxaEn",
        "colab_type": "code",
        "colab": {}
      },
      "source": [
        "data1= pd.read_csv('data.csv')"
      ],
      "execution_count": 0,
      "outputs": []
    },
    {
      "cell_type": "code",
      "metadata": {
        "id": "H2zVdZsCxVeR",
        "colab_type": "code",
        "colab": {}
      },
      "source": [
        "data2= pd.read_csv('text_emotion.csv')"
      ],
      "execution_count": 0,
      "outputs": []
    },
    {
      "cell_type": "code",
      "metadata": {
        "id": "P-ll8PnWyGVB",
        "colab_type": "code",
        "colab": {}
      },
      "source": [
        "data3= pd.read_csv('Equity-Evaluation-Corpus.csv')"
      ],
      "execution_count": 0,
      "outputs": []
    },
    {
      "cell_type": "code",
      "metadata": {
        "id": "uJEPTHN1ydc5",
        "colab_type": "code",
        "colab": {}
      },
      "source": [
        "data3=data3[['Sentence','Emotion']]"
      ],
      "execution_count": 0,
      "outputs": []
    },
    {
      "cell_type": "code",
      "metadata": {
        "id": "4PLNcEVK3nc9",
        "colab_type": "code",
        "colab": {
          "base_uri": "https://localhost:8080/",
          "height": 204
        },
        "outputId": "526c307c-3ee0-456f-9d8b-c3601ad89e85"
      },
      "source": [
        "data3[:5]"
      ],
      "execution_count": 13,
      "outputs": [
        {
          "output_type": "execute_result",
          "data": {
            "text/html": [
              "<div>\n",
              "<style scoped>\n",
              "    .dataframe tbody tr th:only-of-type {\n",
              "        vertical-align: middle;\n",
              "    }\n",
              "\n",
              "    .dataframe tbody tr th {\n",
              "        vertical-align: top;\n",
              "    }\n",
              "\n",
              "    .dataframe thead th {\n",
              "        text-align: right;\n",
              "    }\n",
              "</style>\n",
              "<table border=\"1\" class=\"dataframe\">\n",
              "  <thead>\n",
              "    <tr style=\"text-align: right;\">\n",
              "      <th></th>\n",
              "      <th>Sentence</th>\n",
              "      <th>Emotion</th>\n",
              "    </tr>\n",
              "  </thead>\n",
              "  <tbody>\n",
              "    <tr>\n",
              "      <th>0</th>\n",
              "      <td>Alonzo feels angry.</td>\n",
              "      <td>anger</td>\n",
              "    </tr>\n",
              "    <tr>\n",
              "      <th>1</th>\n",
              "      <td>Alonzo feels furious.</td>\n",
              "      <td>anger</td>\n",
              "    </tr>\n",
              "    <tr>\n",
              "      <th>2</th>\n",
              "      <td>Alonzo feels irritated.</td>\n",
              "      <td>anger</td>\n",
              "    </tr>\n",
              "    <tr>\n",
              "      <th>3</th>\n",
              "      <td>Alonzo feels enraged.</td>\n",
              "      <td>anger</td>\n",
              "    </tr>\n",
              "    <tr>\n",
              "      <th>4</th>\n",
              "      <td>Alonzo feels annoyed.</td>\n",
              "      <td>anger</td>\n",
              "    </tr>\n",
              "  </tbody>\n",
              "</table>\n",
              "</div>"
            ],
            "text/plain": [
              "                  Sentence Emotion\n",
              "0      Alonzo feels angry.   anger\n",
              "1    Alonzo feels furious.   anger\n",
              "2  Alonzo feels irritated.   anger\n",
              "3    Alonzo feels enraged.   anger\n",
              "4    Alonzo feels annoyed.   anger"
            ]
          },
          "metadata": {
            "tags": []
          },
          "execution_count": 13
        }
      ]
    },
    {
      "cell_type": "code",
      "metadata": {
        "id": "lbSBFgYvzCTU",
        "colab_type": "code",
        "colab": {}
      },
      "source": [
        "data2=data2[['sentiment','content']]"
      ],
      "execution_count": 0,
      "outputs": []
    },
    {
      "cell_type": "code",
      "metadata": {
        "id": "WVnMn52bzT-B",
        "colab_type": "code",
        "colab": {}
      },
      "source": [
        "data1.columns = ['text','label']"
      ],
      "execution_count": 0,
      "outputs": []
    },
    {
      "cell_type": "code",
      "metadata": {
        "id": "tAAj1CkS-VRh",
        "colab_type": "code",
        "colab": {}
      },
      "source": [
        "data2.columns = ['label','text']"
      ],
      "execution_count": 0,
      "outputs": []
    },
    {
      "cell_type": "code",
      "metadata": {
        "id": "muWvHtsO-pMo",
        "colab_type": "code",
        "colab": {}
      },
      "source": [
        "data3.columns = ['text','label']"
      ],
      "execution_count": 0,
      "outputs": []
    },
    {
      "cell_type": "code",
      "metadata": {
        "id": "xIA3S3mf1bNp",
        "colab_type": "code",
        "colab": {
          "base_uri": "https://localhost:8080/",
          "height": 153
        },
        "outputId": "3a822386-a0a5-4516-dbce-fb07bac9c512"
      },
      "source": [
        "data['label'].value_counts()"
      ],
      "execution_count": 18,
      "outputs": [
        {
          "output_type": "execute_result",
          "data": {
            "text/plain": [
              "joy        1092\n",
              "sadness    1082\n",
              "anger      1079\n",
              "fear       1076\n",
              "shame      1071\n",
              "disgust    1066\n",
              "guilt      1050\n",
              "Name: label, dtype: int64"
            ]
          },
          "metadata": {
            "tags": []
          },
          "execution_count": 18
        }
      ]
    },
    {
      "cell_type": "code",
      "metadata": {
        "id": "sHsjRkrB07AF",
        "colab_type": "code",
        "colab": {
          "base_uri": "https://localhost:8080/",
          "height": 102
        },
        "outputId": "6077cff6-c80f-4a11-c3fe-d08e97a80c61"
      },
      "source": [
        "data3['label'].value_counts()"
      ],
      "execution_count": 19,
      "outputs": [
        {
          "output_type": "execute_result",
          "data": {
            "text/plain": [
              "joy        2100\n",
              "sadness    2100\n",
              "anger      2100\n",
              "fear       2100\n",
              "Name: label, dtype: int64"
            ]
          },
          "metadata": {
            "tags": []
          },
          "execution_count": 19
        }
      ]
    },
    {
      "cell_type": "code",
      "metadata": {
        "id": "ygKCGWsKzzcu",
        "colab_type": "code",
        "colab": {
          "base_uri": "https://localhost:8080/",
          "height": 255
        },
        "outputId": "1491e8b0-3d6e-4188-9d9f-435e9ad8d9ba"
      },
      "source": [
        "data2['label'].value_counts()"
      ],
      "execution_count": 20,
      "outputs": [
        {
          "output_type": "execute_result",
          "data": {
            "text/plain": [
              "neutral       8638\n",
              "worry         8459\n",
              "happiness     5209\n",
              "sadness       5165\n",
              "love          3842\n",
              "surprise      2187\n",
              "fun           1776\n",
              "relief        1526\n",
              "hate          1323\n",
              "empty          827\n",
              "enthusiasm     759\n",
              "boredom        179\n",
              "anger          110\n",
              "Name: label, dtype: int64"
            ]
          },
          "metadata": {
            "tags": []
          },
          "execution_count": 20
        }
      ]
    },
    {
      "cell_type": "code",
      "metadata": {
        "id": "WbXbfkQB0IFb",
        "colab_type": "code",
        "colab": {
          "base_uri": "https://localhost:8080/",
          "height": 119
        },
        "outputId": "aea5cee7-a708-4630-bc9d-4d6a966a8101"
      },
      "source": [
        "data1['label'].value_counts()"
      ],
      "execution_count": 21,
      "outputs": [
        {
          "output_type": "execute_result",
          "data": {
            "text/plain": [
              "1    16297\n",
              "2    15938\n",
              "0     9643\n",
              "3     4301\n",
              "4     1108\n",
              "Name: label, dtype: int64"
            ]
          },
          "metadata": {
            "tags": []
          },
          "execution_count": 21
        }
      ]
    },
    {
      "cell_type": "code",
      "metadata": {
        "id": "afHPATG10X0X",
        "colab_type": "code",
        "colab": {}
      },
      "source": [
        "data1 = data1.loc[data1['label'].isin(['1','2','3','4'])]"
      ],
      "execution_count": 0,
      "outputs": []
    },
    {
      "cell_type": "code",
      "metadata": {
        "id": "DIwfAcoC7E1o",
        "colab_type": "code",
        "colab": {
          "base_uri": "https://localhost:8080/",
          "height": 102
        },
        "outputId": "68d23629-9c00-407a-af3e-5b64ae439e67"
      },
      "source": [
        "data1['label'].value_counts()"
      ],
      "execution_count": 23,
      "outputs": [
        {
          "output_type": "execute_result",
          "data": {
            "text/plain": [
              "1    16297\n",
              "2    15938\n",
              "3     4301\n",
              "4     1108\n",
              "Name: label, dtype: int64"
            ]
          },
          "metadata": {
            "tags": []
          },
          "execution_count": 23
        }
      ]
    },
    {
      "cell_type": "code",
      "metadata": {
        "id": "4XxDTAwf7OzZ",
        "colab_type": "code",
        "colab": {}
      },
      "source": [
        "#data2 = data2.loc[data2['label'].isin(['worry','enthusiasm ','fun','happiness','sadness','hate','anger'])]"
      ],
      "execution_count": 0,
      "outputs": []
    },
    {
      "cell_type": "code",
      "metadata": {
        "id": "6DlCC1Rc8muw",
        "colab_type": "code",
        "colab": {
          "base_uri": "https://localhost:8080/",
          "height": 136
        },
        "outputId": "36c46e6c-8e8c-4cf2-e1e5-4c59d84bcd00"
      },
      "source": [
        "#data2['label'].value_counts()"
      ],
      "execution_count": 41,
      "outputs": [
        {
          "output_type": "execute_result",
          "data": {
            "text/plain": [
              "worry        8459\n",
              "happiness    5209\n",
              "sadness      5165\n",
              "fun          1776\n",
              "hate         1323\n",
              "anger         110\n",
              "Name: label, dtype: int64"
            ]
          },
          "metadata": {
            "tags": []
          },
          "execution_count": 41
        }
      ]
    },
    {
      "cell_type": "code",
      "metadata": {
        "id": "1t6VHkgx8w4A",
        "colab_type": "code",
        "colab": {}
      },
      "source": [
        "data = data.loc[data['label'].isin(['fear','joy','sadness','anger'])]"
      ],
      "execution_count": 0,
      "outputs": []
    },
    {
      "cell_type": "code",
      "metadata": {
        "id": "jDaKc7xF9bP8",
        "colab_type": "code",
        "colab": {
          "base_uri": "https://localhost:8080/",
          "height": 102
        },
        "outputId": "1988b36b-ed8b-4991-f33b-79292dc18725"
      },
      "source": [
        "data['label'].value_counts()"
      ],
      "execution_count": 25,
      "outputs": [
        {
          "output_type": "execute_result",
          "data": {
            "text/plain": [
              "joy        1092\n",
              "sadness    1082\n",
              "anger      1079\n",
              "fear       1076\n",
              "Name: label, dtype: int64"
            ]
          },
          "metadata": {
            "tags": []
          },
          "execution_count": 25
        }
      ]
    },
    {
      "cell_type": "code",
      "metadata": {
        "id": "2TO-drt29g1U",
        "colab_type": "code",
        "colab": {}
      },
      "source": [
        "data4 = pd.concat([data1,data,data3], axis=0)"
      ],
      "execution_count": 0,
      "outputs": []
    },
    {
      "cell_type": "code",
      "metadata": {
        "id": "5TgxeOmg90QC",
        "colab_type": "code",
        "colab": {
          "base_uri": "https://localhost:8080/",
          "height": 419
        },
        "outputId": "6eb87b68-eeef-4f41-dc15-5dc741213371"
      },
      "source": [
        "data4"
      ],
      "execution_count": 5,
      "outputs": [
        {
          "output_type": "execute_result",
          "data": {
            "text/html": [
              "<div>\n",
              "<style scoped>\n",
              "    .dataframe tbody tr th:only-of-type {\n",
              "        vertical-align: middle;\n",
              "    }\n",
              "\n",
              "    .dataframe tbody tr th {\n",
              "        vertical-align: top;\n",
              "    }\n",
              "\n",
              "    .dataframe thead th {\n",
              "        text-align: right;\n",
              "    }\n",
              "</style>\n",
              "<table border=\"1\" class=\"dataframe\">\n",
              "  <thead>\n",
              "    <tr style=\"text-align: right;\">\n",
              "      <th></th>\n",
              "      <th>text</th>\n",
              "      <th>label</th>\n",
              "    </tr>\n",
              "  </thead>\n",
              "  <tbody>\n",
              "    <tr>\n",
              "      <th>0</th>\n",
              "      <td>sickening i hurt for florida later for the wha...</td>\n",
              "      <td>anger</td>\n",
              "    </tr>\n",
              "    <tr>\n",
              "      <th>1</th>\n",
              "      <td>this rainfall is a savage y fall when am in d ...</td>\n",
              "      <td>anger</td>\n",
              "    </tr>\n",
              "    <tr>\n",
              "      <th>2</th>\n",
              "      <td>angry guy screws his gf in very rude manner po...</td>\n",
              "      <td>anger</td>\n",
              "    </tr>\n",
              "    <tr>\n",
              "      <th>3</th>\n",
              "      <td>silence is better when you re angry and frustr...</td>\n",
              "      <td>anger</td>\n",
              "    </tr>\n",
              "    <tr>\n",
              "      <th>4</th>\n",
              "      <td>it s your smile which makes me cool and calm w...</td>\n",
              "      <td>anger</td>\n",
              "    </tr>\n",
              "    <tr>\n",
              "      <th>...</th>\n",
              "      <td>...</td>\n",
              "      <td>...</td>\n",
              "    </tr>\n",
              "    <tr>\n",
              "      <th>50368</th>\n",
              "      <td>The conversation with my mom was funny.</td>\n",
              "      <td>happy</td>\n",
              "    </tr>\n",
              "    <tr>\n",
              "      <th>50369</th>\n",
              "      <td>The conversation with my mom was hilarious.</td>\n",
              "      <td>happy</td>\n",
              "    </tr>\n",
              "    <tr>\n",
              "      <th>50370</th>\n",
              "      <td>The conversation with my mom was amazing.</td>\n",
              "      <td>happy</td>\n",
              "    </tr>\n",
              "    <tr>\n",
              "      <th>50371</th>\n",
              "      <td>The conversation with my mom was wonderful.</td>\n",
              "      <td>happy</td>\n",
              "    </tr>\n",
              "    <tr>\n",
              "      <th>50372</th>\n",
              "      <td>The conversation with my mom was great.</td>\n",
              "      <td>happy</td>\n",
              "    </tr>\n",
              "  </tbody>\n",
              "</table>\n",
              "<p>50373 rows × 2 columns</p>\n",
              "</div>"
            ],
            "text/plain": [
              "                                                    text  label\n",
              "0      sickening i hurt for florida later for the wha...  anger\n",
              "1      this rainfall is a savage y fall when am in d ...  anger\n",
              "2      angry guy screws his gf in very rude manner po...  anger\n",
              "3      silence is better when you re angry and frustr...  anger\n",
              "4      it s your smile which makes me cool and calm w...  anger\n",
              "...                                                  ...    ...\n",
              "50368            The conversation with my mom was funny.  happy\n",
              "50369        The conversation with my mom was hilarious.  happy\n",
              "50370          The conversation with my mom was amazing.  happy\n",
              "50371        The conversation with my mom was wonderful.  happy\n",
              "50372            The conversation with my mom was great.  happy\n",
              "\n",
              "[50373 rows x 2 columns]"
            ]
          },
          "metadata": {
            "tags": []
          },
          "execution_count": 5
        }
      ]
    },
    {
      "cell_type": "code",
      "metadata": {
        "id": "g5bKXJbc-73e",
        "colab_type": "code",
        "colab": {
          "base_uri": "https://localhost:8080/",
          "height": 119
        },
        "outputId": "bbc6cabf-1f99-4d2c-afe5-9373c375dc2f"
      },
      "source": [
        "data4['label'].value_counts()"
      ],
      "execution_count": 6,
      "outputs": [
        {
          "output_type": "execute_result",
          "data": {
            "text/plain": [
              "happy    19489\n",
              "sad      19120\n",
              "hate      4301\n",
              "anger     4287\n",
              "fear      3176\n",
              "Name: label, dtype: int64"
            ]
          },
          "metadata": {
            "tags": []
          },
          "execution_count": 6
        }
      ]
    },
    {
      "cell_type": "code",
      "metadata": {
        "id": "5_g3ipvz_RJS",
        "colab_type": "code",
        "colab": {}
      },
      "source": [
        "for index, row in data4.iterrows():\n",
        "    if (row[\"label\"] == 1):\n",
        "        row[\"label\"] = \"happy\"\n",
        "    if (row[\"label\"] == 2):\n",
        "        row[\"label\"] = \"sad\"\n",
        "    if (row[\"label\"] == 3):\n",
        "        row[\"label\"] = \"hate\"\n",
        "    if (row[\"label\"] == 4):\n",
        "        row[\"label\"] = \"anger\"\n",
        "    if (row[\"label\"] == \"sadness\"):\n",
        "        row[\"label\"] = \"sad\"\n",
        "    if (row[\"label\"] == \"joy\"):\n",
        "        row[\"label\"] = \"happy\""
      ],
      "execution_count": 0,
      "outputs": []
    },
    {
      "cell_type": "code",
      "metadata": {
        "id": "c-PjY0eFRd2a",
        "colab_type": "code",
        "colab": {
          "base_uri": "https://localhost:8080/",
          "height": 119
        },
        "outputId": "3e00138f-2b07-4ca1-a555-8d6b965aaa73"
      },
      "source": [
        "data4 = data4[~data4['label'].isnull()]\n",
        "data4['label'].value_counts()"
      ],
      "execution_count": 30,
      "outputs": [
        {
          "output_type": "execute_result",
          "data": {
            "text/plain": [
              "happy    19489\n",
              "sad      19120\n",
              "hate      4301\n",
              "anger     4287\n",
              "fear      3176\n",
              "Name: label, dtype: int64"
            ]
          },
          "metadata": {
            "tags": []
          },
          "execution_count": 30
        }
      ]
    },
    {
      "cell_type": "code",
      "metadata": {
        "id": "lIwdAowJTEXW",
        "colab_type": "code",
        "colab": {}
      },
      "source": [
        "\n",
        "data4.text=data4.text.astype(str)"
      ],
      "execution_count": 0,
      "outputs": []
    },
    {
      "cell_type": "code",
      "metadata": {
        "id": "6BwdGQmCRmgk",
        "colab_type": "code",
        "colab": {
          "base_uri": "https://localhost:8080/",
          "height": 197
        },
        "outputId": "71c3bbde-3df2-4d5a-bd86-c9afb1248f60"
      },
      "source": [
        "for row in data4['text']:\n",
        "  tweet= clean_tweet(row)\n",
        "  tweet = remove_stopwords(tweet.split())"
      ],
      "execution_count": 8,
      "outputs": [
        {
          "output_type": "error",
          "ename": "NameError",
          "evalue": "ignored",
          "traceback": [
            "\u001b[0;31m---------------------------------------------------------------------------\u001b[0m",
            "\u001b[0;31mNameError\u001b[0m                                 Traceback (most recent call last)",
            "\u001b[0;32m<ipython-input-8-9efb99e96569>\u001b[0m in \u001b[0;36m<module>\u001b[0;34m()\u001b[0m\n\u001b[1;32m      1\u001b[0m \u001b[0;32mfor\u001b[0m \u001b[0mrow\u001b[0m \u001b[0;32min\u001b[0m \u001b[0mdata4\u001b[0m\u001b[0;34m[\u001b[0m\u001b[0;34m'text'\u001b[0m\u001b[0;34m]\u001b[0m\u001b[0;34m:\u001b[0m\u001b[0;34m\u001b[0m\u001b[0;34m\u001b[0m\u001b[0m\n\u001b[0;32m----> 2\u001b[0;31m   \u001b[0mtweet\u001b[0m\u001b[0;34m=\u001b[0m \u001b[0mclean_tweet\u001b[0m\u001b[0;34m(\u001b[0m\u001b[0mrow\u001b[0m\u001b[0;34m)\u001b[0m\u001b[0;34m\u001b[0m\u001b[0;34m\u001b[0m\u001b[0m\n\u001b[0m\u001b[1;32m      3\u001b[0m   \u001b[0mtweet\u001b[0m \u001b[0;34m=\u001b[0m \u001b[0mremove_stopwords\u001b[0m\u001b[0;34m(\u001b[0m\u001b[0mtweet\u001b[0m\u001b[0;34m.\u001b[0m\u001b[0msplit\u001b[0m\u001b[0;34m(\u001b[0m\u001b[0;34m)\u001b[0m\u001b[0;34m)\u001b[0m\u001b[0;34m\u001b[0m\u001b[0;34m\u001b[0m\u001b[0m\n",
            "\u001b[0;31mNameError\u001b[0m: name 'clean_tweet' is not defined"
          ]
        }
      ]
    },
    {
      "cell_type": "code",
      "metadata": {
        "id": "FDLw_h_qTjqd",
        "colab_type": "code",
        "colab": {
          "base_uri": "https://localhost:8080/",
          "height": 221
        },
        "outputId": "857b18a6-02f4-41bb-a83b-dd90d19dec89"
      },
      "source": [
        "data4['label']"
      ],
      "execution_count": 37,
      "outputs": [
        {
          "output_type": "execute_result",
          "data": {
            "text/plain": [
              "0       anger\n",
              "1       anger\n",
              "2       anger\n",
              "3       anger\n",
              "4       anger\n",
              "        ...  \n",
              "8635    happy\n",
              "8636    happy\n",
              "8637    happy\n",
              "8638    happy\n",
              "8639    happy\n",
              "Name: label, Length: 50373, dtype: object"
            ]
          },
          "metadata": {
            "tags": []
          },
          "execution_count": 37
        }
      ]
    },
    {
      "cell_type": "code",
      "metadata": {
        "id": "ptzMV9cnA_Ib",
        "colab_type": "code",
        "colab": {}
      },
      "source": [
        "data4.to_csv('data_output1.csv', index=False)"
      ],
      "execution_count": 0,
      "outputs": []
    },
    {
      "cell_type": "code",
      "metadata": {
        "id": "CUuKefhsBYtk",
        "colab_type": "code",
        "colab": {
          "base_uri": "https://localhost:8080/",
          "height": 68
        },
        "outputId": "6ffdfc49-e698-4ad7-8f8a-ade7d403c198"
      },
      "source": [
        "MAX_NB_WORDS = 40000 # max no. of words for tokenizer\n",
        "MAX_SEQUENCE_LENGTH = 30 # max length of text (words) including padding\n",
        "VALIDATION_SPLIT = 0.2\n",
        "EMBEDDING_DIM = 200 # embedding dimensions for word vectors (word2vec/GloVe)\n",
        "GLOVE_DIR = \"/content/glove.6B.50d.txt\"\n",
        "print(\"[i] Loaded Parameters:\\n\",\n",
        "      MAX_NB_WORDS,MAX_SEQUENCE_LENGTH+5,\n",
        "      VALIDATION_SPLIT,EMBEDDING_DIM,\"\\n\",\n",
        "      GLOVE_DIR)"
      ],
      "execution_count": 9,
      "outputs": [
        {
          "output_type": "stream",
          "text": [
            "[i] Loaded Parameters:\n",
            " 40000 35 0.2 200 \n",
            " /content/glove.6B.50d.txt\n"
          ],
          "name": "stdout"
        }
      ]
    },
    {
      "cell_type": "code",
      "metadata": {
        "id": "Mvo4A9SrBiq1",
        "colab_type": "code",
        "colab": {
          "base_uri": "https://localhost:8080/",
          "height": 34
        },
        "outputId": "2292562b-e519-489a-96e2-513f36c50073"
      },
      "source": [
        "import numpy as np\n",
        "import pandas as pd\n",
        "import re, sys, os, csv, keras, pickle"
      ],
      "execution_count": 10,
      "outputs": [
        {
          "output_type": "stream",
          "text": [
            "Using TensorFlow backend.\n"
          ],
          "name": "stderr"
        }
      ]
    },
    {
      "cell_type": "code",
      "metadata": {
        "id": "MeoWUcJuCcz9",
        "colab_type": "code",
        "colab": {
          "base_uri": "https://localhost:8080/",
          "height": 34
        },
        "outputId": "2e6dbbd4-ee96-40a7-9f08-db5c1dfc6420"
      },
      "source": [
        "from keras.preprocessing.text import Tokenizer\n",
        "from keras.preprocessing.sequence import pad_sequences\n",
        "from keras.utils.np_utils import to_categorical\n",
        "from keras.layers import Embedding\n",
        "from keras.layers import Dense, Input, Flatten, Concatenate\n",
        "from keras.layers import Conv1D, MaxPooling1D,Add, Embedding, Dropout, LSTM, GRU, Bidirectional\n",
        "from keras.models import Model\n",
        "from keras import backend as K\n",
        "from keras.engine.topology import Layer, InputSpec\n",
        "print(\"[+] Using Keras version\",keras.__version__)"
      ],
      "execution_count": 11,
      "outputs": [
        {
          "output_type": "stream",
          "text": [
            "[+] Using Keras version 2.2.5\n"
          ],
          "name": "stdout"
        }
      ]
    },
    {
      "cell_type": "code",
      "metadata": {
        "id": "NEhlkz49Gl2_",
        "colab_type": "code",
        "colab": {
          "base_uri": "https://localhost:8080/",
          "height": 34
        },
        "outputId": "c27f2166-6bfb-439e-f5ec-34671e9670d9"
      },
      "source": [
        "texts=[]\n",
        "for row in data4['text']:\n",
        "        texts.append(row)\n",
        "print(\"Done!\")"
      ],
      "execution_count": 12,
      "outputs": [
        {
          "output_type": "stream",
          "text": [
            "Done!\n"
          ],
          "name": "stdout"
        }
      ]
    },
    {
      "cell_type": "code",
      "metadata": {
        "id": "GFimLgKOJIts",
        "colab_type": "code",
        "colab": {
          "base_uri": "https://localhost:8080/",
          "height": 122
        },
        "outputId": "6147923b-9d60-4e34-c6eb-d0640edff42e"
      },
      "source": [
        "texts[:5]"
      ],
      "execution_count": 13,
      "outputs": [
        {
          "output_type": "execute_result",
          "data": {
            "text/plain": [
              "['sickening i hurt for florida later for the what if s and i know how they feel no you don t i can t imagin',\n",
              " 'this rainfall is a savage y fall when am in d club n when am home its hot like hell without no light angry',\n",
              " 'angry guy screws his gf in very rude manner portsmouth',\n",
              " 'silence is better when you re angry and frustrated reacting to it will fuel the pain',\n",
              " 'it s your smile which makes me cool and calm when i am sad or angry smile cool calm sad angry edits by birdies yo']"
            ]
          },
          "metadata": {
            "tags": []
          },
          "execution_count": 13
        }
      ]
    },
    {
      "cell_type": "code",
      "metadata": {
        "id": "ZyGTXTXeH4LL",
        "colab_type": "code",
        "colab": {}
      },
      "source": [
        "data4.loc[data4['label'] =='happy' , 'label'] = 0\n",
        "data4.loc[data4['label'] =='sad' , 'label'] = 1\n",
        "data4.loc[data4['label'] =='hate' , 'label'] = 2\n",
        "data4.loc[data4['label'] =='anger' , 'label'] = 3\n",
        "data4.loc[data4['label'] =='fear' , 'label'] = 4\n"
      ],
      "execution_count": 0,
      "outputs": []
    },
    {
      "cell_type": "code",
      "metadata": {
        "id": "ud3sGSy-VYTU",
        "colab_type": "code",
        "colab": {
          "base_uri": "https://localhost:8080/",
          "height": 119
        },
        "outputId": "47efd1ae-9842-4d15-c7dd-bd9b79434c0b"
      },
      "source": [
        "data4['label'].value_counts()"
      ],
      "execution_count": 21,
      "outputs": [
        {
          "output_type": "execute_result",
          "data": {
            "text/plain": [
              "0    19489\n",
              "1    19120\n",
              "2     4301\n",
              "3     4287\n",
              "4     3176\n",
              "Name: label, dtype: int64"
            ]
          },
          "metadata": {
            "tags": []
          },
          "execution_count": 21
        }
      ]
    },
    {
      "cell_type": "code",
      "metadata": {
        "id": "ZEC5SZjELyUa",
        "colab_type": "code",
        "colab": {
          "base_uri": "https://localhost:8080/",
          "height": 34
        },
        "outputId": "99cb3913-2da6-4b72-8be4-e30e9eea9455"
      },
      "source": [
        "#labels=[]\n",
        "#for row in data4['label']:\n",
        " #       labels.append(row)\n",
        "#print(\"Done!\")"
      ],
      "execution_count": 85,
      "outputs": [
        {
          "output_type": "stream",
          "text": [
            "Done!\n"
          ],
          "name": "stdout"
        }
      ]
    },
    {
      "cell_type": "code",
      "metadata": {
        "id": "n43jPLSoC_uT",
        "colab_type": "code",
        "colab": {}
      },
      "source": [
        "tokenizer = Tokenizer(num_words=MAX_NB_WORDS)\n",
        "tokenizer.fit_on_texts(texts)"
      ],
      "execution_count": 0,
      "outputs": []
    },
    {
      "cell_type": "code",
      "metadata": {
        "id": "5h64n_HFNSMU",
        "colab_type": "code",
        "colab": {
          "base_uri": "https://localhost:8080/",
          "height": 34
        },
        "outputId": "a79ae8c6-8c5f-4bb8-aaf4-b0f231d2862c"
      },
      "source": [
        "with open('tokenizer.pickle', 'wb') as handle:\n",
        "    pickle.dump(tokenizer, handle, protocol=pickle.HIGHEST_PROTOCOL)\n",
        "print(\"[i] Saved word tokenizer to file: tokenizer.pickle\")"
      ],
      "execution_count": 15,
      "outputs": [
        {
          "output_type": "stream",
          "text": [
            "[i] Saved word tokenizer to file: tokenizer.pickle\n"
          ],
          "name": "stdout"
        }
      ]
    },
    {
      "cell_type": "code",
      "metadata": {
        "id": "FPMtysm_DEH-",
        "colab_type": "code",
        "colab": {}
      },
      "source": [
        "with open('tokenizer.pickle', 'rb') as handle:\n",
        "    tokenizer = pickle.load(handle)"
      ],
      "execution_count": 0,
      "outputs": []
    },
    {
      "cell_type": "code",
      "metadata": {
        "id": "LcdjkqMpDPXP",
        "colab_type": "code",
        "colab": {
          "base_uri": "https://localhost:8080/",
          "height": 34
        },
        "outputId": "41b3add7-5177-4d07-acfd-a1119e0bf377"
      },
      "source": [
        "sequences = tokenizer.texts_to_sequences(texts)\n",
        "word_index = tokenizer.word_index\n",
        "print('[i] Found %s unique tokens.' % len(word_index))\n",
        "data_int = pad_sequences(sequences, padding='pre', maxlen=(MAX_SEQUENCE_LENGTH-5))\n",
        "data = pad_sequences(data_int, padding='post', maxlen=(MAX_SEQUENCE_LENGTH))"
      ],
      "execution_count": 17,
      "outputs": [
        {
          "output_type": "stream",
          "text": [
            "[i] Found 32221 unique tokens.\n"
          ],
          "name": "stdout"
        }
      ]
    },
    {
      "cell_type": "code",
      "metadata": {
        "id": "-WOhYSjHUKYj",
        "colab_type": "code",
        "colab": {
          "base_uri": "https://localhost:8080/",
          "height": 85
        },
        "outputId": "8f228ae1-9ac8-4210-c53d-698b2053f5a1"
      },
      "source": [
        "data[1]"
      ],
      "execution_count": 18,
      "outputs": [
        {
          "output_type": "execute_result",
          "data": {
            "text/plain": [
              "array([    0,    24, 15191,    14,     4, 15192,   448,   997,    25,\n",
              "          90,     9,   181,   905,   325,    25,    90,    97,   101,\n",
              "         360,    47,   583,   294,    50,  1043,    78,     0,     0,\n",
              "           0,     0,     0], dtype=int32)"
            ]
          },
          "metadata": {
            "tags": []
          },
          "execution_count": 18
        }
      ]
    },
    {
      "cell_type": "code",
      "metadata": {
        "id": "p5m8iSIoDY2j",
        "colab_type": "code",
        "colab": {
          "base_uri": "https://localhost:8080/",
          "height": 221
        },
        "outputId": "1228cb62-aeae-490a-9a68-82f787b33ee9"
      },
      "source": [
        "#labels = to_categorical(np.asarray(labels)) # convert to one-hot encoding vectors\n",
        "print('[+] Shape of data tensor:', data.shape)\n",
        "#print('[+] Shape of label tensor:', labels.shape)\n",
        "\n",
        "\n",
        "# Y contained some other garbage, so null check was not enough\n",
        "#df = df[df['y'].str.isnumeric()]\n",
        "labels = to_categorical(data4['label'], num_classes=5)\n",
        "print(labels[:10])\n",
        "print('[+] Shape of label tensor:', labels.shape)"
      ],
      "execution_count": 22,
      "outputs": [
        {
          "output_type": "stream",
          "text": [
            "[+] Shape of data tensor: (50373, 30)\n",
            "[[0. 0. 0. 1. 0.]\n",
            " [0. 0. 0. 1. 0.]\n",
            " [0. 0. 0. 1. 0.]\n",
            " [0. 0. 0. 1. 0.]\n",
            " [0. 0. 0. 1. 0.]\n",
            " [0. 0. 0. 1. 0.]\n",
            " [0. 0. 0. 1. 0.]\n",
            " [0. 0. 0. 1. 0.]\n",
            " [0. 0. 0. 1. 0.]\n",
            " [0. 0. 0. 1. 0.]]\n",
            "[+] Shape of label tensor: (50373, 5)\n"
          ],
          "name": "stdout"
        }
      ]
    },
    {
      "cell_type": "code",
      "metadata": {
        "id": "v82luw1RDfGk",
        "colab_type": "code",
        "colab": {}
      },
      "source": [
        "indices = np.arange(data.shape[0])\n",
        "np.random.shuffle(indices)\n",
        "data = data[indices]\n",
        "labels = labels[indices]\n",
        "nb_validation_samples = int(VALIDATION_SPLIT * data.shape[0])"
      ],
      "execution_count": 0,
      "outputs": []
    },
    {
      "cell_type": "code",
      "metadata": {
        "id": "67Q-aFGhDiNH",
        "colab_type": "code",
        "colab": {
          "base_uri": "https://localhost:8080/",
          "height": 102
        },
        "outputId": "ed6c008f-7e7c-4421-bd91-4fcc012137ae"
      },
      "source": [
        "x_train = data[:-nb_validation_samples]\n",
        "y_train = labels[:-nb_validation_samples]\n",
        "x_val = data[-nb_validation_samples:]\n",
        "y_val = labels[-nb_validation_samples:]\n",
        "\n",
        "print('[i] Number of entries in each category:')\n",
        "print(\"[+] Training:\\n\",y_train.sum(axis=0))\n",
        "print(\"[+] Validation:\\n\",y_val.sum(axis=0))"
      ],
      "execution_count": 24,
      "outputs": [
        {
          "output_type": "stream",
          "text": [
            "[i] Number of entries in each category:\n",
            "[+] Training:\n",
            " [15600. 15273.  3441.  3453.  2532.]\n",
            "[+] Validation:\n",
            " [3889. 3847.  860.  834.  644.]\n"
          ],
          "name": "stdout"
        }
      ]
    },
    {
      "cell_type": "code",
      "metadata": {
        "id": "a2G7R8YnZ03Y",
        "colab_type": "code",
        "colab": {}
      },
      "source": [
        "EMBEDDING_DIM = 50"
      ],
      "execution_count": 0,
      "outputs": []
    },
    {
      "cell_type": "code",
      "metadata": {
        "id": "44-jTmWUDnD9",
        "colab_type": "code",
        "colab": {
          "base_uri": "https://localhost:8080/",
          "height": 51
        },
        "outputId": "bb4e4a66-3d0b-45ce-b0a9-a85ad7eafae1"
      },
      "source": [
        "embeddings_index = {}\n",
        "f = open(GLOVE_DIR)\n",
        "print(\"[i] Loading GloVe from:\",GLOVE_DIR,\"...\",end=\"\")\n",
        "for line in f:\n",
        "    values = line.split()\n",
        "    word = values[0]\n",
        "    embeddings_index[word] = np.asarray(values[1:], dtype='float32')\n",
        "f.close()\n",
        "print(\"Done.\\n[+] Proceeding with Embedding Matrix...\", end=\"\")\n",
        "embedding_matrix = np.random.random((len(word_index) + 1, EMBEDDING_DIM))\n",
        "for word, i in word_index.items():\n",
        "    embedding_vector = embeddings_index.get(word)\n",
        "    if embedding_vector is not None:\n",
        "        # words not found in embedding index will be all-zeros.\n",
        "        embedding_matrix[i] = embedding_vector\n",
        "print(\"[i] Completed!\")"
      ],
      "execution_count": 26,
      "outputs": [
        {
          "output_type": "stream",
          "text": [
            "[i] Loading GloVe from: /content/glove.6B.50d.txt ...Done.\n",
            "[+] Proceeding with Embedding Matrix...[i] Completed!\n"
          ],
          "name": "stdout"
        }
      ]
    },
    {
      "cell_type": "code",
      "metadata": {
        "id": "stqESXzRD2FE",
        "colab_type": "code",
        "colab": {}
      },
      "source": [
        "def get_lr_metric(optimizer):\n",
        "    def lr(y_true, y_pred):\n",
        "        return optimizer.lr\n",
        "    return lr"
      ],
      "execution_count": 0,
      "outputs": []
    },
    {
      "cell_type": "code",
      "metadata": {
        "id": "iFeTLyd8D_KS",
        "colab_type": "code",
        "colab": {}
      },
      "source": [
        "def initial_boost(epoch):\n",
        "    if epoch==0: return float(8.0)\n",
        "    elif epoch==1: return float(4.0)\n",
        "    elif epoch==2: return float(2.0)\n",
        "    elif epoch==3: return float(1.5)\n",
        "    else: return float(1.0)"
      ],
      "execution_count": 0,
      "outputs": []
    },
    {
      "cell_type": "code",
      "metadata": {
        "id": "ka3OVcThEB52",
        "colab_type": "code",
        "colab": {}
      },
      "source": [
        "def step_cyclic(epoch):\n",
        "    try:\n",
        "        l_r, decay = 1.0, 0.0001\n",
        "        if epoch%33==0:multiplier = 10\n",
        "        else:multiplier = 1\n",
        "        rate = float(multiplier * l_r * 1/(1 + decay * epoch))\n",
        "        #print(\"Epoch\",epoch+1,\"- learning_rate\",rate)\n",
        "        return rate\n",
        "    except Exception as e:\n",
        "        print(\"Error in lr_schedule:\",str(e))\n",
        "        return float(1.0)"
      ],
      "execution_count": 0,
      "outputs": []
    },
    {
      "cell_type": "code",
      "metadata": {
        "id": "h2ohRtLzEEx6",
        "colab_type": "code",
        "colab": {
          "base_uri": "https://localhost:8080/",
          "height": 34
        },
        "outputId": "1eb87af4-9e22-4d00-8fd9-126bec0522df"
      },
      "source": [
        "embedding_matrix_ns = np.random.random((len(word_index) + 1, EMBEDDING_DIM))\n",
        "for word, i in word_index.items():\n",
        "    embedding_vector = embeddings_index.get(word)\n",
        "    if embedding_vector is not None:\n",
        "        # words not found in embedding index will be all-zeros.\n",
        "        embedding_matrix_ns[i] = embedding_vector\n",
        "print(\"Completed!\")"
      ],
      "execution_count": 30,
      "outputs": [
        {
          "output_type": "stream",
          "text": [
            "Completed!\n"
          ],
          "name": "stdout"
        }
      ]
    },
    {
      "cell_type": "code",
      "metadata": {
        "id": "y5bcnWkvEH4m",
        "colab_type": "code",
        "colab": {
          "base_uri": "https://localhost:8080/",
          "height": 343
        },
        "outputId": "4372fb65-15cf-41c0-95d0-00b4cd0fa53a"
      },
      "source": [
        "\n",
        "sequence_input = Input(shape=(MAX_SEQUENCE_LENGTH,), dtype='int32')\n",
        "\n",
        "# static channel\n",
        "embedding_layer_frozen = Embedding(len(word_index) + 1,\n",
        "                            EMBEDDING_DIM,\n",
        "                            weights=[embedding_matrix],\n",
        "                            input_length=MAX_SEQUENCE_LENGTH,\n",
        "                            trainable=False)\n",
        "embedded_sequences_frozen = embedding_layer_frozen(sequence_input)\n",
        "\n",
        "# non-static channel\n",
        "embedding_layer_train = Embedding(len(word_index) + 1,\n",
        "                            EMBEDDING_DIM,\n",
        "                            weights=[embedding_matrix_ns],\n",
        "                            input_length=MAX_SEQUENCE_LENGTH,\n",
        "                            trainable=True)\n",
        "embedded_sequences_train = embedding_layer_train(sequence_input)"
      ],
      "execution_count": 31,
      "outputs": [
        {
          "output_type": "stream",
          "text": [
            "WARNING:tensorflow:From /usr/local/lib/python3.6/dist-packages/keras/backend/tensorflow_backend.py:66: The name tf.get_default_graph is deprecated. Please use tf.compat.v1.get_default_graph instead.\n",
            "\n",
            "WARNING:tensorflow:From /usr/local/lib/python3.6/dist-packages/keras/backend/tensorflow_backend.py:541: The name tf.placeholder is deprecated. Please use tf.compat.v1.placeholder instead.\n",
            "\n",
            "WARNING:tensorflow:From /usr/local/lib/python3.6/dist-packages/keras/backend/tensorflow_backend.py:4432: The name tf.random_uniform is deprecated. Please use tf.random.uniform instead.\n",
            "\n",
            "WARNING:tensorflow:From /usr/local/lib/python3.6/dist-packages/keras/backend/tensorflow_backend.py:190: The name tf.get_default_session is deprecated. Please use tf.compat.v1.get_default_session instead.\n",
            "\n",
            "WARNING:tensorflow:From /usr/local/lib/python3.6/dist-packages/keras/backend/tensorflow_backend.py:197: The name tf.ConfigProto is deprecated. Please use tf.compat.v1.ConfigProto instead.\n",
            "\n",
            "WARNING:tensorflow:From /usr/local/lib/python3.6/dist-packages/keras/backend/tensorflow_backend.py:203: The name tf.Session is deprecated. Please use tf.compat.v1.Session instead.\n",
            "\n",
            "WARNING:tensorflow:From /usr/local/lib/python3.6/dist-packages/keras/backend/tensorflow_backend.py:207: The name tf.global_variables is deprecated. Please use tf.compat.v1.global_variables instead.\n",
            "\n",
            "WARNING:tensorflow:From /usr/local/lib/python3.6/dist-packages/keras/backend/tensorflow_backend.py:216: The name tf.is_variable_initialized is deprecated. Please use tf.compat.v1.is_variable_initialized instead.\n",
            "\n",
            "WARNING:tensorflow:From /usr/local/lib/python3.6/dist-packages/keras/backend/tensorflow_backend.py:223: The name tf.variables_initializer is deprecated. Please use tf.compat.v1.variables_initializer instead.\n",
            "\n"
          ],
          "name": "stdout"
        }
      ]
    },
    {
      "cell_type": "code",
      "metadata": {
        "id": "UgiwrPObENqb",
        "colab_type": "code",
        "colab": {
          "base_uri": "https://localhost:8080/",
          "height": 122
        },
        "outputId": "b56ec63d-158f-45c1-c9be-d25cfb2c65a0"
      },
      "source": [
        "l_lstm1f = Bidirectional(LSTM(6,return_sequences=True,dropout=0.3, recurrent_dropout=0.0))(embedded_sequences_frozen)\n",
        "l_lstm1t = Bidirectional(LSTM(6,return_sequences=True,dropout=0.3, recurrent_dropout=0.0))(embedded_sequences_train)\n",
        "l_lstm1 = Concatenate(axis=1)([l_lstm1f, l_lstm1t])"
      ],
      "execution_count": 32,
      "outputs": [
        {
          "output_type": "stream",
          "text": [
            "WARNING:tensorflow:From /usr/local/lib/python3.6/dist-packages/keras/backend/tensorflow_backend.py:148: The name tf.placeholder_with_default is deprecated. Please use tf.compat.v1.placeholder_with_default instead.\n",
            "\n",
            "WARNING:tensorflow:From /usr/local/lib/python3.6/dist-packages/keras/backend/tensorflow_backend.py:3733: calling dropout (from tensorflow.python.ops.nn_ops) with keep_prob is deprecated and will be removed in a future version.\n",
            "Instructions for updating:\n",
            "Please use `rate` instead of `keep_prob`. Rate should be set to `rate = 1 - keep_prob`.\n"
          ],
          "name": "stdout"
        }
      ]
    },
    {
      "cell_type": "code",
      "metadata": {
        "id": "MvLyx9CUERCu",
        "colab_type": "code",
        "colab": {}
      },
      "source": [
        "from keras import regularizers"
      ],
      "execution_count": 0,
      "outputs": []
    },
    {
      "cell_type": "code",
      "metadata": {
        "id": "zwgfuwG_EUN8",
        "colab_type": "code",
        "colab": {}
      },
      "source": [
        "l_conv_2 = Conv1D(filters=24,kernel_size=2,activation='relu')(l_lstm1)\n",
        "l_conv_2 = Dropout(0.3)(l_conv_2)\n",
        "l_conv_3 = Conv1D(filters=24,kernel_size=3,activation='relu')(l_lstm1)\n",
        "l_conv_3 = Dropout(0.3)(l_conv_3)\n",
        "\n",
        "l_conv_5 = Conv1D(filters=24,kernel_size=5,activation='relu',)(l_lstm1)\n",
        "l_conv_5 = Dropout(0.3)(l_conv_5)\n",
        "l_conv_6 = Conv1D(filters=24,kernel_size=6,activation='relu',kernel_regularizer=regularizers.l2(0.0001))(l_lstm1)\n",
        "l_conv_6 = Dropout(0.3)(l_conv_6)\n",
        "\n",
        "l_conv_8 = Conv1D(filters=24,kernel_size=8,activation='relu',kernel_regularizer=regularizers.l2(0.0001))(l_lstm1)\n",
        "l_conv_8 = Dropout(0.3)(l_conv_8)\n",
        "\n",
        "conv_1 = [l_conv_6,l_conv_5, l_conv_8,l_conv_2,l_conv_3]\n",
        "\n",
        "l_lstm_c = Concatenate(axis=1)(conv_1)"
      ],
      "execution_count": 0,
      "outputs": []
    },
    {
      "cell_type": "code",
      "metadata": {
        "id": "0L1pt7fCEYla",
        "colab_type": "code",
        "colab": {}
      },
      "source": [
        "l_conv_4f = Conv1D(filters=12,kernel_size=4,activation='relu',kernel_regularizer=regularizers.l2(0.0001))(embedded_sequences_frozen)\n",
        "l_conv_4f = Dropout(0.3)(l_conv_4f)\n",
        "l_conv_4t = Conv1D(filters=12,kernel_size=4,activation='relu',kernel_regularizer=regularizers.l2(0.0001))(embedded_sequences_train)\n",
        "l_conv_4t = Dropout(0.3)(l_conv_4t)\n",
        "\n",
        "l_conv_3f = Conv1D(filters=12,kernel_size=3,activation='relu',)(embedded_sequences_frozen)\n",
        "l_conv_3f = Dropout(0.3)(l_conv_3f)\n",
        "l_conv_3t = Conv1D(filters=12,kernel_size=3,activation='relu',)(embedded_sequences_train)\n",
        "l_conv_3t = Dropout(0.3)(l_conv_3t)\n",
        "\n",
        "l_conv_2f = Conv1D(filters=12,kernel_size=2,activation='relu')(embedded_sequences_frozen)\n",
        "l_conv_2f = Dropout(0.3)(l_conv_2f)\n",
        "l_conv_2t = Conv1D(filters=12,kernel_size=2,activation='relu')(embedded_sequences_train)\n",
        "l_conv_2t = Dropout(0.3)(l_conv_2t)\n",
        "\n",
        "conv_2 = [l_conv_4f, l_conv_4t,l_conv_3f, l_conv_3t, l_conv_2f, l_conv_2t]\n",
        "\n",
        "l_merge_2 = Concatenate(axis=1)(conv_2)\n",
        "l_c_lstm = Bidirectional(LSTM(12,return_sequences=True,dropout=0.3, recurrent_dropout=0.0))(l_merge_2)"
      ],
      "execution_count": 0,
      "outputs": []
    },
    {
      "cell_type": "code",
      "metadata": {
        "id": "PaSZHz9ZEg1c",
        "colab_type": "code",
        "colab": {
          "base_uri": "https://localhost:8080/",
          "height": 71
        },
        "outputId": "e47f614b-ed5c-4603-e938-c2a63163445d"
      },
      "source": [
        "l_merge = Concatenate(axis=1)([l_lstm_c, l_c_lstm])\n",
        "l_pool = MaxPooling1D(4)(l_merge)\n",
        "l_drop = Dropout(0.5)(l_pool)\n",
        "l_flat = Flatten()(l_drop)\n",
        "l_dense = Dense(26, activation='relu')(l_flat)\n",
        "preds = Dense(5, activation='softmax')(l_dense)"
      ],
      "execution_count": 36,
      "outputs": [
        {
          "output_type": "stream",
          "text": [
            "WARNING:tensorflow:From /usr/local/lib/python3.6/dist-packages/keras/backend/tensorflow_backend.py:4267: The name tf.nn.max_pool is deprecated. Please use tf.nn.max_pool2d instead.\n",
            "\n"
          ],
          "name": "stdout"
        }
      ]
    },
    {
      "cell_type": "code",
      "metadata": {
        "id": "UiRK5zhDEkZv",
        "colab_type": "code",
        "colab": {}
      },
      "source": [
        "from keras import optimizers\n",
        "from keras import callbacks"
      ],
      "execution_count": 0,
      "outputs": []
    },
    {
      "cell_type": "code",
      "metadata": {
        "id": "ZoziaiGWEnLJ",
        "colab_type": "code",
        "colab": {
          "base_uri": "https://localhost:8080/",
          "height": 105
        },
        "outputId": "0f2643ee-524e-459a-8978-38edad5cad03"
      },
      "source": [
        "model = Model(sequence_input, preds)\n",
        "adadelta = optimizers.Adadelta(lr=0.9, rho=0.95, epsilon=None, decay=0.002)\n",
        "lr_metric = get_lr_metric(adadelta)\n",
        "model.compile(loss='categorical_crossentropy',\n",
        "              optimizer=adadelta,\n",
        "              metrics=['acc'])"
      ],
      "execution_count": 38,
      "outputs": [
        {
          "output_type": "stream",
          "text": [
            "WARNING:tensorflow:From /usr/local/lib/python3.6/dist-packages/keras/optimizers.py:793: The name tf.train.Optimizer is deprecated. Please use tf.compat.v1.train.Optimizer instead.\n",
            "\n",
            "WARNING:tensorflow:From /usr/local/lib/python3.6/dist-packages/keras/backend/tensorflow_backend.py:3576: The name tf.log is deprecated. Please use tf.math.log instead.\n",
            "\n"
          ],
          "name": "stdout"
        }
      ]
    },
    {
      "cell_type": "code",
      "metadata": {
        "id": "8x4iS9JlEtZn",
        "colab_type": "code",
        "colab": {}
      },
      "source": [
        "tensorboard = callbacks.TensorBoard(log_dir='./logs', histogram_freq=0, batch_size=16, write_grads=True , write_graph=True)\n",
        "model_checkpoints = callbacks.ModelCheckpoint(\"checkpoint-{val_loss:.3f}.h5\", monitor='val_loss', verbose=0, save_best_only=True, save_weights_only=False, mode='auto', period=0)\n",
        "lr_schedule = callbacks.LearningRateScheduler(initial_boost)"
      ],
      "execution_count": 0,
      "outputs": []
    },
    {
      "cell_type": "code",
      "metadata": {
        "id": "TK9YavsLExH2",
        "colab_type": "code",
        "colab": {
          "base_uri": "https://localhost:8080/",
          "height": 1000
        },
        "outputId": "279f123f-22d4-45e3-d71b-77b1e4f54177"
      },
      "source": [
        "model.summary()\n",
        "model.save('BalanceNet.h5')"
      ],
      "execution_count": 40,
      "outputs": [
        {
          "output_type": "stream",
          "text": [
            "Model: \"model_1\"\n",
            "__________________________________________________________________________________________________\n",
            "Layer (type)                    Output Shape         Param #     Connected to                     \n",
            "==================================================================================================\n",
            "input_1 (InputLayer)            (None, 30)           0                                            \n",
            "__________________________________________________________________________________________________\n",
            "embedding_1 (Embedding)         (None, 30, 50)       1611100     input_1[0][0]                    \n",
            "__________________________________________________________________________________________________\n",
            "embedding_2 (Embedding)         (None, 30, 50)       1611100     input_1[0][0]                    \n",
            "__________________________________________________________________________________________________\n",
            "bidirectional_1 (Bidirectional) (None, 30, 12)       2736        embedding_1[0][0]                \n",
            "__________________________________________________________________________________________________\n",
            "bidirectional_2 (Bidirectional) (None, 30, 12)       2736        embedding_2[0][0]                \n",
            "__________________________________________________________________________________________________\n",
            "concatenate_1 (Concatenate)     (None, 60, 12)       0           bidirectional_1[0][0]            \n",
            "                                                                 bidirectional_2[0][0]            \n",
            "__________________________________________________________________________________________________\n",
            "conv1d_6 (Conv1D)               (None, 27, 12)       2412        embedding_1[0][0]                \n",
            "__________________________________________________________________________________________________\n",
            "conv1d_7 (Conv1D)               (None, 27, 12)       2412        embedding_2[0][0]                \n",
            "__________________________________________________________________________________________________\n",
            "conv1d_8 (Conv1D)               (None, 28, 12)       1812        embedding_1[0][0]                \n",
            "__________________________________________________________________________________________________\n",
            "conv1d_9 (Conv1D)               (None, 28, 12)       1812        embedding_2[0][0]                \n",
            "__________________________________________________________________________________________________\n",
            "conv1d_10 (Conv1D)              (None, 29, 12)       1212        embedding_1[0][0]                \n",
            "__________________________________________________________________________________________________\n",
            "conv1d_11 (Conv1D)              (None, 29, 12)       1212        embedding_2[0][0]                \n",
            "__________________________________________________________________________________________________\n",
            "conv1d_4 (Conv1D)               (None, 55, 24)       1752        concatenate_1[0][0]              \n",
            "__________________________________________________________________________________________________\n",
            "conv1d_3 (Conv1D)               (None, 56, 24)       1464        concatenate_1[0][0]              \n",
            "__________________________________________________________________________________________________\n",
            "conv1d_5 (Conv1D)               (None, 53, 24)       2328        concatenate_1[0][0]              \n",
            "__________________________________________________________________________________________________\n",
            "conv1d_1 (Conv1D)               (None, 59, 24)       600         concatenate_1[0][0]              \n",
            "__________________________________________________________________________________________________\n",
            "conv1d_2 (Conv1D)               (None, 58, 24)       888         concatenate_1[0][0]              \n",
            "__________________________________________________________________________________________________\n",
            "dropout_6 (Dropout)             (None, 27, 12)       0           conv1d_6[0][0]                   \n",
            "__________________________________________________________________________________________________\n",
            "dropout_7 (Dropout)             (None, 27, 12)       0           conv1d_7[0][0]                   \n",
            "__________________________________________________________________________________________________\n",
            "dropout_8 (Dropout)             (None, 28, 12)       0           conv1d_8[0][0]                   \n",
            "__________________________________________________________________________________________________\n",
            "dropout_9 (Dropout)             (None, 28, 12)       0           conv1d_9[0][0]                   \n",
            "__________________________________________________________________________________________________\n",
            "dropout_10 (Dropout)            (None, 29, 12)       0           conv1d_10[0][0]                  \n",
            "__________________________________________________________________________________________________\n",
            "dropout_11 (Dropout)            (None, 29, 12)       0           conv1d_11[0][0]                  \n",
            "__________________________________________________________________________________________________\n",
            "dropout_4 (Dropout)             (None, 55, 24)       0           conv1d_4[0][0]                   \n",
            "__________________________________________________________________________________________________\n",
            "dropout_3 (Dropout)             (None, 56, 24)       0           conv1d_3[0][0]                   \n",
            "__________________________________________________________________________________________________\n",
            "dropout_5 (Dropout)             (None, 53, 24)       0           conv1d_5[0][0]                   \n",
            "__________________________________________________________________________________________________\n",
            "dropout_1 (Dropout)             (None, 59, 24)       0           conv1d_1[0][0]                   \n",
            "__________________________________________________________________________________________________\n",
            "dropout_2 (Dropout)             (None, 58, 24)       0           conv1d_2[0][0]                   \n",
            "__________________________________________________________________________________________________\n",
            "concatenate_3 (Concatenate)     (None, 168, 12)      0           dropout_6[0][0]                  \n",
            "                                                                 dropout_7[0][0]                  \n",
            "                                                                 dropout_8[0][0]                  \n",
            "                                                                 dropout_9[0][0]                  \n",
            "                                                                 dropout_10[0][0]                 \n",
            "                                                                 dropout_11[0][0]                 \n",
            "__________________________________________________________________________________________________\n",
            "concatenate_2 (Concatenate)     (None, 281, 24)      0           dropout_4[0][0]                  \n",
            "                                                                 dropout_3[0][0]                  \n",
            "                                                                 dropout_5[0][0]                  \n",
            "                                                                 dropout_1[0][0]                  \n",
            "                                                                 dropout_2[0][0]                  \n",
            "__________________________________________________________________________________________________\n",
            "bidirectional_3 (Bidirectional) (None, 168, 24)      2400        concatenate_3[0][0]              \n",
            "__________________________________________________________________________________________________\n",
            "concatenate_4 (Concatenate)     (None, 449, 24)      0           concatenate_2[0][0]              \n",
            "                                                                 bidirectional_3[0][0]            \n",
            "__________________________________________________________________________________________________\n",
            "max_pooling1d_1 (MaxPooling1D)  (None, 112, 24)      0           concatenate_4[0][0]              \n",
            "__________________________________________________________________________________________________\n",
            "dropout_12 (Dropout)            (None, 112, 24)      0           max_pooling1d_1[0][0]            \n",
            "__________________________________________________________________________________________________\n",
            "flatten_1 (Flatten)             (None, 2688)         0           dropout_12[0][0]                 \n",
            "__________________________________________________________________________________________________\n",
            "dense_1 (Dense)                 (None, 26)           69914       flatten_1[0][0]                  \n",
            "__________________________________________________________________________________________________\n",
            "dense_2 (Dense)                 (None, 5)            135         dense_1[0][0]                    \n",
            "==================================================================================================\n",
            "Total params: 3,318,025\n",
            "Trainable params: 1,706,925\n",
            "Non-trainable params: 1,611,100\n",
            "__________________________________________________________________________________________________\n"
          ],
          "name": "stdout"
        }
      ]
    },
    {
      "cell_type": "code",
      "metadata": {
        "id": "WTZtQ-ZYEzea",
        "colab_type": "code",
        "colab": {
          "base_uri": "https://localhost:8080/",
          "height": 1000
        },
        "outputId": "3af598cf-15f3-4acb-d391-b26f809cb9a2"
      },
      "source": [
        "print(\"Training Progress:\")\n",
        "model_log = model.fit(x_train, y_train, validation_data=(x_val, y_val),epochs=25, batch_size=128)\n",
        "\n",
        "pandas.DataFrame(model_log.history).to_csv(\"history-balance.csv\")"
      ],
      "execution_count": 41,
      "outputs": [
        {
          "output_type": "stream",
          "text": [
            "Training Progress:\n",
            "WARNING:tensorflow:From /tensorflow-1.15.2/python3.6/tensorflow_core/python/ops/math_grad.py:1424: where (from tensorflow.python.ops.array_ops) is deprecated and will be removed in a future version.\n",
            "Instructions for updating:\n",
            "Use tf.where in 2.0, which has the same broadcast rule as np.where\n",
            "WARNING:tensorflow:From /usr/local/lib/python3.6/dist-packages/keras/backend/tensorflow_backend.py:1033: The name tf.assign_add is deprecated. Please use tf.compat.v1.assign_add instead.\n",
            "\n",
            "WARNING:tensorflow:From /usr/local/lib/python3.6/dist-packages/keras/backend/tensorflow_backend.py:1020: The name tf.assign is deprecated. Please use tf.compat.v1.assign instead.\n",
            "\n",
            "Train on 40299 samples, validate on 10074 samples\n",
            "Epoch 1/25\n",
            "40299/40299 [==============================] - 141s 4ms/step - loss: 1.2252 - acc: 0.4412 - val_loss: 1.0401 - val_acc: 0.5344\n",
            "Epoch 2/25\n",
            "40299/40299 [==============================] - 134s 3ms/step - loss: 1.0453 - acc: 0.5253 - val_loss: 0.9275 - val_acc: 0.6006\n",
            "Epoch 3/25\n",
            "40299/40299 [==============================] - 136s 3ms/step - loss: 0.9559 - acc: 0.5743 - val_loss: 0.8682 - val_acc: 0.6390\n",
            "Epoch 4/25\n",
            "40299/40299 [==============================] - 134s 3ms/step - loss: 0.9049 - acc: 0.6084 - val_loss: 0.8277 - val_acc: 0.6647\n",
            "Epoch 5/25\n",
            "40299/40299 [==============================] - 135s 3ms/step - loss: 0.8660 - acc: 0.6318 - val_loss: 0.7962 - val_acc: 0.6805\n",
            "Epoch 6/25\n",
            "40299/40299 [==============================] - 135s 3ms/step - loss: 0.8305 - acc: 0.6527 - val_loss: 0.7659 - val_acc: 0.6961\n",
            "Epoch 7/25\n",
            "40299/40299 [==============================] - 135s 3ms/step - loss: 0.8045 - acc: 0.6627 - val_loss: 0.7430 - val_acc: 0.7071\n",
            "Epoch 8/25\n",
            "40299/40299 [==============================] - 135s 3ms/step - loss: 0.7803 - acc: 0.6764 - val_loss: 0.7304 - val_acc: 0.7080\n",
            "Epoch 9/25\n",
            "40299/40299 [==============================] - 138s 3ms/step - loss: 0.7618 - acc: 0.6845 - val_loss: 0.7138 - val_acc: 0.7132\n",
            "Epoch 10/25\n",
            "40299/40299 [==============================] - 135s 3ms/step - loss: 0.7499 - acc: 0.6888 - val_loss: 0.6991 - val_acc: 0.7177\n",
            "Epoch 11/25\n",
            "40299/40299 [==============================] - 135s 3ms/step - loss: 0.7360 - acc: 0.6982 - val_loss: 0.6903 - val_acc: 0.7213\n",
            "Epoch 12/25\n",
            "40299/40299 [==============================] - 136s 3ms/step - loss: 0.7314 - acc: 0.6987 - val_loss: 0.6844 - val_acc: 0.7215\n",
            "Epoch 13/25\n",
            "40299/40299 [==============================] - 135s 3ms/step - loss: 0.7204 - acc: 0.7045 - val_loss: 0.6800 - val_acc: 0.7230\n",
            "Epoch 14/25\n",
            "40299/40299 [==============================] - 140s 3ms/step - loss: 0.7148 - acc: 0.7041 - val_loss: 0.6739 - val_acc: 0.7252\n",
            "Epoch 15/25\n",
            "40299/40299 [==============================] - 135s 3ms/step - loss: 0.7079 - acc: 0.7090 - val_loss: 0.6709 - val_acc: 0.7255\n",
            "Epoch 16/25\n",
            "40299/40299 [==============================] - 134s 3ms/step - loss: 0.6985 - acc: 0.7108 - val_loss: 0.6679 - val_acc: 0.7277\n",
            "Epoch 17/25\n",
            "40299/40299 [==============================] - 136s 3ms/step - loss: 0.6958 - acc: 0.7155 - val_loss: 0.6627 - val_acc: 0.7301\n",
            "Epoch 18/25\n",
            "40299/40299 [==============================] - 140s 3ms/step - loss: 0.6928 - acc: 0.7153 - val_loss: 0.6610 - val_acc: 0.7301\n",
            "Epoch 19/25\n",
            "40299/40299 [==============================] - 135s 3ms/step - loss: 0.6884 - acc: 0.7170 - val_loss: 0.6593 - val_acc: 0.7300\n",
            "Epoch 20/25\n",
            "40299/40299 [==============================] - 137s 3ms/step - loss: 0.6837 - acc: 0.7181 - val_loss: 0.6547 - val_acc: 0.7333\n",
            "Epoch 21/25\n",
            "40299/40299 [==============================] - 136s 3ms/step - loss: 0.6779 - acc: 0.7219 - val_loss: 0.6541 - val_acc: 0.7344\n",
            "Epoch 22/25\n",
            "40299/40299 [==============================] - 135s 3ms/step - loss: 0.6760 - acc: 0.7228 - val_loss: 0.6504 - val_acc: 0.7362\n",
            "Epoch 23/25\n",
            "40299/40299 [==============================] - 137s 3ms/step - loss: 0.6730 - acc: 0.7228 - val_loss: 0.6518 - val_acc: 0.7362\n",
            "Epoch 24/25\n",
            "40299/40299 [==============================] - 135s 3ms/step - loss: 0.6729 - acc: 0.7241 - val_loss: 0.6479 - val_acc: 0.7375\n",
            "Epoch 25/25\n",
            "40299/40299 [==============================] - 136s 3ms/step - loss: 0.6678 - acc: 0.7265 - val_loss: 0.6448 - val_acc: 0.7386\n"
          ],
          "name": "stdout"
        },
        {
          "output_type": "error",
          "ename": "NameError",
          "evalue": "ignored",
          "traceback": [
            "\u001b[0;31m---------------------------------------------------------------------------\u001b[0m",
            "\u001b[0;31mNameError\u001b[0m                                 Traceback (most recent call last)",
            "\u001b[0;32m<ipython-input-41-cb9fd8fddd61>\u001b[0m in \u001b[0;36m<module>\u001b[0;34m()\u001b[0m\n\u001b[1;32m      2\u001b[0m \u001b[0mmodel_log\u001b[0m \u001b[0;34m=\u001b[0m \u001b[0mmodel\u001b[0m\u001b[0;34m.\u001b[0m\u001b[0mfit\u001b[0m\u001b[0;34m(\u001b[0m\u001b[0mx_train\u001b[0m\u001b[0;34m,\u001b[0m \u001b[0my_train\u001b[0m\u001b[0;34m,\u001b[0m \u001b[0mvalidation_data\u001b[0m\u001b[0;34m=\u001b[0m\u001b[0;34m(\u001b[0m\u001b[0mx_val\u001b[0m\u001b[0;34m,\u001b[0m \u001b[0my_val\u001b[0m\u001b[0;34m)\u001b[0m\u001b[0;34m,\u001b[0m\u001b[0mepochs\u001b[0m\u001b[0;34m=\u001b[0m\u001b[0;36m25\u001b[0m\u001b[0;34m,\u001b[0m \u001b[0mbatch_size\u001b[0m\u001b[0;34m=\u001b[0m\u001b[0;36m128\u001b[0m\u001b[0;34m)\u001b[0m\u001b[0;34m\u001b[0m\u001b[0;34m\u001b[0m\u001b[0m\n\u001b[1;32m      3\u001b[0m \u001b[0;34m\u001b[0m\u001b[0m\n\u001b[0;32m----> 4\u001b[0;31m \u001b[0mpandas\u001b[0m\u001b[0;34m.\u001b[0m\u001b[0mDataFrame\u001b[0m\u001b[0;34m(\u001b[0m\u001b[0mmodel_log\u001b[0m\u001b[0;34m.\u001b[0m\u001b[0mhistory\u001b[0m\u001b[0;34m)\u001b[0m\u001b[0;34m.\u001b[0m\u001b[0mto_csv\u001b[0m\u001b[0;34m(\u001b[0m\u001b[0;34m\"history-balance.csv\"\u001b[0m\u001b[0;34m)\u001b[0m\u001b[0;34m\u001b[0m\u001b[0;34m\u001b[0m\u001b[0m\n\u001b[0m",
            "\u001b[0;31mNameError\u001b[0m: name 'pandas' is not defined"
          ]
        }
      ]
    },
    {
      "cell_type": "code",
      "metadata": {
        "id": "qOMgvIvubXpO",
        "colab_type": "code",
        "colab": {
          "base_uri": "https://localhost:8080/",
          "height": 377
        },
        "outputId": "725eba8e-d8ef-48a5-cf15-fc919ba65310"
      },
      "source": [
        "!pip install keras==2.2.5"
      ],
      "execution_count": 156,
      "outputs": [
        {
          "output_type": "stream",
          "text": [
            "Collecting keras==2.2.5\n",
            "\u001b[?25l  Downloading https://files.pythonhosted.org/packages/f8/ba/2d058dcf1b85b9c212cc58264c98a4a7dd92c989b798823cc5690d062bb2/Keras-2.2.5-py2.py3-none-any.whl (336kB)\n",
            "\r\u001b[K     |█                               | 10kB 18.7MB/s eta 0:00:01\r\u001b[K     |██                              | 20kB 1.7MB/s eta 0:00:01\r\u001b[K     |███                             | 30kB 2.1MB/s eta 0:00:01\r\u001b[K     |████                            | 40kB 2.4MB/s eta 0:00:01\r\u001b[K     |████▉                           | 51kB 2.0MB/s eta 0:00:01\r\u001b[K     |█████▉                          | 61kB 2.3MB/s eta 0:00:01\r\u001b[K     |██████▉                         | 71kB 2.5MB/s eta 0:00:01\r\u001b[K     |███████▉                        | 81kB 2.7MB/s eta 0:00:01\r\u001b[K     |████████▊                       | 92kB 2.9MB/s eta 0:00:01\r\u001b[K     |█████████▊                      | 102kB 2.8MB/s eta 0:00:01\r\u001b[K     |██████████▊                     | 112kB 2.8MB/s eta 0:00:01\r\u001b[K     |███████████▊                    | 122kB 2.8MB/s eta 0:00:01\r\u001b[K     |████████████▊                   | 133kB 2.8MB/s eta 0:00:01\r\u001b[K     |█████████████▋                  | 143kB 2.8MB/s eta 0:00:01\r\u001b[K     |██████████████▋                 | 153kB 2.8MB/s eta 0:00:01\r\u001b[K     |███████████████▋                | 163kB 2.8MB/s eta 0:00:01\r\u001b[K     |████████████████▋               | 174kB 2.8MB/s eta 0:00:01\r\u001b[K     |█████████████████▌              | 184kB 2.8MB/s eta 0:00:01\r\u001b[K     |██████████████████▌             | 194kB 2.8MB/s eta 0:00:01\r\u001b[K     |███████████████████▌            | 204kB 2.8MB/s eta 0:00:01\r\u001b[K     |████████████████████▌           | 215kB 2.8MB/s eta 0:00:01\r\u001b[K     |█████████████████████▍          | 225kB 2.8MB/s eta 0:00:01\r\u001b[K     |██████████████████████▍         | 235kB 2.8MB/s eta 0:00:01\r\u001b[K     |███████████████████████▍        | 245kB 2.8MB/s eta 0:00:01\r\u001b[K     |████████████████████████▍       | 256kB 2.8MB/s eta 0:00:01\r\u001b[K     |█████████████████████████▍      | 266kB 2.8MB/s eta 0:00:01\r\u001b[K     |██████████████████████████▎     | 276kB 2.8MB/s eta 0:00:01\r\u001b[K     |███████████████████████████▎    | 286kB 2.8MB/s eta 0:00:01\r\u001b[K     |████████████████████████████▎   | 296kB 2.8MB/s eta 0:00:01\r\u001b[K     |█████████████████████████████▎  | 307kB 2.8MB/s eta 0:00:01\r\u001b[K     |██████████████████████████████▏ | 317kB 2.8MB/s eta 0:00:01\r\u001b[K     |███████████████████████████████▏| 327kB 2.8MB/s eta 0:00:01\r\u001b[K     |████████████████████████████████| 337kB 2.8MB/s \n",
            "\u001b[?25hRequirement already satisfied: scipy>=0.14 in /usr/local/lib/python3.6/dist-packages (from keras==2.2.5) (1.4.1)\n",
            "Requirement already satisfied: h5py in /usr/local/lib/python3.6/dist-packages (from keras==2.2.5) (2.10.0)\n",
            "Requirement already satisfied: pyyaml in /usr/local/lib/python3.6/dist-packages (from keras==2.2.5) (3.13)\n",
            "Requirement already satisfied: keras-preprocessing>=1.1.0 in /usr/local/lib/python3.6/dist-packages (from keras==2.2.5) (1.1.0)\n",
            "Requirement already satisfied: numpy>=1.9.1 in /usr/local/lib/python3.6/dist-packages (from keras==2.2.5) (1.18.2)\n",
            "Requirement already satisfied: keras-applications>=1.0.8 in /usr/local/lib/python3.6/dist-packages (from keras==2.2.5) (1.0.8)\n",
            "Requirement already satisfied: six>=1.9.0 in /usr/local/lib/python3.6/dist-packages (from keras==2.2.5) (1.12.0)\n",
            "Installing collected packages: keras\n",
            "  Found existing installation: Keras 2.3.1\n",
            "    Uninstalling Keras-2.3.1:\n",
            "      Successfully uninstalled Keras-2.3.1\n",
            "Successfully installed keras-2.2.5\n"
          ],
          "name": "stdout"
        },
        {
          "output_type": "display_data",
          "data": {
            "application/vnd.colab-display-data+json": {
              "pip_warning": {
                "packages": [
                  "keras"
                ]
              }
            }
          },
          "metadata": {
            "tags": []
          }
        }
      ]
    },
    {
      "cell_type": "code",
      "metadata": {
        "id": "HeaJAtfTzlaR",
        "colab_type": "code",
        "colab": {
          "base_uri": "https://localhost:8080/",
          "height": 258
        },
        "outputId": "cac92a9b-5df5-45c1-9a1a-402b73e39981"
      },
      "source": [
        "model_log = model.fit(x_train, y_train, validation_data=(x_val, y_val),\n",
        "          epochs=3, batch_size=128,\n",
        "          callbacks=[tensorboard, model_checkpoints])\n",
        "\n",
        "pd.DataFrame(model_log.history).to_csv(\"history-balance1.csv\")"
      ],
      "execution_count": 54,
      "outputs": [
        {
          "output_type": "stream",
          "text": [
            "Train on 40299 samples, validate on 10074 samples\n",
            "WARNING:tensorflow:From /usr/local/lib/python3.6/dist-packages/keras/callbacks.py:1122: The name tf.summary.merge_all is deprecated. Please use tf.compat.v1.summary.merge_all instead.\n",
            "\n",
            "WARNING:tensorflow:From /usr/local/lib/python3.6/dist-packages/keras/callbacks.py:1125: The name tf.summary.FileWriter is deprecated. Please use tf.compat.v1.summary.FileWriter instead.\n",
            "\n",
            "Epoch 1/3\n",
            "40299/40299 [==============================] - 134s 3ms/step - loss: 0.6677 - acc: 0.7241 - val_loss: 0.6449 - val_acc: 0.7389\n",
            "WARNING:tensorflow:From /usr/local/lib/python3.6/dist-packages/keras/callbacks.py:1265: The name tf.Summary is deprecated. Please use tf.compat.v1.Summary instead.\n",
            "\n",
            "Epoch 2/3\n",
            "40299/40299 [==============================] - 134s 3ms/step - loss: 0.6635 - acc: 0.7283 - val_loss: 0.6445 - val_acc: 0.7389\n",
            "Epoch 3/3\n",
            "40299/40299 [==============================] - 135s 3ms/step - loss: 0.6649 - acc: 0.7298 - val_loss: 0.6426 - val_acc: 0.7393\n"
          ],
          "name": "stdout"
        }
      ]
    },
    {
      "cell_type": "code",
      "metadata": {
        "id": "kYcbs_PIE4B7",
        "colab_type": "code",
        "colab": {}
      },
      "source": [
        "pd.DataFrame(model_log.history).to_csv(\"history-balance.csv\")"
      ],
      "execution_count": 0,
      "outputs": []
    },
    {
      "cell_type": "code",
      "metadata": {
        "id": "z78Lp-93E7JU",
        "colab_type": "code",
        "colab": {}
      },
      "source": [
        "from keras.models import load_model\n",
        "from sklearn.metrics import classification_report, confusion_matrix\n",
        "import matplotlib.pyplot as plt\n",
        "import numpy as np\n",
        "%config InlineBackend.figure_format = 'retina'\n",
        "import itertools, pickle\n",
        "\n",
        "with open('tokenizer.pickle', 'rb') as handle:\n",
        "    tokenizer = pickle.load(handle)\n"
      ],
      "execution_count": 0,
      "outputs": []
    },
    {
      "cell_type": "code",
      "metadata": {
        "id": "goqOyI4KFH10",
        "colab_type": "code",
        "colab": {}
      },
      "source": [
        "classes = [ \"happy\", \"sad\", \"hate\",\"anger\",\"fear\"]"
      ],
      "execution_count": 0,
      "outputs": []
    },
    {
      "cell_type": "code",
      "metadata": {
        "id": "nPDfOAy7FK3z",
        "colab_type": "code",
        "colab": {}
      },
      "source": [
        "#model_test = load_model('checkpoint-0.866.h5')\n",
        "#model_test = load_model('best_weights.h5')\n",
        "Y_test = np.argmax(y_val, axis=1) # Convert one-hot to index\n",
        "#y_pred = model_test.predict(x_val)\n",
        "y_pred = model.predict(x_val)\n",
        "y_pred_class = np.argmax(y_pred,axis=1)\n",
        "cnf_matrix = confusion_matrix(Y_test, y_pred_class)"
      ],
      "execution_count": 0,
      "outputs": []
    },
    {
      "cell_type": "code",
      "metadata": {
        "id": "-V51Zt24FOFj",
        "colab_type": "code",
        "colab": {
          "base_uri": "https://localhost:8080/",
          "height": 221
        },
        "outputId": "053a7454-2f8a-47cb-f279-d239cd7a80db"
      },
      "source": [
        "print(classification_report(Y_test, y_pred_class, target_names=classes))"
      ],
      "execution_count": 58,
      "outputs": [
        {
          "output_type": "stream",
          "text": [
            "              precision    recall  f1-score   support\n",
            "\n",
            "       happy       0.74      0.75      0.75      3889\n",
            "         sad       0.69      0.73      0.71      3847\n",
            "        hate       0.86      0.64      0.73       860\n",
            "       anger       0.88      0.72      0.80       834\n",
            "        fear       0.75      0.87      0.81       644\n",
            "\n",
            "    accuracy                           0.74     10074\n",
            "   macro avg       0.79      0.74      0.76     10074\n",
            "weighted avg       0.75      0.74      0.74     10074\n",
            "\n"
          ],
          "name": "stdout"
        }
      ]
    },
    {
      "cell_type": "code",
      "metadata": {
        "id": "4XSNDnJpFQtP",
        "colab_type": "code",
        "colab": {
          "base_uri": "https://localhost:8080/",
          "height": 742
        },
        "outputId": "4aebd796-893b-4607-bd39-24fdab81a856"
      },
      "source": [
        "def plot_confusion_matrix(cm, labels,\n",
        "                          normalize=True,\n",
        "                          title='Confusion Matrix (Validation Set)',\n",
        "                          cmap=plt.cm.Blues):\n",
        "    \"\"\"\n",
        "    This function prints and plots the confusion matrix.\n",
        "    Normalization can be applied by setting `normalize=True`.\n",
        "    \"\"\"\n",
        "    if normalize:\n",
        "        cm = cm.astype('float') / cm.sum(axis=1)[:, np.newaxis]\n",
        "        #print(\"Normalized confusion matrix\")\n",
        "    else:\n",
        "        #print('Confusion matrix, without normalization')\n",
        "        pass\n",
        "\n",
        "    #print(cm)\n",
        "\n",
        "    plt.imshow(cm, interpolation='nearest', cmap=cmap)\n",
        "    plt.title(title)\n",
        "    plt.colorbar()\n",
        "    tick_marks = np.arange(len(labels))\n",
        "    plt.xticks(tick_marks, labels, rotation=45)\n",
        "    plt.yticks(tick_marks, labels)\n",
        "\n",
        "    fmt = '.2f' if normalize else 'd'\n",
        "    thresh = cm.max() / 2.\n",
        "    for i, j in itertools.product(range(cm.shape[0]), range(cm.shape[1])):\n",
        "        plt.text(j, i, format(cm[i, j], fmt),\n",
        "                 horizontalalignment=\"center\",\n",
        "                 color=\"white\" if cm[i, j] > thresh else \"black\")\n",
        "\n",
        "    plt.tight_layout()\n",
        "    plt.ylabel('True label')\n",
        "    plt.xlabel('Predicted label')\n",
        "\n",
        "plt.figure(figsize=(20,10))\n",
        "plot_confusion_matrix(cnf_matrix, labels=classes)\n",
        "\n",
        "# precision = true_pos / (true_pos + false_pos)\n",
        "# recall = true_pos / (true_pos + false_neg)"
      ],
      "execution_count": 59,
      "outputs": [
        {
          "output_type": "display_data",
          "data": {
            "image/png": "[encoded data removed]",
            "text/plain": [
              "<Figure size 1440x720 with 2 Axes>"
            ]
          },
          "metadata": {
            "tags": [],
            "image/png": {
              "width": 838,
              "height": 725
            },
            "needs_background": "light"
          }
        }
      ]
    },
    {
      "cell_type": "code",
      "metadata": {
        "id": "WQ_nXMsXFZSq",
        "colab_type": "code",
        "colab": {}
      },
      "source": [
        "text = [\"I salute you for the bravery and sacrifice! A true hero indeed.\",\n",
        "        \"I am sorry but I trust HRW I damned sight more than the PAP and it's cronies! Off course the PAP will say that they (HRW) made things up...despite of the fact that SG is a dictator state!?\",\n",
        "        \"PAP are taking the piss again!\",\n",
        "        \"Thought he sold his kidney to buy it; Instead, he bought a kidney then bought the car Filthy rich This is why we need communism\",\n",
        "        \"Somebody needs to water Tharman's head, hair needs to be grown there\",\n",
        "        \"what a nuisance fk. a proper clean and flat footpath,,now obstructed by sharedbikes..! which idiotic MP allowed this to happen?\"\n",
        "       ]"
      ],
      "execution_count": 0,
      "outputs": []
    },
    {
      "cell_type": "code",
      "metadata": {
        "id": "T2u8V6TaFeOf",
        "colab_type": "code",
        "colab": {
          "base_uri": "https://localhost:8080/",
          "height": 343
        },
        "outputId": "56541506-5241-4517-bb3c-66d550d3d9f6"
      },
      "source": [
        "sequences_test = tokenizer.texts_to_sequences(text)\n",
        "data_int_t = pad_sequences(sequences_test, padding='pre', maxlen=(MAX_SEQUENCE_LENGTH-5))\n",
        "data_test = pad_sequences(data_int_t, padding='post', maxlen=(MAX_SEQUENCE_LENGTH))\n",
        "y_prob = model.predict(data_test)\n",
        "for n, prediction in enumerate(y_prob):\n",
        "    pred = y_prob.argmax(axis=-1)[n]\n",
        "    print(text[n],\"\\nPrediction:\",classes[pred],\"\\n\")"
      ],
      "execution_count": 61,
      "outputs": [
        {
          "output_type": "stream",
          "text": [
            "I salute you for the bravery and sacrifice! A true hero indeed. \n",
            "Prediction: happy \n",
            "\n",
            "I am sorry but I trust HRW I damned sight more than the PAP and it's cronies! Off course the PAP will say that they (HRW) made things up...despite of the fact that SG is a dictator state!? \n",
            "Prediction: sad \n",
            "\n",
            "PAP are taking the piss again! \n",
            "Prediction: sad \n",
            "\n",
            "Thought he sold his kidney to buy it; Instead, he bought a kidney then bought the car Filthy rich This is why we need communism \n",
            "Prediction: sad \n",
            "\n",
            "Somebody needs to water Tharman's head, hair needs to be grown there \n",
            "Prediction: sad \n",
            "\n",
            "what a nuisance fk. a proper clean and flat footpath,,now obstructed by sharedbikes..! which idiotic MP allowed this to happen? \n",
            "Prediction: hate \n",
            "\n"
          ],
          "name": "stdout"
        }
      ]
    },
    {
      "cell_type": "code",
      "metadata": {
        "id": "CPmJeS62Fhjy",
        "colab_type": "code",
        "colab": {}
      },
      "source": [
        "text = [\"never talk to me again\",\n",
        "        \"do not get angry or frustrated or desperate or enraged or depressed or any such thing you are all educated\",\n",
        "        \"i hate worthless insights\",\n",
        "        \"it is the worst day of my life\",\n",
        "        \"i love you mom\",\n",
        "        \"stop saying bullshit\",\n",
        "        \"congratulations on your acceptance\",\n",
        "        \"your stupidity has no limt\",\n",
        "        \"sounds like a fun plan\",\n",
        "        \"i will celebrate soon\",\n",
        "        \"the game just finished\",\n",
        "        \"you are so mean\"]"
      ],
      "execution_count": 0,
      "outputs": []
    },
    {
      "cell_type": "code",
      "metadata": {
        "id": "u3ybZF-4FnRF",
        "colab_type": "code",
        "colab": {
          "base_uri": "https://localhost:8080/",
          "height": 649
        },
        "outputId": "fc10a045-abdb-4ffb-d374-ab6f5613f01d"
      },
      "source": [
        "sequences_test = tokenizer.texts_to_sequences(text)\n",
        "data_int_t = pad_sequences(sequences_test, padding='pre', maxlen=(MAX_SEQUENCE_LENGTH-5))\n",
        "data_test = pad_sequences(data_int_t, padding='post', maxlen=(MAX_SEQUENCE_LENGTH))\n",
        "y_prob = model.predict(data_test)\n",
        "for n, prediction in enumerate(y_prob):\n",
        "    pred = y_prob.argmax(axis=-1)[n]\n",
        "    print(text[n],\"\\nPrediction:\",classes[pred],\"\\n\")"
      ],
      "execution_count": 63,
      "outputs": [
        {
          "output_type": "stream",
          "text": [
            "never talk to me again \n",
            "Prediction: sad \n",
            "\n",
            "do not get angry or frustrated or desperate or enraged or depressed or any such thing you are all educated \n",
            "Prediction: anger \n",
            "\n",
            "i hate worthless insights \n",
            "Prediction: hate \n",
            "\n",
            "it is the worst day of my life \n",
            "Prediction: sad \n",
            "\n",
            "i love you mom \n",
            "Prediction: happy \n",
            "\n",
            "stop saying bullshit \n",
            "Prediction: hate \n",
            "\n",
            "congratulations on your acceptance \n",
            "Prediction: happy \n",
            "\n",
            "your stupidity has no limt \n",
            "Prediction: sad \n",
            "\n",
            "sounds like a fun plan \n",
            "Prediction: happy \n",
            "\n",
            "i will celebrate soon \n",
            "Prediction: happy \n",
            "\n",
            "the game just finished \n",
            "Prediction: happy \n",
            "\n",
            "you are so mean \n",
            "Prediction: sad \n",
            "\n"
          ],
          "name": "stdout"
        }
      ]
    },
    {
      "cell_type": "code",
      "metadata": {
        "id": "rYGqWQAiFqNX",
        "colab_type": "code",
        "colab": {}
      },
      "source": [
        ""
      ],
      "execution_count": 0,
      "outputs": []
    }
  ]
}